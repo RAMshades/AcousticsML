{
 "cells": [
  {
   "cell_type": "markdown",
   "id": "f7893b38-9429-4afa-a78a-f9035976dc67",
   "metadata": {},
   "source": [
    "# Deep Learning Explainable AI\n",
    "In addition to the techniques presented in \"ExplainableAI-Supervised\" and \"ExplainableAI-Unsupervised\" notebooks, we can use techniques to evaluate a deep learning model's understanding of inputs. In particular, we can visual activation heatmaps of inputs to evaluate a model's understanding and its ability to predict. We will look at the case of using Mel-Frequency Cepstral Coefficients (MFCC) spectra to predict the number being said. These approaches rely on using gradients of the deep learning model and identifying which parts of the input are weighted more for a model to make a prediction. Although we will demonstrate a few examples below, other techniques exist that can produce similar results. "
   ]
  },
  {
   "cell_type": "markdown",
   "id": "92b39152-fe20-48ea-a624-ec4da16c2179",
   "metadata": {},
   "source": [
    "### Load Packages"
   ]
  },
  {
   "cell_type": "code",
   "execution_count": 1,
   "id": "225abfe4-547f-4c13-af74-f449a01d6f3e",
   "metadata": {
    "jupyter": {
     "source_hidden": true
    }
   },
   "outputs": [],
   "source": [
    "# Load Packages\n",
    "import numpy as np\n",
    "import pandas as pd\n",
    "import sklearn as sk\n",
    "import seaborn as sns\n",
    "import matplotlib.pyplot as plt\n",
    "from tqdm import tqdm\n",
    "import os\n",
    "\n",
    "import librosa \n",
    "import librosa.display\n",
    "import IPython.display as ipd\n",
    "\n",
    "from glob import glob\n",
    "import opendatasets as od "
   ]
  },
  {
   "cell_type": "markdown",
   "id": "50b03d28-bee3-494b-a60d-d0ffd74b95b0",
   "metadata": {},
   "source": [
    "### Download Data\n",
    "Similar to the \"ExplainableAI-Supervised\" notebook, we will be using the AudioMNIST dataset. The Modified National Institute of Standards and Technology (MNIST) dataset is a database that contains digits ranging from 0 to 9. This dataset is used for many applications including as a testbed for new machine learning approaches. In recent years, a new audio version of the dataset has been released called AudioMNIST. The AudioMNIST dataset is an acoustic database consisting of 30,000 recordings of spoken digits in English with 50 repetitions from 60 different speakers of different nationalities. Description of the dataset and details can be found [Becker 2024](https://www.sciencedirect.com/science/article/pii/S0016003223007536#bfn2) and [in Github](https://github.com/soerenab/AudioMNIST). Given this dataset, we will explore a feature extraction and classification approach for classifying spoken digits."
   ]
  },
  {
   "cell_type": "code",
   "execution_count": 2,
   "id": "2c6d049d-e81b-46ed-8240-65526b11e174",
   "metadata": {},
   "outputs": [
    {
     "name": "stdout",
     "output_type": "stream",
     "text": [
      "Skipping, found downloaded files in \".\\audio-mnist\" (use force=True to force download)\n"
     ]
    }
   ],
   "source": [
    "od.download('https://www.kaggle.com/datasets/sripaadsrinivasan/audio-mnist/data')"
   ]
  },
  {
   "cell_type": "markdown",
   "id": "929235c0-cc3a-41db-9dd2-02a8a062e401",
   "metadata": {},
   "source": [
    "## LIME Images\n",
    "The other benefit to LIME is to identify how deep learning models, such as convolutional neural networks (CNN), are determining their predictions. This is done in an instance by instance case where images are varied by segmenting the image into superpixels and turning those off or on. These superpixels are connected based on color, intensity, etc. Varied image outputs impact the overall prediction changing the probability of a class prediction. Below we show an example with a trained CNN to predict AudioMNIST numbers based on MFCC spectra. "
   ]
  },
  {
   "cell_type": "code",
   "execution_count": 3,
   "id": "2801535b-c6b7-4f64-aaf4-fa630c9b10fa",
   "metadata": {},
   "outputs": [],
   "source": [
    "import torch\n",
    "import torch.nn as nn\n",
    "import torch.nn.functional as F"
   ]
  },
  {
   "cell_type": "code",
   "execution_count": 4,
   "id": "fb5760f6-3edd-42ff-bdca-8901f3c914a6",
   "metadata": {
    "jupyter": {
     "source_hidden": true
    }
   },
   "outputs": [],
   "source": [
    "def extract_features_mfcc_image(file):\n",
    "    # Load audio and sample rate of audio\n",
    "    audio,sample_rate = librosa.load(file)\n",
    "    # Extract features using mel-frequency coefficient\n",
    "    mfccs = librosa.feature.mfcc(y=audio, sr=sample_rate, n_mfcc=60)\n",
    "\n",
    "    # reshape features\n",
    "    extracted_features = np.resize(mfccs,[60,25])\n",
    "    \n",
    "    # Return the extracted features\n",
    "    return extracted_features\n",
    "\n",
    "def preprocess_and_create_dataset_mfcc_image():\n",
    "    # Path of folder where the audio files are present\n",
    "    root_folder_path = \"audio-mnist/data/\"\n",
    "    # Empth List to create dataset\n",
    "    dataset = []\n",
    "    \n",
    "    # Iterating through folders where each folder has audio of each digit\n",
    "    for folder in tqdm(range(1,61)):\n",
    "        folder = os.path.join(root_folder_path,f'{folder:02d}')\n",
    "        \n",
    "        # Iterate through each file of the present folder\n",
    "        for file in os.listdir(folder):\n",
    "            # Path of the file\n",
    "            file_path = os.path.join(folder,file)\n",
    "            # Pass path of file to extracted_features() function to create features\n",
    "            extracted_features = extract_features_mfcc_image(file_path) \n",
    "            # Class of the audio,i.e., the digit it represents\n",
    "            class_label = int(file[0])\n",
    "\n",
    "            # Append a list where the feature represents a column and class of the digit represents another column\n",
    "            dataset.append([extracted_features,class_label])\n",
    "    \n",
    "    return dataset"
   ]
  },
  {
   "cell_type": "code",
   "execution_count": 5,
   "id": "44e7077c-11aa-421f-b4c6-b88225b1300e",
   "metadata": {},
   "outputs": [
    {
     "name": "stderr",
     "output_type": "stream",
     "text": [
      "100%|██████████████████████████████████████████████████████████████████████████████████| 60/60 [02:21<00:00,  2.35s/it]\n"
     ]
    }
   ],
   "source": [
    "imagedataset = preprocess_and_create_dataset_mfcc_image()"
   ]
  },
  {
   "cell_type": "code",
   "execution_count": 6,
   "id": "728ba9b6-b12e-4578-b898-2885a0b57226",
   "metadata": {
    "jupyter": {
     "source_hidden": true
    }
   },
   "outputs": [],
   "source": [
    "from torch.utils.data import DataLoader\n",
    "from torch.utils.data import random_split\n",
    "import torch.optim as optim"
   ]
  },
  {
   "cell_type": "code",
   "execution_count": 7,
   "id": "a0df127a-5906-4965-b1dc-df3c24cd88d3",
   "metadata": {
    "jupyter": {
     "source_hidden": true
    }
   },
   "outputs": [],
   "source": [
    "# split data into training and testing data\n",
    "data1,data2 = random_split(imagedataset, [.7,.3])\n",
    "train_loader = DataLoader(data1, batch_size=100, num_workers=1, shuffle=True)\n",
    "test_loader = DataLoader(data2, batch_size=1, num_workers=0, shuffle=False)"
   ]
  },
  {
   "cell_type": "markdown",
   "id": "b63ad820-0842-47ff-b8b1-cf9e38804c24",
   "metadata": {},
   "source": [
    "Create a basic CNN (Original code found [here](https://pytorch.org/tutorials/beginner/blitz/cifar10_tutorial.html))"
   ]
  },
  {
   "cell_type": "code",
   "execution_count": 8,
   "id": "306bfe59-01ff-4a52-9df9-5ec1e43b49dc",
   "metadata": {
    "jupyter": {
     "source_hidden": true
    }
   },
   "outputs": [],
   "source": [
    "# Define model\n",
    "class Net(nn.Module):\n",
    "    def __init__(self):\n",
    "        super().__init__()\n",
    "        self.conv1 = nn.Conv2d(1, 6, 5)\n",
    "        self.pool = nn.MaxPool2d(2, 2)\n",
    "        self.conv2 = nn.Conv2d(6, 16, 5)\n",
    "        self.fc1 = nn.Linear(16 * 6 * 6, 120)\n",
    "        self.fc2 = nn.Linear(120, 84)\n",
    "        self.fc3 = nn.Linear(84, 10)\n",
    "\n",
    "    def forward(self, x):\n",
    "        x = self.pool(F.relu(self.conv1(x)))\n",
    "        x = self.pool(F.relu(self.conv2(x)))\n",
    "        x = torch.flatten(x, 1) # flatten all dimensions except batch\n",
    "        x = F.relu(self.fc1(x))\n",
    "        x = F.relu(self.fc2(x))\n",
    "        x = self.fc3(x)\n",
    "        return x\n",
    "\n",
    "\n",
    "net = Net()"
   ]
  },
  {
   "cell_type": "markdown",
   "id": "fd2b251b-acf8-4580-8edb-8ede4d4a4287",
   "metadata": {},
   "source": [
    "### (Optional)\n",
    "**** Running the code below will result in creating a new model. We have included the trained model with the repository and will highlight where we can load and try the model out below ****** \n",
    "\n",
    "Define an optimization loss gradient"
   ]
  },
  {
   "cell_type": "code",
   "execution_count": 9,
   "id": "695b9fd6-b21b-497e-acb7-87a1e9baec29",
   "metadata": {
    "jupyter": {
     "source_hidden": true
    }
   },
   "outputs": [],
   "source": [
    "#criterion = nn.CrossEntropyLoss()\n",
    "#optimizer = optim.SGD(net.parameters(), lr=0.001, momentum=0.9)"
   ]
  },
  {
   "cell_type": "code",
   "execution_count": 10,
   "id": "953484cb-2a7a-4ecc-90ff-4b7efd01fb4e",
   "metadata": {
    "jupyter": {
     "source_hidden": true
    }
   },
   "outputs": [],
   "source": [
    "#for epoch in range(2):  # loop over the dataset multiple times\n",
    "#\n",
    "#    running_loss = 0.0\n",
    "#    for i, data in enumerate(train_loader, 0):\n",
    "#        # get the inputs; data is a list of [inputs, labels]\n",
    "#        inputs, labels = data\n",
    "#\n",
    "#        # zero the parameter gradients\n",
    "#        optimizer.zero_grad()\n",
    "#\n",
    "#        # forward + backward + optimize\n",
    "#        outputs = net(inputs[:,None,:,:])\n",
    "#        loss = criterion(outputs, labels)\n",
    "#        loss.backward()\n",
    "#        optimizer.step()\n",
    "#\n",
    "#        # print statistics\n",
    "#        running_loss += loss.item()\n",
    "#        if i % 20 == 19:    # print every 2000 mini-batches\n",
    "#            print(f'[{epoch + 1}, {i + 1:5d}] loss: {running_loss / 2000:.3f}')\n",
    "#            running_loss = 0.0\n",
    "#\n",
    "#print('Finished Training')"
   ]
  },
  {
   "cell_type": "code",
   "execution_count": 11,
   "id": "3034fe1b-b213-4201-9131-2c0540c41e94",
   "metadata": {
    "jupyter": {
     "source_hidden": true
    }
   },
   "outputs": [],
   "source": [
    "## Uncomment to save trained model\n",
    "#torch.save(net.state_dict(), 'cnnmodelexpai.pt')"
   ]
  },
  {
   "cell_type": "markdown",
   "id": "fee1f95d-2ca2-40a0-99fd-093297bba53e",
   "metadata": {},
   "source": [
    "### Load Trained Model "
   ]
  },
  {
   "cell_type": "code",
   "execution_count": 12,
   "id": "1c2eb6bb-02ae-4657-bbea-23421bd616ca",
   "metadata": {
    "jupyter": {
     "source_hidden": true
    }
   },
   "outputs": [
    {
     "data": {
      "text/plain": [
       "Net(\n",
       "  (conv1): Conv2d(1, 6, kernel_size=(5, 5), stride=(1, 1))\n",
       "  (pool): MaxPool2d(kernel_size=2, stride=2, padding=0, dilation=1, ceil_mode=False)\n",
       "  (conv2): Conv2d(6, 16, kernel_size=(5, 5), stride=(1, 1))\n",
       "  (fc1): Linear(in_features=576, out_features=120, bias=True)\n",
       "  (fc2): Linear(in_features=120, out_features=84, bias=True)\n",
       "  (fc3): Linear(in_features=84, out_features=10, bias=True)\n",
       ")"
      ]
     },
     "execution_count": 12,
     "metadata": {},
     "output_type": "execute_result"
    }
   ],
   "source": [
    "net = Net()\n",
    "net.load_state_dict(torch.load('cnnmodelexpai.pt', weights_only=True))\n",
    "net.eval()"
   ]
  },
  {
   "cell_type": "markdown",
   "id": "55daee33-66e6-4f3e-8533-2f9b3d63ea6c",
   "metadata": {},
   "source": [
    "We will now use our model to test on the testing dataset. "
   ]
  },
  {
   "cell_type": "code",
   "execution_count": 13,
   "id": "ba588f3c-4bde-4c1e-ad2f-6b5559261d0e",
   "metadata": {
    "jupyter": {
     "source_hidden": true
    }
   },
   "outputs": [],
   "source": [
    "predictions = []\n",
    "alllabels = []\n",
    "for i, data in enumerate(test_loader, 0):\n",
    "    # get the inputs; data is a list of [inputs, labels]\n",
    "    inputs, labels = data\n",
    "    #outputs = net(inputs[:,None,:,:])\n",
    "    with torch.no_grad():\n",
    "        output = net(inputs[:,None,:,:])\n",
    "    _, predicted_class = torch.max(output, 1)\n",
    "    predictions.append(predicted_class)\n",
    "    alllabels.append(labels)\n",
    "alllabels = torch.stack(alllabels, dim=0)\n",
    "predictions = torch.stack(predictions, dim=0)"
   ]
  },
  {
   "cell_type": "code",
   "execution_count": 14,
   "id": "4805ab87-de74-4ae8-814c-50c576438f21",
   "metadata": {},
   "outputs": [
    {
     "name": "stdout",
     "output_type": "stream",
     "text": [
      "Testing Accuracy = 0.906%\n"
     ]
    }
   ],
   "source": [
    "print(f\"Testing Accuracy = {torch.sum(alllabels==predictions)/len(alllabels):.3f}%\") "
   ]
  },
  {
   "cell_type": "markdown",
   "id": "35623ac1-4f3b-4d7d-b5ec-d83a56d6fbc5",
   "metadata": {},
   "source": [
    "#### Apply LIME \n",
    "We have trained a model with a decent accuracy score on the MFCC images but we don't understand how this model is predicting these classes from the images. In particular, it is helpful to understand what parts of the images the model is picking up on to make these predictions. This is where LIME is helpful. We will demonstrate how to apply LIME for images below."
   ]
  },
  {
   "cell_type": "code",
   "execution_count": 15,
   "id": "85c0ebef-ca18-4696-8dce-50ef9b44dbd0",
   "metadata": {
    "jupyter": {
     "source_hidden": true
    }
   },
   "outputs": [],
   "source": [
    "from lime import lime_image\n",
    "from skimage.segmentation import mark_boundaries\n",
    "from skimage.color import rgb2gray"
   ]
  },
  {
   "cell_type": "code",
   "execution_count": 16,
   "id": "f333686f-b206-4b77-94db-bff0e257125c",
   "metadata": {
    "jupyter": {
     "source_hidden": true
    }
   },
   "outputs": [],
   "source": [
    "def batch_predict(image):\n",
    "    image = rgb2gray(image)\n",
    "    image = torch.from_numpy(image[:,None,:,:])\n",
    "    with torch.no_grad():\n",
    "        logits = net(image)\n",
    "    \n",
    "    probs = F.softmax(logits, dim=1)\n",
    "    return probs.detach().cpu().numpy()"
   ]
  },
  {
   "cell_type": "code",
   "execution_count": 17,
   "id": "f0225e4e-c5cd-4e52-aa68-19102d5c26c2",
   "metadata": {
    "jupyter": {
     "source_hidden": true
    }
   },
   "outputs": [],
   "source": [
    "explainer = lime_image.LimeImageExplainer()\n",
    "dataex,labelex = data2[0]\n",
    "topclasses = 5\n",
    "\n",
    "with torch.no_grad():\n",
    "    output = net(inputs[:,None,:,:])\n",
    "output = F.softmax(output, dim=1)\n",
    "classes = np.fliplr(np.argsort(output))[0][0:topclasses]"
   ]
  },
  {
   "cell_type": "code",
   "execution_count": 18,
   "id": "2ef5d0de-5834-47db-9468-d1cde2c712c1",
   "metadata": {
    "jupyter": {
     "source_hidden": true
    }
   },
   "outputs": [
    {
     "data": {
      "application/vnd.jupyter.widget-view+json": {
       "model_id": "2d0abf341d3c4c01b231f294ddcae476",
       "version_major": 2,
       "version_minor": 0
      },
      "text/plain": [
       "  0%|          | 0/2000 [00:00<?, ?it/s]"
      ]
     },
     "metadata": {},
     "output_type": "display_data"
    }
   ],
   "source": [
    "explanation = explainer.explain_instance(dataex, \n",
    "                                         batch_predict, # classification function\n",
    "                                         top_labels=topclasses, \n",
    "                                         hide_color=0, \n",
    "                                         num_samples=2000) # number of images that will be sent to classification function"
   ]
  },
  {
   "cell_type": "code",
   "execution_count": 19,
   "id": "61a5ed66-36af-445e-a294-3b092ffa1467",
   "metadata": {
    "jupyter": {
     "source_hidden": true
    }
   },
   "outputs": [
    {
     "name": "stderr",
     "output_type": "stream",
     "text": [
      "Clipping input data to the valid range for imshow with RGB data ([0..1] for floats or [0..255] for integers). Got range [-3.127991..1.0].\n",
      "Clipping input data to the valid range for imshow with RGB data ([0..1] for floats or [0..255] for integers). Got range [-2.975014..1.0].\n",
      "Clipping input data to the valid range for imshow with RGB data ([0..1] for floats or [0..255] for integers). Got range [-2.7757666..1.0].\n",
      "Clipping input data to the valid range for imshow with RGB data ([0..1] for floats or [0..255] for integers). Got range [-1.8930172..1.0].\n",
      "Clipping input data to the valid range for imshow with RGB data ([0..1] for floats or [0..255] for integers). Got range [-3.0430655..1.0].\n"
     ]
    },
    {
     "data": {
      "image/png": "[encoded data removed]",
      "text/plain": [
       "<Figure size 640x480 with 5 Axes>"
      ]
     },
     "metadata": {},
     "output_type": "display_data"
    }
   ],
   "source": [
    "fig = plt.subplots(1, topclasses)\n",
    "for i in range(0,topclasses):\n",
    "    plt.subplot(1, topclasses, i+1)\n",
    "    temp, mask = explanation.get_image_and_mask(explanation.top_labels[i], positive_only=False, num_features=10, hide_rest=False)\n",
    "    img_boundry2 = mark_boundaries(temp/255.0, mask)\n",
    "    plt.imshow(img_boundry2)\n",
    "    plt.title(f'{classes[i]}')\n",
    "    plt.axis('off')\n",
    "plt.show()"
   ]
  },
  {
   "cell_type": "markdown",
   "id": "499e0b03-f559-4f29-853b-b2b2ea904650",
   "metadata": {},
   "source": [
    "The five plots shown are the five different classes with the highest probability from the model. In the above example, we can see the areas that the model is using to predict a class. Evaluating these sections, we can begin to understand the parts of the image the model picks out to predict each class. Further examples of LIME for images can be found in this [notebook](https://github.com/marcotcr/lime/tree/master/doc/notebooks). This approach is similar to a saliency map which is a visualization technique to highlight the most important regions of an image. "
   ]
  },
  {
   "cell_type": "markdown",
   "id": "86684e2f-34aa-432b-919e-ca61d2c2d0b6",
   "metadata": {},
   "source": [
    "## Saliency Maps \n",
    "Saliency maps are a tool for deep learning models to visualize regions in an image that are captured inside a deep learning model. This can be done by finding an $L_2$-regularised image such that the score, $S_c(I)$, for a class, $c$, is maximized as:\n",
    "$$\n",
    "    \\arg\\max_I S_c(I) - \\lambda||I||^2_2\n",
    "$$\n",
    "where $I$ is the image and $\\lambda$ is the regularisation parameter. This is found by the back-propagation method (the same method used to optimize layer weights of a model). In this approach, the weight of the model is fixed and the optimization is performed with respect to the $I$. Pixels are ranked based on their influence on the class score $S_c(I)$ and the pixels that affect the class score the most are highlighted. Although we define this briefly here, further details of this approach can be found [here](https://arxiv.org/abs/1312.6034). Below we demonstrate this technique for a particular sample of our dataset."
   ]
  },
  {
   "cell_type": "code",
   "execution_count": 20,
   "id": "2065ec94-5a12-4f72-9137-dafe84ead83b",
   "metadata": {
    "jupyter": {
     "source_hidden": true
    }
   },
   "outputs": [],
   "source": [
    "# Define saliency map function \n",
    "## This code was taken from https://github.com/sunnynevarekar/pytorch-saliency-maps/blob/master/Saliency_maps_in_pytorch.ipynb \n",
    "def saliency(img, model):\n",
    "    #we don't need gradients w.r.t. weights for a trained model\n",
    "    for param in model.parameters():\n",
    "        param.requires_grad = False\n",
    "    \n",
    "    #set model in eval mode\n",
    "    model.eval()\n",
    "    #transform input image to torch.Tensor and normalize\n",
    "    input = torch.from_numpy(img[None,None,:,:])\n",
    "\n",
    "    #we want to calculate gradient of higest score w.r.t. input\n",
    "    #so set requires_grad to True for input \n",
    "    input.requires_grad = True\n",
    "    #forward pass to calculate predictions\n",
    "    preds = model(input)\n",
    "    score, indices = torch.max(preds, 1)\n",
    "    #backward pass to get gradients of score predicted class w.r.t. input image\n",
    "    score.backward()\n",
    "    #get max along channel axis\n",
    "    slc, _ = torch.max(torch.abs(input.grad[0]), dim=0)\n",
    "    #normalize to [0..1]\n",
    "    slc = (slc - slc.min())/(slc.max()-slc.min())\n",
    "\n",
    "    #apply inverse transform on image\n",
    "    with torch.no_grad():\n",
    "        input_img = input[0]\n",
    "    #plot image and its saleincy map\n",
    "    plt.figure(figsize=(10, 10))\n",
    "    plt.subplot(1, 2, 1)\n",
    "    plt.imshow(np.transpose(input_img.detach().numpy(), (1, 2, 0)))\n",
    "    plt.xticks([])\n",
    "    plt.yticks([])\n",
    "    plt.subplot(1, 2, 2)\n",
    "    plt.imshow(slc.numpy(), cmap=plt.cm.hot)\n",
    "    plt.xticks([])\n",
    "    plt.yticks([])\n",
    "    plt.show()"
   ]
  },
  {
   "cell_type": "code",
   "execution_count": 21,
   "id": "5c28d8db-474a-41a3-a67a-927eeb4be469",
   "metadata": {},
   "outputs": [
    {
     "data": {
      "image/png": "[encoded data removed]",
      "text/plain": [
       "<Figure size 1000x1000 with 2 Axes>"
      ]
     },
     "metadata": {},
     "output_type": "display_data"
    }
   ],
   "source": [
    "saliency(dataex, net)"
   ]
  },
  {
   "cell_type": "markdown",
   "id": "ecbb26ff-62eb-4e45-a810-7b1e52eb0fdd",
   "metadata": {},
   "source": [
    "The left plot shows the original MFCC image extracted from our example sound and the right shows the saliency map. We can see certain areas of the image light up which correspond to pixels of importance, the brighter the area, the higher the importance."
   ]
  },
  {
   "cell_type": "markdown",
   "id": "49ebd0d6-74d0-489e-ae5d-69b10cd5248b",
   "metadata": {},
   "source": [
    "# Final Notes\n",
    "We have demonstrated different topics in this notebook from statistical evaluation of models to visualization of pixel activations for deep learning models. Although we have covered a large spread of methods to evaluate and understand model predictions, we would like to point out that this is only an introduction to ML model evaluation and understanding. Further research is currently being done to dive deeper into machine learning models and understand how they make highly accurate predictions. There is a growing need to understand and improve on these models ultimately improving the speed of our research and how we conduct it. As researchers, students, and model developers we must continue to push toward interpretability and develop a higher understanding of ML."
   ]
  },
  {
   "cell_type": "markdown",
   "id": "4be777e0-dc46-49be-8ec5-189f9c5ce3c3",
   "metadata": {},
   "source": [
    "# Citations\n",
    "1) Scott M. Lundberg and Su-In Lee. 2017. A unified approach to interpreting model predictions. In Proceedings of the 31st International Conference on Neural Information Processing Systems (NIPS'17). Curran Associates Inc., Red Hook, NY, USA, 4768–4777.\n",
    "2) Marco Tulio Ribeiro, Sameer Singh, and Carlos Guestrin. 2016. \"Why Should I Trust You?\": Explaining the Predictions of Any Classifier. In Proceedings of the 22nd ACM SIGKDD International Conference on Knowledge Discovery and Data Mining (KDD '16). Association for Computing Machinery, New York, NY, USA, 1135–1144. https://doi.org/10.1145/2939672.2939778\n",
    "3) Jolliffe, I. T. Principal Component Analysis. 2nd ed., Springer, 2002.\n",
    "4) Tenenbaum, J.B.; De Silva, V.; & Langford, J.C., “A global geometric framework for nonlinear dimensionality reduction,” Science 290 (5500)\n",
    "5) Borg, I.; Groenen P., “Modern Multidimensional Scaling - Theory and Applications,” Springer Series in Statistics (1997)\n",
    "6) “Web Scale K-Means clustering” D. Sculley, Proceedings of the 19th international conference on World wide web (2010)\n",
    "7) M. Belkin and P. Niyogi, \"Laplacian Eigenmaps for Dimensionality Reduction and Data Representation,\" in Neural Computation, vol. 15, no. 6, pp. 1373-1396, 1 June 2003, doi: 10.1162/089976603321780317.\n",
    "8) Davies, David L.; Bouldin, Donald W. (1979). “A Cluster Separation Measure”. IEEE Transactions on Pattern Analysis and Machine Intelligence. PAMI-1 (2): 224-227\n",
    "9) L. Breiman, “Random Forests”, Machine Learning, 45(1), 5-32, 2001.\n",
    "10) van der Maaten, L., & Hinton, G. (2008). Visualizing Data using t-SNE. Journal of Machine Learning Research, 9(86), 2579–2605. Retrieved from http://jmlr.org/papers/v9/vandermaaten08a.html\n",
    "11) Simonyan, K., Vedaldi, A., & Zisserman, A. (2014). Deep Inside Convolutional Networks: Visualising Image Classification Models and Saliency Maps. arXiv [Cs.CV]. Retrieved from http://arxiv.org/abs/1312.6034"
   ]
  }
 ],
 "metadata": {
  "kernelspec": {
   "display_name": "Python 3 (ipykernel)",
   "language": "python",
   "name": "python3"
  },
  "language_info": {
   "codemirror_mode": {
    "name": "ipython",
    "version": 3
   },
   "file_extension": ".py",
   "mimetype": "text/x-python",
   "name": "python",
   "nbconvert_exporter": "python",
   "pygments_lexer": "ipython3",
   "version": "3.11.11"
  }
 },
 "nbformat": 4,
 "nbformat_minor": 5
}
