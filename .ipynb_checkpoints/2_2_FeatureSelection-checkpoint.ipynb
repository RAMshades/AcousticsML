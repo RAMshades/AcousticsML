{
 "cells": [
  {
   "cell_type": "markdown",
   "id": "f7eec2f5-fdc7-4015-9bb7-77939d4fb7e2",
   "metadata": {},
   "source": [
    "# Feature Selection\n",
    "Features, $x$, are measurable individual and typically independent variables that are used for a model to predict an output $y$. Features have an important role in the model's ability to predict. To detail the implementation of extracting features from a signal, we invite you to look at the notebook \"FeatureExtraction\" which describes features further and their roles. Although extracting features is an important part of machine learning, selecting features to use in a model has its importance. For instance, if we train a model with many features and find that only a few features matter in overall prediction, it may seem unnecessary to input non-essential features every time. This is where feature selection plays a role. By evaluating the features and selecting key features to train a model, we can reduce the complexity of the model. Below we will go over some tips and tricks for feature selection that may prove helpful. In particular, we will be looking at some statistical tests and relationships between inputs/outputs that can help reduce the complexity of the model and may offer better performance. We will be looking at:\n",
    "\n",
    "<u>Pre-Training</u>\n",
    "1) Anova F-Test\n",
    "2) Correlation Test\n",
    "3) Variance Score\n",
    "4) Mutual Information\n",
    "\n",
    "<u>Post-Training</u>\n",
    "1) Feature Importance\n",
    "\n",
    "In addition to this notebook, we recommend looking at the \"FeatureExtraction\" notebook to understand features and how to get them from the data and the \"Explainable AI\" notebook to look at different model evaluation techniques. \n",
    "\n",
    "By: Ryan McCarthy"
   ]
  },
  {
   "cell_type": "markdown",
   "id": "4ce4423c-9b1c-4b36-b26a-84acbc3a37e8",
   "metadata": {},
   "source": [
    "### Import packages"
   ]
  },
  {
   "cell_type": "code",
   "execution_count": 1,
   "id": "8db49208-3c83-4b6f-8527-d98da7b44146",
   "metadata": {
    "jupyter": {
     "source_hidden": true
    }
   },
   "outputs": [],
   "source": [
    "import numpy as np\n",
    "import pandas as pd\n",
    "import sklearn as sk\n",
    "import seaborn as sns\n",
    "import matplotlib.pyplot as plt\n",
    "from tqdm import tqdm\n",
    "import os\n",
    "\n",
    "import librosa \n",
    "import librosa.display\n",
    "import IPython.display as ipd\n",
    "\n",
    "from glob import glob\n",
    "import opendatasets as od "
   ]
  },
  {
   "cell_type": "markdown",
   "id": "ffa1087c-8eb5-4b88-b7a5-2ae960a0e8f3",
   "metadata": {},
   "source": [
    "## Dataset\n",
    "For this notebook, we will use the major-vs-minor guitar chords data set which can be found [here](https://www.kaggle.com/datasets/mehanat96/major-vs-minor-guitar-chords/data) and downloaded using the code below. The dataset includes 500+ audio files of 1 chord played in major or minor keys. The goal of the notebook is to identify the major vs minor chords based on the feature extraction technique we choose. "
   ]
  },
  {
   "cell_type": "code",
   "execution_count": 4,
   "id": "656c0ce5-a6a8-45c2-8448-d7c306465b93",
   "metadata": {},
   "outputs": [
    {
     "name": "stdout",
     "output_type": "stream",
     "text": [
      "Skipping, found downloaded files in \".\\major-vs-minor-guitar-chords\" (use force=True to force download)\n"
     ]
    }
   ],
   "source": [
    "od.download('https://www.kaggle.com/datasets/mehanat96/major-vs-minor-guitar-chords/data')"
   ]
  },
  {
   "cell_type": "markdown",
   "id": "cec906e8-af28-43c7-ad60-ac5a5fbe37f1",
   "metadata": {},
   "source": [
    "## Feature Extraction (Tonnetz)\n",
    "We will be computing the tonal centroid features (tonnetz) which project chroma features onto a 6-dimensional basis representing the perfect fifth, minor third, and major third each as two-dimensional coordinates (Described [here](https://librosa.org/doc/0.9.2/generated/librosa.feature.tonnetz.html#librosa.feature.tonnetz) and [here](https://ofai.at/papers/oefai-tr-2006-13.pdf)). Background and musical theory on tonnetz can be found [here](http://academics.wellesley.edu/Physics/brown/pubs/cq1stPaper.pdf) and [here](https://dmitri.mycpanel.princeton.edu/tonnetzes.pdf). This is done by calculating the Constant-Q spectrum as:\n",
    "$$\n",
    "    X[k] = \\frac{1}{N[k]}\\sum_{n=0}^{N[k]-1}W[k,n]x[n]e^{\\frac{-j2\\pi Qn}{N[k]}}\n",
    "$$\n",
    "where $k$ is the digital frequency component, $N[k]$ is window in samples as $N[k] = (S/f_k)Q$ (where is frequency and $S$ is the sampling rate), $Q$ is quality factor, and $W$ is a Hamming window. The tonnetz spectra calculate a 12-bin tuned Chromagram before calculating the six-dimensional tonal centroid vector as:\n",
    "$$\n",
    "    \\zeta_n(d) = \\frac{1}{||c_n||_1}\\sum_{l=1}^{12}\\phi(d,l)c_n(l)\n",
    "$$\n",
    "where $c$ is the chroma vector, $\\phi$ is a transformation matrix, $l$ is the chroma vector pitch class, and $d$ is the six dimensions of the 6-D polytope. In the above equation, $0\\leq d \\leq 5$ and $0\\leq l \\leq 11$. The transformation matrix is described as:\n",
    "$$\n",
    "    \\phi = [\\phi_o,...,\\phi_11]\n",
    "$$\n",
    "where \n",
    "$$\n",
    "    \\phi_i = \\begin{bmatrix} \n",
    "        r_1\\sin{l\\frac{7\\pi}{6}}\\\\\n",
    "        r_1\\cos{l\\frac{7\\pi}{6}}\\\\\n",
    "        r_2\\sin{l\\frac{3\\pi}{2}}\\\\\n",
    "        r_2\\cos{l\\frac{3\\pi}{2}}\\\\\n",
    "        r_3\\sin{l\\frac{2\\pi}{3}}\\\\\n",
    "        r_3\\cos{l\\frac{2\\pi}{3}}\\\\\n",
    "    \\end{bmatrix}\n",
    "$$\n",
    "where $0\\leq l \\leq 11$, and $r_i$ are the 6-D tonal space circles based on the Fifths, Minor Thirds, and Major Thirds. Below we apply the transformation and take average and standard deviation of the spectrum for the 6-D space."
   ]
  },
  {
   "cell_type": "code",
   "execution_count": 4,
   "id": "ea71d88b-b6a5-4410-99b0-205fb2f42294",
   "metadata": {
    "jupyter": {
     "source_hidden": true
    }
   },
   "outputs": [],
   "source": [
    "def feature_extraction(path):\n",
    "    y,sr = librosa.load(path)\n",
    "    #chroma_stft = librosa.feature.chroma_stft(y=y, sr=sr,n_chroma=16,n_fft=1024//4 )#\n",
    "    chroma_stft = librosa.feature.tonnetz(y=y,sr=sr)\n",
    "    \n",
    "    # Convert an amplitude spectrogram to Decibels-scaled spectrogram.\n",
    "    DB = librosa.amplitude_to_db(chroma_stft, ref = np.max)\n",
    "    \n",
    "    # Scale the extracted features\n",
    "    extracted_features = np.concatenate((np.mean(DB.T,axis=0),np.std(DB.T,axis=0)))\n",
    "    \n",
    "    return extracted_features"
   ]
  },
  {
   "cell_type": "code",
   "execution_count": 5,
   "id": "baf2e72a-7c04-4e3d-b73e-11f72a9017e9",
   "metadata": {
    "collapsed": true,
    "jupyter": {
     "outputs_hidden": true,
     "source_hidden": true
    },
    "scrolled": true
   },
   "outputs": [
    {
     "name": "stderr",
     "output_type": "stream",
     "text": [
      "C:\\Users\\ryan-\\anaconda3\\envs\\audioenv\\Lib\\site-packages\\librosa\\core\\spectrum.py:266: UserWarning: n_fft=1024 is too large for input signal of length=896\n",
      "  warnings.warn(\n",
      "C:\\Users\\ryan-\\anaconda3\\envs\\audioenv\\Lib\\site-packages\\librosa\\core\\spectrum.py:266: UserWarning: n_fft=1024 is too large for input signal of length=776\n",
      "  warnings.warn(\n",
      "C:\\Users\\ryan-\\anaconda3\\envs\\audioenv\\Lib\\site-packages\\librosa\\core\\spectrum.py:266: UserWarning: n_fft=1024 is too large for input signal of length=789\n",
      "  warnings.warn(\n",
      "C:\\Users\\ryan-\\anaconda3\\envs\\audioenv\\Lib\\site-packages\\librosa\\core\\spectrum.py:266: UserWarning: n_fft=1024 is too large for input signal of length=920\n",
      "  warnings.warn(\n",
      "C:\\Users\\ryan-\\anaconda3\\envs\\audioenv\\Lib\\site-packages\\librosa\\core\\spectrum.py:266: UserWarning: n_fft=1024 is too large for input signal of length=821\n",
      "  warnings.warn(\n",
      "C:\\Users\\ryan-\\anaconda3\\envs\\audioenv\\Lib\\site-packages\\librosa\\core\\spectrum.py:266: UserWarning: n_fft=1024 is too large for input signal of length=958\n",
      "  warnings.warn(\n",
      "C:\\Users\\ryan-\\anaconda3\\envs\\audioenv\\Lib\\site-packages\\librosa\\core\\spectrum.py:266: UserWarning: n_fft=1024 is too large for input signal of length=814\n",
      "  warnings.warn(\n",
      "C:\\Users\\ryan-\\anaconda3\\envs\\audioenv\\Lib\\site-packages\\librosa\\core\\spectrum.py:266: UserWarning: n_fft=1024 is too large for input signal of length=915\n",
      "  warnings.warn(\n",
      "C:\\Users\\ryan-\\anaconda3\\envs\\audioenv\\Lib\\site-packages\\librosa\\core\\spectrum.py:266: UserWarning: n_fft=1024 is too large for input signal of length=677\n",
      "  warnings.warn(\n",
      "C:\\Users\\ryan-\\anaconda3\\envs\\audioenv\\Lib\\site-packages\\librosa\\core\\spectrum.py:266: UserWarning: n_fft=1024 is too large for input signal of length=1000\n",
      "  warnings.warn(\n",
      "C:\\Users\\ryan-\\anaconda3\\envs\\audioenv\\Lib\\site-packages\\librosa\\core\\spectrum.py:266: UserWarning: n_fft=1024 is too large for input signal of length=871\n",
      "  warnings.warn(\n",
      "C:\\Users\\ryan-\\anaconda3\\envs\\audioenv\\Lib\\site-packages\\librosa\\core\\spectrum.py:266: UserWarning: n_fft=1024 is too large for input signal of length=796\n",
      "  warnings.warn(\n",
      "C:\\Users\\ryan-\\anaconda3\\envs\\audioenv\\Lib\\site-packages\\librosa\\core\\spectrum.py:266: UserWarning: n_fft=1024 is too large for input signal of length=1008\n",
      "  warnings.warn(\n",
      "C:\\Users\\ryan-\\anaconda3\\envs\\audioenv\\Lib\\site-packages\\librosa\\core\\spectrum.py:266: UserWarning: n_fft=1024 is too large for input signal of length=979\n",
      "  warnings.warn(\n",
      "C:\\Users\\ryan-\\anaconda3\\envs\\audioenv\\Lib\\site-packages\\librosa\\core\\spectrum.py:266: UserWarning: n_fft=1024 is too large for input signal of length=616\n",
      "  warnings.warn(\n",
      "C:\\Users\\ryan-\\anaconda3\\envs\\audioenv\\Lib\\site-packages\\librosa\\core\\spectrum.py:266: UserWarning: n_fft=1024 is too large for input signal of length=835\n",
      "  warnings.warn(\n",
      "C:\\Users\\ryan-\\anaconda3\\envs\\audioenv\\Lib\\site-packages\\librosa\\core\\spectrum.py:266: UserWarning: n_fft=1024 is too large for input signal of length=592\n",
      "  warnings.warn(\n",
      "C:\\Users\\ryan-\\anaconda3\\envs\\audioenv\\Lib\\site-packages\\librosa\\core\\spectrum.py:266: UserWarning: n_fft=1024 is too large for input signal of length=743\n",
      "  warnings.warn(\n",
      "C:\\Users\\ryan-\\anaconda3\\envs\\audioenv\\Lib\\site-packages\\librosa\\core\\spectrum.py:266: UserWarning: n_fft=1024 is too large for input signal of length=1021\n",
      "  warnings.warn(\n",
      "C:\\Users\\ryan-\\anaconda3\\envs\\audioenv\\Lib\\site-packages\\librosa\\core\\spectrum.py:266: UserWarning: n_fft=1024 is too large for input signal of length=935\n",
      "  warnings.warn(\n",
      "C:\\Users\\ryan-\\anaconda3\\envs\\audioenv\\Lib\\site-packages\\librosa\\core\\spectrum.py:266: UserWarning: n_fft=1024 is too large for input signal of length=737\n",
      "  warnings.warn(\n",
      "C:\\Users\\ryan-\\anaconda3\\envs\\audioenv\\Lib\\site-packages\\librosa\\core\\spectrum.py:266: UserWarning: n_fft=1024 is too large for input signal of length=662\n",
      "  warnings.warn(\n",
      "C:\\Users\\ryan-\\anaconda3\\envs\\audioenv\\Lib\\site-packages\\librosa\\core\\spectrum.py:266: UserWarning: n_fft=1024 is too large for input signal of length=784\n",
      "  warnings.warn(\n",
      "C:\\Users\\ryan-\\anaconda3\\envs\\audioenv\\Lib\\site-packages\\librosa\\core\\spectrum.py:266: UserWarning: n_fft=1024 is too large for input signal of length=818\n",
      "  warnings.warn(\n",
      "C:\\Users\\ryan-\\anaconda3\\envs\\audioenv\\Lib\\site-packages\\librosa\\core\\spectrum.py:266: UserWarning: n_fft=1024 is too large for input signal of length=874\n",
      "  warnings.warn(\n",
      "C:\\Users\\ryan-\\anaconda3\\envs\\audioenv\\Lib\\site-packages\\librosa\\core\\spectrum.py:266: UserWarning: n_fft=1024 is too large for input signal of length=1023\n",
      "  warnings.warn(\n",
      "C:\\Users\\ryan-\\anaconda3\\envs\\audioenv\\Lib\\site-packages\\librosa\\core\\spectrum.py:266: UserWarning: n_fft=1024 is too large for input signal of length=986\n",
      "  warnings.warn(\n",
      "C:\\Users\\ryan-\\anaconda3\\envs\\audioenv\\Lib\\site-packages\\librosa\\core\\spectrum.py:266: UserWarning: n_fft=1024 is too large for input signal of length=981\n",
      "  warnings.warn(\n",
      "C:\\Users\\ryan-\\anaconda3\\envs\\audioenv\\Lib\\site-packages\\librosa\\core\\spectrum.py:266: UserWarning: n_fft=1024 is too large for input signal of length=663\n",
      "  warnings.warn(\n",
      "C:\\Users\\ryan-\\anaconda3\\envs\\audioenv\\Lib\\site-packages\\librosa\\core\\spectrum.py:266: UserWarning: n_fft=1024 is too large for input signal of length=750\n",
      "  warnings.warn(\n",
      "C:\\Users\\ryan-\\anaconda3\\envs\\audioenv\\Lib\\site-packages\\librosa\\core\\spectrum.py:266: UserWarning: n_fft=1024 is too large for input signal of length=733\n",
      "  warnings.warn(\n",
      "C:\\Users\\ryan-\\anaconda3\\envs\\audioenv\\Lib\\site-packages\\librosa\\core\\spectrum.py:266: UserWarning: n_fft=1024 is too large for input signal of length=724\n",
      "  warnings.warn(\n",
      "C:\\Users\\ryan-\\anaconda3\\envs\\audioenv\\Lib\\site-packages\\librosa\\core\\spectrum.py:266: UserWarning: n_fft=1024 is too large for input signal of length=785\n",
      "  warnings.warn(\n",
      "C:\\Users\\ryan-\\anaconda3\\envs\\audioenv\\Lib\\site-packages\\librosa\\core\\spectrum.py:266: UserWarning: n_fft=1024 is too large for input signal of length=699\n",
      "  warnings.warn(\n",
      "C:\\Users\\ryan-\\anaconda3\\envs\\audioenv\\Lib\\site-packages\\librosa\\core\\spectrum.py:266: UserWarning: n_fft=1024 is too large for input signal of length=557\n",
      "  warnings.warn(\n",
      "C:\\Users\\ryan-\\anaconda3\\envs\\audioenv\\Lib\\site-packages\\librosa\\core\\spectrum.py:266: UserWarning: n_fft=1024 is too large for input signal of length=822\n",
      "  warnings.warn(\n",
      "C:\\Users\\ryan-\\anaconda3\\envs\\audioenv\\Lib\\site-packages\\librosa\\core\\spectrum.py:266: UserWarning: n_fft=1024 is too large for input signal of length=923\n",
      "  warnings.warn(\n",
      "C:\\Users\\ryan-\\anaconda3\\envs\\audioenv\\Lib\\site-packages\\librosa\\core\\spectrum.py:266: UserWarning: n_fft=1024 is too large for input signal of length=970\n",
      "  warnings.warn(\n",
      "C:\\Users\\ryan-\\anaconda3\\envs\\audioenv\\Lib\\site-packages\\librosa\\core\\spectrum.py:266: UserWarning: n_fft=1024 is too large for input signal of length=824\n",
      "  warnings.warn(\n",
      "C:\\Users\\ryan-\\anaconda3\\envs\\audioenv\\Lib\\site-packages\\librosa\\core\\spectrum.py:266: UserWarning: n_fft=1024 is too large for input signal of length=640\n",
      "  warnings.warn(\n",
      "C:\\Users\\ryan-\\anaconda3\\envs\\audioenv\\Lib\\site-packages\\librosa\\core\\spectrum.py:266: UserWarning: n_fft=1024 is too large for input signal of length=755\n",
      "  warnings.warn(\n",
      "C:\\Users\\ryan-\\anaconda3\\envs\\audioenv\\Lib\\site-packages\\librosa\\core\\spectrum.py:266: UserWarning: n_fft=1024 is too large for input signal of length=669\n",
      "  warnings.warn(\n",
      "C:\\Users\\ryan-\\anaconda3\\envs\\audioenv\\Lib\\site-packages\\librosa\\core\\spectrum.py:266: UserWarning: n_fft=1024 is too large for input signal of length=690\n",
      "  warnings.warn(\n",
      "C:\\Users\\ryan-\\anaconda3\\envs\\audioenv\\Lib\\site-packages\\librosa\\core\\spectrum.py:266: UserWarning: n_fft=1024 is too large for input signal of length=855\n",
      "  warnings.warn(\n",
      "C:\\Users\\ryan-\\anaconda3\\envs\\audioenv\\Lib\\site-packages\\librosa\\core\\spectrum.py:266: UserWarning: n_fft=1024 is too large for input signal of length=881\n",
      "  warnings.warn(\n",
      "C:\\Users\\ryan-\\anaconda3\\envs\\audioenv\\Lib\\site-packages\\librosa\\core\\spectrum.py:266: UserWarning: n_fft=1024 is too large for input signal of length=829\n",
      "  warnings.warn(\n",
      "C:\\Users\\ryan-\\anaconda3\\envs\\audioenv\\Lib\\site-packages\\librosa\\core\\spectrum.py:266: UserWarning: n_fft=1024 is too large for input signal of length=996\n",
      "  warnings.warn(\n",
      "C:\\Users\\ryan-\\anaconda3\\envs\\audioenv\\Lib\\site-packages\\librosa\\core\\spectrum.py:266: UserWarning: n_fft=1024 is too large for input signal of length=905\n",
      "  warnings.warn(\n",
      "C:\\Users\\ryan-\\anaconda3\\envs\\audioenv\\Lib\\site-packages\\librosa\\core\\spectrum.py:266: UserWarning: n_fft=1024 is too large for input signal of length=692\n",
      "  warnings.warn(\n",
      "C:\\Users\\ryan-\\anaconda3\\envs\\audioenv\\Lib\\site-packages\\librosa\\core\\spectrum.py:266: UserWarning: n_fft=1024 is too large for input signal of length=815\n",
      "  warnings.warn(\n",
      "C:\\Users\\ryan-\\anaconda3\\envs\\audioenv\\Lib\\site-packages\\librosa\\core\\spectrum.py:266: UserWarning: n_fft=1024 is too large for input signal of length=908\n",
      "  warnings.warn(\n",
      "C:\\Users\\ryan-\\anaconda3\\envs\\audioenv\\Lib\\site-packages\\librosa\\core\\spectrum.py:266: UserWarning: n_fft=1024 is too large for input signal of length=946\n",
      "  warnings.warn(\n",
      "C:\\Users\\ryan-\\anaconda3\\envs\\audioenv\\Lib\\site-packages\\librosa\\core\\spectrum.py:266: UserWarning: n_fft=1024 is too large for input signal of length=666\n",
      "  warnings.warn(\n",
      "C:\\Users\\ryan-\\anaconda3\\envs\\audioenv\\Lib\\site-packages\\librosa\\core\\spectrum.py:266: UserWarning: n_fft=1024 is too large for input signal of length=1009\n",
      "  warnings.warn(\n",
      "C:\\Users\\ryan-\\anaconda3\\envs\\audioenv\\Lib\\site-packages\\librosa\\core\\spectrum.py:266: UserWarning: n_fft=1024 is too large for input signal of length=686\n",
      "  warnings.warn(\n",
      "C:\\Users\\ryan-\\anaconda3\\envs\\audioenv\\Lib\\site-packages\\librosa\\core\\spectrum.py:266: UserWarning: n_fft=1024 is too large for input signal of length=684\n",
      "  warnings.warn(\n",
      "C:\\Users\\ryan-\\anaconda3\\envs\\audioenv\\Lib\\site-packages\\librosa\\core\\spectrum.py:266: UserWarning: n_fft=1024 is too large for input signal of length=645\n",
      "  warnings.warn(\n",
      "C:\\Users\\ryan-\\anaconda3\\envs\\audioenv\\Lib\\site-packages\\librosa\\core\\spectrum.py:266: UserWarning: n_fft=1024 is too large for input signal of length=739\n",
      "  warnings.warn(\n",
      "C:\\Users\\ryan-\\anaconda3\\envs\\audioenv\\Lib\\site-packages\\librosa\\core\\spectrum.py:266: UserWarning: n_fft=1024 is too large for input signal of length=711\n",
      "  warnings.warn(\n",
      "C:\\Users\\ryan-\\anaconda3\\envs\\audioenv\\Lib\\site-packages\\librosa\\core\\spectrum.py:266: UserWarning: n_fft=1024 is too large for input signal of length=801\n",
      "  warnings.warn(\n",
      "C:\\Users\\ryan-\\anaconda3\\envs\\audioenv\\Lib\\site-packages\\librosa\\core\\spectrum.py:266: UserWarning: n_fft=1024 is too large for input signal of length=802\n",
      "  warnings.warn(\n",
      "C:\\Users\\ryan-\\anaconda3\\envs\\audioenv\\Lib\\site-packages\\librosa\\core\\spectrum.py:266: UserWarning: n_fft=1024 is too large for input signal of length=984\n",
      "  warnings.warn(\n",
      "C:\\Users\\ryan-\\anaconda3\\envs\\audioenv\\Lib\\site-packages\\librosa\\core\\spectrum.py:266: UserWarning: n_fft=1024 is too large for input signal of length=808\n",
      "  warnings.warn(\n",
      "C:\\Users\\ryan-\\anaconda3\\envs\\audioenv\\Lib\\site-packages\\librosa\\core\\spectrum.py:266: UserWarning: n_fft=1024 is too large for input signal of length=903\n",
      "  warnings.warn(\n",
      "C:\\Users\\ryan-\\anaconda3\\envs\\audioenv\\Lib\\site-packages\\librosa\\core\\spectrum.py:266: UserWarning: n_fft=1024 is too large for input signal of length=992\n",
      "  warnings.warn(\n",
      "C:\\Users\\ryan-\\anaconda3\\envs\\audioenv\\Lib\\site-packages\\librosa\\core\\spectrum.py:266: UserWarning: n_fft=1024 is too large for input signal of length=673\n",
      "  warnings.warn(\n",
      "C:\\Users\\ryan-\\anaconda3\\envs\\audioenv\\Lib\\site-packages\\librosa\\core\\spectrum.py:266: UserWarning: n_fft=1024 is too large for input signal of length=763\n",
      "  warnings.warn(\n",
      "C:\\Users\\ryan-\\anaconda3\\envs\\audioenv\\Lib\\site-packages\\librosa\\core\\spectrum.py:266: UserWarning: n_fft=1024 is too large for input signal of length=744\n",
      "  warnings.warn(\n",
      "C:\\Users\\ryan-\\anaconda3\\envs\\audioenv\\Lib\\site-packages\\librosa\\core\\spectrum.py:266: UserWarning: n_fft=1024 is too large for input signal of length=694\n",
      "  warnings.warn(\n",
      "C:\\Users\\ryan-\\anaconda3\\envs\\audioenv\\Lib\\site-packages\\librosa\\core\\spectrum.py:266: UserWarning: n_fft=1024 is too large for input signal of length=723\n",
      "  warnings.warn(\n",
      "C:\\Users\\ryan-\\anaconda3\\envs\\audioenv\\Lib\\site-packages\\librosa\\core\\spectrum.py:266: UserWarning: n_fft=1024 is too large for input signal of length=689\n",
      "  warnings.warn(\n",
      "C:\\Users\\ryan-\\anaconda3\\envs\\audioenv\\Lib\\site-packages\\librosa\\core\\spectrum.py:266: UserWarning: n_fft=1024 is too large for input signal of length=842\n",
      "  warnings.warn(\n",
      "C:\\Users\\ryan-\\anaconda3\\envs\\audioenv\\Lib\\site-packages\\librosa\\core\\spectrum.py:266: UserWarning: n_fft=1024 is too large for input signal of length=707\n",
      "  warnings.warn(\n",
      "C:\\Users\\ryan-\\anaconda3\\envs\\audioenv\\Lib\\site-packages\\librosa\\core\\spectrum.py:266: UserWarning: n_fft=1024 is too large for input signal of length=693\n",
      "  warnings.warn(\n",
      "C:\\Users\\ryan-\\anaconda3\\envs\\audioenv\\Lib\\site-packages\\librosa\\core\\spectrum.py:266: UserWarning: n_fft=1024 is too large for input signal of length=865\n",
      "  warnings.warn(\n",
      "C:\\Users\\ryan-\\anaconda3\\envs\\audioenv\\Lib\\site-packages\\librosa\\core\\spectrum.py:266: UserWarning: n_fft=1024 is too large for input signal of length=721\n",
      "  warnings.warn(\n",
      "C:\\Users\\ryan-\\anaconda3\\envs\\audioenv\\Lib\\site-packages\\librosa\\core\\spectrum.py:266: UserWarning: n_fft=1024 is too large for input signal of length=961\n",
      "  warnings.warn(\n",
      "C:\\Users\\ryan-\\anaconda3\\envs\\audioenv\\Lib\\site-packages\\librosa\\core\\spectrum.py:266: UserWarning: n_fft=1024 is too large for input signal of length=928\n",
      "  warnings.warn(\n",
      "C:\\Users\\ryan-\\anaconda3\\envs\\audioenv\\Lib\\site-packages\\librosa\\core\\spectrum.py:266: UserWarning: n_fft=1024 is too large for input signal of length=983\n",
      "  warnings.warn(\n",
      "C:\\Users\\ryan-\\anaconda3\\envs\\audioenv\\Lib\\site-packages\\librosa\\core\\spectrum.py:266: UserWarning: n_fft=1024 is too large for input signal of length=791\n",
      "  warnings.warn(\n",
      "C:\\Users\\ryan-\\anaconda3\\envs\\audioenv\\Lib\\site-packages\\librosa\\core\\spectrum.py:266: UserWarning: n_fft=1024 is too large for input signal of length=735\n",
      "  warnings.warn(\n",
      "C:\\Users\\ryan-\\anaconda3\\envs\\audioenv\\Lib\\site-packages\\librosa\\core\\spectrum.py:266: UserWarning: n_fft=1024 is too large for input signal of length=681\n",
      "  warnings.warn(\n",
      "C:\\Users\\ryan-\\anaconda3\\envs\\audioenv\\Lib\\site-packages\\librosa\\core\\spectrum.py:266: UserWarning: n_fft=1024 is too large for input signal of length=525\n",
      "  warnings.warn(\n",
      "C:\\Users\\ryan-\\anaconda3\\envs\\audioenv\\Lib\\site-packages\\librosa\\core\\spectrum.py:266: UserWarning: n_fft=1024 is too large for input signal of length=954\n",
      "  warnings.warn(\n",
      "C:\\Users\\ryan-\\anaconda3\\envs\\audioenv\\Lib\\site-packages\\librosa\\core\\spectrum.py:266: UserWarning: n_fft=1024 is too large for input signal of length=651\n",
      "  warnings.warn(\n",
      "C:\\Users\\ryan-\\anaconda3\\envs\\audioenv\\Lib\\site-packages\\librosa\\core\\spectrum.py:266: UserWarning: n_fft=1024 is too large for input signal of length=938\n",
      "  warnings.warn(\n",
      "C:\\Users\\ryan-\\anaconda3\\envs\\audioenv\\Lib\\site-packages\\librosa\\core\\spectrum.py:266: UserWarning: n_fft=1024 is too large for input signal of length=469\n",
      "  warnings.warn(\n",
      "C:\\Users\\ryan-\\anaconda3\\envs\\audioenv\\Lib\\site-packages\\librosa\\core\\spectrum.py:266: UserWarning: n_fft=1024 is too large for input signal of length=527\n",
      "  warnings.warn(\n",
      "C:\\Users\\ryan-\\anaconda3\\envs\\audioenv\\Lib\\site-packages\\librosa\\core\\spectrum.py:266: UserWarning: n_fft=1024 is too large for input signal of length=558\n",
      "  warnings.warn(\n",
      "C:\\Users\\ryan-\\anaconda3\\envs\\audioenv\\Lib\\site-packages\\librosa\\core\\spectrum.py:266: UserWarning: n_fft=1024 is too large for input signal of length=579\n",
      "  warnings.warn(\n",
      "C:\\Users\\ryan-\\anaconda3\\envs\\audioenv\\Lib\\site-packages\\librosa\\core\\spectrum.py:266: UserWarning: n_fft=1024 is too large for input signal of length=620\n",
      "  warnings.warn(\n",
      "C:\\Users\\ryan-\\anaconda3\\envs\\audioenv\\Lib\\site-packages\\librosa\\core\\spectrum.py:266: UserWarning: n_fft=1024 is too large for input signal of length=517\n",
      "  warnings.warn(\n",
      "C:\\Users\\ryan-\\anaconda3\\envs\\audioenv\\Lib\\site-packages\\librosa\\core\\spectrum.py:266: UserWarning: n_fft=1024 is too large for input signal of length=713\n",
      "  warnings.warn(\n",
      "C:\\Users\\ryan-\\anaconda3\\envs\\audioenv\\Lib\\site-packages\\librosa\\core\\spectrum.py:266: UserWarning: n_fft=1024 is too large for input signal of length=602\n",
      "  warnings.warn(\n",
      "C:\\Users\\ryan-\\anaconda3\\envs\\audioenv\\Lib\\site-packages\\librosa\\core\\spectrum.py:266: UserWarning: n_fft=1024 is too large for input signal of length=615\n",
      "  warnings.warn(\n",
      "C:\\Users\\ryan-\\anaconda3\\envs\\audioenv\\Lib\\site-packages\\librosa\\core\\spectrum.py:266: UserWarning: n_fft=1024 is too large for input signal of length=604\n",
      "  warnings.warn(\n",
      "C:\\Users\\ryan-\\anaconda3\\envs\\audioenv\\Lib\\site-packages\\librosa\\core\\spectrum.py:266: UserWarning: n_fft=1024 is too large for input signal of length=567\n",
      "  warnings.warn(\n",
      "C:\\Users\\ryan-\\anaconda3\\envs\\audioenv\\Lib\\site-packages\\librosa\\core\\spectrum.py:266: UserWarning: n_fft=1024 is too large for input signal of length=584\n",
      "  warnings.warn(\n",
      "C:\\Users\\ryan-\\anaconda3\\envs\\audioenv\\Lib\\site-packages\\librosa\\core\\spectrum.py:266: UserWarning: n_fft=1024 is too large for input signal of length=636\n",
      "  warnings.warn(\n",
      "C:\\Users\\ryan-\\anaconda3\\envs\\audioenv\\Lib\\site-packages\\librosa\\core\\spectrum.py:266: UserWarning: n_fft=1024 is too large for input signal of length=608\n",
      "  warnings.warn(\n",
      "C:\\Users\\ryan-\\anaconda3\\envs\\audioenv\\Lib\\site-packages\\librosa\\core\\spectrum.py:266: UserWarning: n_fft=1024 is too large for input signal of length=520\n",
      "  warnings.warn(\n",
      "C:\\Users\\ryan-\\anaconda3\\envs\\audioenv\\Lib\\site-packages\\librosa\\core\\spectrum.py:266: UserWarning: n_fft=1024 is too large for input signal of length=619\n",
      "  warnings.warn(\n",
      "C:\\Users\\ryan-\\anaconda3\\envs\\audioenv\\Lib\\site-packages\\librosa\\core\\spectrum.py:266: UserWarning: n_fft=1024 is too large for input signal of length=581\n",
      "  warnings.warn(\n",
      "C:\\Users\\ryan-\\anaconda3\\envs\\audioenv\\Lib\\site-packages\\librosa\\core\\spectrum.py:266: UserWarning: n_fft=1024 is too large for input signal of length=748\n",
      "  warnings.warn(\n",
      "C:\\Users\\ryan-\\anaconda3\\envs\\audioenv\\Lib\\site-packages\\librosa\\core\\spectrum.py:266: UserWarning: n_fft=1024 is too large for input signal of length=613\n",
      "  warnings.warn(\n",
      "C:\\Users\\ryan-\\anaconda3\\envs\\audioenv\\Lib\\site-packages\\librosa\\core\\spectrum.py:266: UserWarning: n_fft=1024 is too large for input signal of length=582\n",
      "  warnings.warn(\n",
      "C:\\Users\\ryan-\\anaconda3\\envs\\audioenv\\Lib\\site-packages\\librosa\\core\\spectrum.py:266: UserWarning: n_fft=1024 is too large for input signal of length=559\n",
      "  warnings.warn(\n",
      "C:\\Users\\ryan-\\anaconda3\\envs\\audioenv\\Lib\\site-packages\\librosa\\core\\spectrum.py:266: UserWarning: n_fft=1024 is too large for input signal of length=623\n",
      "  warnings.warn(\n",
      "C:\\Users\\ryan-\\anaconda3\\envs\\audioenv\\Lib\\site-packages\\librosa\\core\\spectrum.py:266: UserWarning: n_fft=1024 is too large for input signal of length=537\n",
      "  warnings.warn(\n",
      "C:\\Users\\ryan-\\anaconda3\\envs\\audioenv\\Lib\\site-packages\\librosa\\core\\spectrum.py:266: UserWarning: n_fft=1024 is too large for input signal of length=671\n",
      "  warnings.warn(\n",
      "C:\\Users\\ryan-\\anaconda3\\envs\\audioenv\\Lib\\site-packages\\librosa\\core\\spectrum.py:266: UserWarning: n_fft=1024 is too large for input signal of length=589\n",
      "  warnings.warn(\n",
      "C:\\Users\\ryan-\\anaconda3\\envs\\audioenv\\Lib\\site-packages\\librosa\\core\\spectrum.py:266: UserWarning: n_fft=1024 is too large for input signal of length=838\n",
      "  warnings.warn(\n",
      "C:\\Users\\ryan-\\anaconda3\\envs\\audioenv\\Lib\\site-packages\\librosa\\core\\spectrum.py:266: UserWarning: n_fft=1024 is too large for input signal of length=637\n",
      "  warnings.warn(\n",
      "C:\\Users\\ryan-\\anaconda3\\envs\\audioenv\\Lib\\site-packages\\librosa\\core\\spectrum.py:266: UserWarning: n_fft=1024 is too large for input signal of length=863\n",
      "  warnings.warn(\n",
      "C:\\Users\\ryan-\\anaconda3\\envs\\audioenv\\Lib\\site-packages\\librosa\\core\\spectrum.py:266: UserWarning: n_fft=1024 is too large for input signal of length=432\n",
      "  warnings.warn(\n",
      "C:\\Users\\ryan-\\anaconda3\\envs\\audioenv\\Lib\\site-packages\\librosa\\core\\spectrum.py:266: UserWarning: n_fft=1024 is too large for input signal of length=565\n",
      "  warnings.warn(\n",
      "C:\\Users\\ryan-\\anaconda3\\envs\\audioenv\\Lib\\site-packages\\librosa\\core\\spectrum.py:266: UserWarning: n_fft=1024 is too large for input signal of length=551\n",
      "  warnings.warn(\n",
      "C:\\Users\\ryan-\\anaconda3\\envs\\audioenv\\Lib\\site-packages\\librosa\\core\\spectrum.py:266: UserWarning: n_fft=1024 is too large for input signal of length=904\n",
      "  warnings.warn(\n",
      "C:\\Users\\ryan-\\anaconda3\\envs\\audioenv\\Lib\\site-packages\\librosa\\core\\spectrum.py:266: UserWarning: n_fft=1024 is too large for input signal of length=452\n",
      "  warnings.warn(\n",
      "C:\\Users\\ryan-\\anaconda3\\envs\\audioenv\\Lib\\site-packages\\librosa\\core\\spectrum.py:266: UserWarning: n_fft=1024 is too large for input signal of length=728\n",
      "  warnings.warn(\n",
      "C:\\Users\\ryan-\\anaconda3\\envs\\audioenv\\Lib\\site-packages\\librosa\\core\\spectrum.py:266: UserWarning: n_fft=1024 is too large for input signal of length=718\n",
      "  warnings.warn(\n",
      "C:\\Users\\ryan-\\anaconda3\\envs\\audioenv\\Lib\\site-packages\\librosa\\core\\spectrum.py:266: UserWarning: n_fft=1024 is too large for input signal of length=468\n",
      "  warnings.warn(\n",
      "C:\\Users\\ryan-\\anaconda3\\envs\\audioenv\\Lib\\site-packages\\librosa\\core\\spectrum.py:266: UserWarning: n_fft=1024 is too large for input signal of length=528\n",
      "  warnings.warn(\n",
      "C:\\Users\\ryan-\\anaconda3\\envs\\audioenv\\Lib\\site-packages\\librosa\\core\\spectrum.py:266: UserWarning: n_fft=1024 is too large for input signal of length=753\n",
      "  warnings.warn(\n",
      "C:\\Users\\ryan-\\anaconda3\\envs\\audioenv\\Lib\\site-packages\\librosa\\core\\spectrum.py:266: UserWarning: n_fft=1024 is too large for input signal of length=700\n",
      "  warnings.warn(\n",
      "C:\\Users\\ryan-\\anaconda3\\envs\\audioenv\\Lib\\site-packages\\librosa\\core\\spectrum.py:266: UserWarning: n_fft=1024 is too large for input signal of length=664\n",
      "  warnings.warn(\n",
      "C:\\Users\\ryan-\\anaconda3\\envs\\audioenv\\Lib\\site-packages\\librosa\\core\\spectrum.py:266: UserWarning: n_fft=1024 is too large for input signal of length=712\n",
      "  warnings.warn(\n",
      "C:\\Users\\ryan-\\anaconda3\\envs\\audioenv\\Lib\\site-packages\\librosa\\core\\spectrum.py:266: UserWarning: n_fft=1024 is too large for input signal of length=720\n",
      "  warnings.warn(\n",
      "C:\\Users\\ryan-\\anaconda3\\envs\\audioenv\\Lib\\site-packages\\librosa\\core\\spectrum.py:266: UserWarning: n_fft=1024 is too large for input signal of length=765\n",
      "  warnings.warn(\n",
      "C:\\Users\\ryan-\\anaconda3\\envs\\audioenv\\Lib\\site-packages\\librosa\\core\\spectrum.py:266: UserWarning: n_fft=1024 is too large for input signal of length=809\n",
      "  warnings.warn(\n",
      "C:\\Users\\ryan-\\anaconda3\\envs\\audioenv\\Lib\\site-packages\\librosa\\core\\spectrum.py:266: UserWarning: n_fft=1024 is too large for input signal of length=549\n",
      "  warnings.warn(\n",
      "C:\\Users\\ryan-\\anaconda3\\envs\\audioenv\\Lib\\site-packages\\librosa\\core\\spectrum.py:266: UserWarning: n_fft=1024 is too large for input signal of length=625\n",
      "  warnings.warn(\n",
      "C:\\Users\\ryan-\\anaconda3\\envs\\audioenv\\Lib\\site-packages\\librosa\\core\\spectrum.py:266: UserWarning: n_fft=1024 is too large for input signal of length=571\n",
      "  warnings.warn(\n",
      "C:\\Users\\ryan-\\anaconda3\\envs\\audioenv\\Lib\\site-packages\\librosa\\core\\spectrum.py:266: UserWarning: n_fft=1024 is too large for input signal of length=999\n",
      "  warnings.warn(\n",
      "C:\\Users\\ryan-\\anaconda3\\envs\\audioenv\\Lib\\site-packages\\librosa\\core\\spectrum.py:266: UserWarning: n_fft=1024 is too large for input signal of length=500\n",
      "  warnings.warn(\n",
      "C:\\Users\\ryan-\\anaconda3\\envs\\audioenv\\Lib\\site-packages\\librosa\\core\\spectrum.py:266: UserWarning: n_fft=1024 is too large for input signal of length=993\n",
      "  warnings.warn(\n",
      "C:\\Users\\ryan-\\anaconda3\\envs\\audioenv\\Lib\\site-packages\\librosa\\core\\spectrum.py:266: UserWarning: n_fft=1024 is too large for input signal of length=497\n",
      "  warnings.warn(\n",
      "C:\\Users\\ryan-\\anaconda3\\envs\\audioenv\\Lib\\site-packages\\librosa\\core\\spectrum.py:266: UserWarning: n_fft=1024 is too large for input signal of length=716\n",
      "  warnings.warn(\n",
      "C:\\Users\\ryan-\\anaconda3\\envs\\audioenv\\Lib\\site-packages\\librosa\\core\\spectrum.py:266: UserWarning: n_fft=1024 is too large for input signal of length=561\n",
      "  warnings.warn(\n",
      "C:\\Users\\ryan-\\anaconda3\\envs\\audioenv\\Lib\\site-packages\\librosa\\core\\spectrum.py:266: UserWarning: n_fft=1024 is too large for input signal of length=547\n",
      "  warnings.warn(\n",
      "C:\\Users\\ryan-\\anaconda3\\envs\\audioenv\\Lib\\site-packages\\librosa\\core\\spectrum.py:266: UserWarning: n_fft=1024 is too large for input signal of length=617\n",
      "  warnings.warn(\n",
      "C:\\Users\\ryan-\\anaconda3\\envs\\audioenv\\Lib\\site-packages\\librosa\\core\\spectrum.py:266: UserWarning: n_fft=1024 is too large for input signal of length=858\n",
      "  warnings.warn(\n",
      "C:\\Users\\ryan-\\anaconda3\\envs\\audioenv\\Lib\\site-packages\\librosa\\core\\spectrum.py:266: UserWarning: n_fft=1024 is too large for input signal of length=429\n",
      "  warnings.warn(\n",
      "C:\\Users\\ryan-\\anaconda3\\envs\\audioenv\\Lib\\site-packages\\librosa\\core\\spectrum.py:266: UserWarning: n_fft=1024 is too large for input signal of length=533\n",
      "  warnings.warn(\n",
      "C:\\Users\\ryan-\\anaconda3\\envs\\audioenv\\Lib\\site-packages\\librosa\\core\\spectrum.py:266: UserWarning: n_fft=1024 is too large for input signal of length=909\n",
      "  warnings.warn(\n",
      "C:\\Users\\ryan-\\anaconda3\\envs\\audioenv\\Lib\\site-packages\\librosa\\core\\spectrum.py:266: UserWarning: n_fft=1024 is too large for input signal of length=455\n",
      "  warnings.warn(\n",
      "C:\\Users\\ryan-\\anaconda3\\envs\\audioenv\\Lib\\site-packages\\librosa\\core\\spectrum.py:266: UserWarning: n_fft=1024 is too large for input signal of length=573\n",
      "  warnings.warn(\n",
      "C:\\Users\\ryan-\\anaconda3\\envs\\audioenv\\Lib\\site-packages\\librosa\\core\\spectrum.py:266: UserWarning: n_fft=1024 is too large for input signal of length=529\n",
      "  warnings.warn(\n",
      "C:\\Users\\ryan-\\anaconda3\\envs\\audioenv\\Lib\\site-packages\\librosa\\core\\spectrum.py:266: UserWarning: n_fft=1024 is too large for input signal of length=511\n",
      "  warnings.warn(\n",
      "C:\\Users\\ryan-\\anaconda3\\envs\\audioenv\\Lib\\site-packages\\librosa\\core\\spectrum.py:266: UserWarning: n_fft=1024 is too large for input signal of length=597\n",
      "  warnings.warn(\n",
      "C:\\Users\\ryan-\\anaconda3\\envs\\audioenv\\Lib\\site-packages\\librosa\\core\\spectrum.py:266: UserWarning: n_fft=1024 is too large for input signal of length=563\n",
      "  warnings.warn(\n",
      "C:\\Users\\ryan-\\anaconda3\\envs\\audioenv\\Lib\\site-packages\\librosa\\core\\spectrum.py:266: UserWarning: n_fft=1024 is too large for input signal of length=546\n",
      "  warnings.warn(\n",
      "C:\\Users\\ryan-\\anaconda3\\envs\\audioenv\\Lib\\site-packages\\librosa\\core\\spectrum.py:266: UserWarning: n_fft=1024 is too large for input signal of length=952\n",
      "  warnings.warn(\n",
      "C:\\Users\\ryan-\\anaconda3\\envs\\audioenv\\Lib\\site-packages\\librosa\\core\\spectrum.py:266: UserWarning: n_fft=1024 is too large for input signal of length=476\n",
      "  warnings.warn(\n",
      "C:\\Users\\ryan-\\anaconda3\\envs\\audioenv\\Lib\\site-packages\\librosa\\core\\spectrum.py:266: UserWarning: n_fft=1024 is too large for input signal of length=586\n",
      "  warnings.warn(\n",
      "C:\\Users\\ryan-\\anaconda3\\envs\\audioenv\\Lib\\site-packages\\librosa\\core\\spectrum.py:266: UserWarning: n_fft=1024 is too large for input signal of length=914\n",
      "  warnings.warn(\n",
      "C:\\Users\\ryan-\\anaconda3\\envs\\audioenv\\Lib\\site-packages\\librosa\\core\\spectrum.py:266: UserWarning: n_fft=1024 is too large for input signal of length=457\n",
      "  warnings.warn(\n",
      "C:\\Users\\ryan-\\anaconda3\\envs\\audioenv\\Lib\\site-packages\\librosa\\core\\spectrum.py:266: UserWarning: n_fft=1024 is too large for input signal of length=596\n",
      "  warnings.warn(\n",
      "C:\\Users\\ryan-\\anaconda3\\envs\\audioenv\\Lib\\site-packages\\librosa\\core\\spectrum.py:266: UserWarning: n_fft=1024 is too large for input signal of length=873\n",
      "  warnings.warn(\n",
      "C:\\Users\\ryan-\\anaconda3\\envs\\audioenv\\Lib\\site-packages\\librosa\\core\\spectrum.py:266: UserWarning: n_fft=1024 is too large for input signal of length=837\n",
      "  warnings.warn(\n",
      "C:\\Users\\ryan-\\anaconda3\\envs\\audioenv\\Lib\\site-packages\\librosa\\core\\spectrum.py:266: UserWarning: n_fft=1024 is too large for input signal of length=419\n",
      "  warnings.warn(\n",
      "C:\\Users\\ryan-\\anaconda3\\envs\\audioenv\\Lib\\site-packages\\librosa\\core\\spectrum.py:266: UserWarning: n_fft=1024 is too large for input signal of length=535\n",
      "  warnings.warn(\n",
      "C:\\Users\\ryan-\\anaconda3\\envs\\audioenv\\Lib\\site-packages\\librosa\\core\\spectrum.py:266: UserWarning: n_fft=1024 is too large for input signal of length=576\n",
      "  warnings.warn(\n",
      "C:\\Users\\ryan-\\anaconda3\\envs\\audioenv\\Lib\\site-packages\\librosa\\core\\spectrum.py:266: UserWarning: n_fft=1024 is too large for input signal of length=577\n",
      "  warnings.warn(\n",
      "C:\\Users\\ryan-\\anaconda3\\envs\\audioenv\\Lib\\site-packages\\librosa\\core\\spectrum.py:266: UserWarning: n_fft=1024 is too large for input signal of length=505\n",
      "  warnings.warn(\n",
      "C:\\Users\\ryan-\\anaconda3\\envs\\audioenv\\Lib\\site-packages\\librosa\\core\\spectrum.py:266: UserWarning: n_fft=1024 is too large for input signal of length=1019\n",
      "  warnings.warn(\n",
      "C:\\Users\\ryan-\\anaconda3\\envs\\audioenv\\Lib\\site-packages\\librosa\\core\\spectrum.py:266: UserWarning: n_fft=1024 is too large for input signal of length=510\n",
      "  warnings.warn(\n",
      "C:\\Users\\ryan-\\anaconda3\\envs\\audioenv\\Lib\\site-packages\\librosa\\core\\spectrum.py:266: UserWarning: n_fft=1024 is too large for input signal of length=901\n",
      "  warnings.warn(\n",
      "C:\\Users\\ryan-\\anaconda3\\envs\\audioenv\\Lib\\site-packages\\librosa\\core\\spectrum.py:266: UserWarning: n_fft=1024 is too large for input signal of length=725\n",
      "  warnings.warn(\n",
      "C:\\Users\\ryan-\\anaconda3\\envs\\audioenv\\Lib\\site-packages\\librosa\\core\\spectrum.py:266: UserWarning: n_fft=1024 is too large for input signal of length=609\n",
      "  warnings.warn(\n",
      "C:\\Users\\ryan-\\anaconda3\\envs\\audioenv\\Lib\\site-packages\\librosa\\core\\spectrum.py:266: UserWarning: n_fft=1024 is too large for input signal of length=524\n",
      "  warnings.warn(\n",
      "C:\\Users\\ryan-\\anaconda3\\envs\\audioenv\\Lib\\site-packages\\librosa\\core\\spectrum.py:266: UserWarning: n_fft=1024 is too large for input signal of length=950\n",
      "  warnings.warn(\n",
      "C:\\Users\\ryan-\\anaconda3\\envs\\audioenv\\Lib\\site-packages\\librosa\\core\\spectrum.py:266: UserWarning: n_fft=1024 is too large for input signal of length=605\n",
      "  warnings.warn(\n",
      "C:\\Users\\ryan-\\anaconda3\\envs\\audioenv\\Lib\\site-packages\\librosa\\core\\spectrum.py:266: UserWarning: n_fft=1024 is too large for input signal of length=997\n",
      "  warnings.warn(\n",
      "C:\\Users\\ryan-\\anaconda3\\envs\\audioenv\\Lib\\site-packages\\librosa\\core\\spectrum.py:266: UserWarning: n_fft=1024 is too large for input signal of length=499\n",
      "  warnings.warn(\n",
      "C:\\Users\\ryan-\\anaconda3\\envs\\audioenv\\Lib\\site-packages\\librosa\\core\\spectrum.py:266: UserWarning: n_fft=1024 is too large for input signal of length=800\n",
      "  warnings.warn(\n",
      "C:\\Users\\ryan-\\anaconda3\\envs\\audioenv\\Lib\\site-packages\\librosa\\core\\spectrum.py:266: UserWarning: n_fft=1024 is too large for input signal of length=539\n",
      "  warnings.warn(\n",
      "C:\\Users\\ryan-\\anaconda3\\envs\\audioenv\\Lib\\site-packages\\librosa\\core\\spectrum.py:266: UserWarning: n_fft=1024 is too large for input signal of length=675\n",
      "  warnings.warn(\n",
      "C:\\Users\\ryan-\\anaconda3\\envs\\audioenv\\Lib\\site-packages\\librosa\\core\\spectrum.py:266: UserWarning: n_fft=1024 is too large for input signal of length=731\n",
      "  warnings.warn(\n",
      "C:\\Users\\ryan-\\anaconda3\\envs\\audioenv\\Lib\\site-packages\\librosa\\core\\spectrum.py:266: UserWarning: n_fft=1024 is too large for input signal of length=990\n",
      "  warnings.warn(\n",
      "C:\\Users\\ryan-\\anaconda3\\envs\\audioenv\\Lib\\site-packages\\librosa\\core\\spectrum.py:266: UserWarning: n_fft=1024 is too large for input signal of length=773\n",
      "  warnings.warn(\n",
      "C:\\Users\\ryan-\\anaconda3\\envs\\audioenv\\Lib\\site-packages\\librosa\\core\\spectrum.py:266: UserWarning: n_fft=1024 is too large for input signal of length=857\n",
      "  warnings.warn(\n",
      "C:\\Users\\ryan-\\anaconda3\\envs\\audioenv\\Lib\\site-packages\\librosa\\core\\spectrum.py:266: UserWarning: n_fft=1024 is too large for input signal of length=893\n",
      "  warnings.warn(\n",
      "C:\\Users\\ryan-\\anaconda3\\envs\\audioenv\\Lib\\site-packages\\librosa\\core\\spectrum.py:266: UserWarning: n_fft=1024 is too large for input signal of length=705\n",
      "  warnings.warn(\n",
      "C:\\Users\\ryan-\\anaconda3\\envs\\audioenv\\Lib\\site-packages\\librosa\\core\\spectrum.py:266: UserWarning: n_fft=1024 is too large for input signal of length=695\n",
      "  warnings.warn(\n",
      "C:\\Users\\ryan-\\anaconda3\\envs\\audioenv\\Lib\\site-packages\\librosa\\core\\spectrum.py:266: UserWarning: n_fft=1024 is too large for input signal of length=667\n",
      "  warnings.warn(\n",
      "C:\\Users\\ryan-\\anaconda3\\envs\\audioenv\\Lib\\site-packages\\librosa\\core\\spectrum.py:266: UserWarning: n_fft=1024 is too large for input signal of length=612\n",
      "  warnings.warn(\n",
      "C:\\Users\\ryan-\\anaconda3\\envs\\audioenv\\Lib\\site-packages\\librosa\\core\\spectrum.py:266: UserWarning: n_fft=1024 is too large for input signal of length=888\n",
      "  warnings.warn(\n",
      "C:\\Users\\ryan-\\anaconda3\\envs\\audioenv\\Lib\\site-packages\\librosa\\core\\spectrum.py:266: UserWarning: n_fft=1024 is too large for input signal of length=919\n",
      "  warnings.warn(\n",
      "C:\\Users\\ryan-\\anaconda3\\envs\\audioenv\\Lib\\site-packages\\librosa\\core\\spectrum.py:266: UserWarning: n_fft=1024 is too large for input signal of length=1010\n",
      "  warnings.warn(\n",
      "C:\\Users\\ryan-\\anaconda3\\envs\\audioenv\\Lib\\site-packages\\librosa\\core\\spectrum.py:266: UserWarning: n_fft=1024 is too large for input signal of length=659\n",
      "  warnings.warn(\n",
      "C:\\Users\\ryan-\\anaconda3\\envs\\audioenv\\Lib\\site-packages\\librosa\\core\\spectrum.py:266: UserWarning: n_fft=1024 is too large for input signal of length=555\n",
      "  warnings.warn(\n",
      "C:\\Users\\ryan-\\anaconda3\\envs\\audioenv\\Lib\\site-packages\\librosa\\core\\spectrum.py:266: UserWarning: n_fft=1024 is too large for input signal of length=629\n",
      "  warnings.warn(\n",
      "C:\\Users\\ryan-\\anaconda3\\envs\\audioenv\\Lib\\site-packages\\librosa\\core\\spectrum.py:266: UserWarning: n_fft=1024 is too large for input signal of length=554\n",
      "  warnings.warn(\n",
      "C:\\Users\\ryan-\\anaconda3\\envs\\audioenv\\Lib\\site-packages\\librosa\\core\\spectrum.py:266: UserWarning: n_fft=1024 is too large for input signal of length=650\n",
      "  warnings.warn(\n",
      "C:\\Users\\ryan-\\anaconda3\\envs\\audioenv\\Lib\\site-packages\\librosa\\core\\spectrum.py:266: UserWarning: n_fft=1024 is too large for input signal of length=603\n",
      "  warnings.warn(\n",
      "C:\\Users\\ryan-\\anaconda3\\envs\\audioenv\\Lib\\site-packages\\librosa\\core\\spectrum.py:266: UserWarning: n_fft=1024 is too large for input signal of length=635\n",
      "  warnings.warn(\n",
      "C:\\Users\\ryan-\\anaconda3\\envs\\audioenv\\Lib\\site-packages\\librosa\\core\\spectrum.py:266: UserWarning: n_fft=1024 is too large for input signal of length=553\n",
      "  warnings.warn(\n",
      "C:\\Users\\ryan-\\anaconda3\\envs\\audioenv\\Lib\\site-packages\\librosa\\core\\spectrum.py:266: UserWarning: n_fft=1024 is too large for input signal of length=611\n",
      "  warnings.warn(\n",
      "C:\\Users\\ryan-\\anaconda3\\envs\\audioenv\\Lib\\site-packages\\librosa\\core\\spectrum.py:266: UserWarning: n_fft=1024 is too large for input signal of length=680\n",
      "  warnings.warn(\n",
      "C:\\Users\\ryan-\\anaconda3\\envs\\audioenv\\Lib\\site-packages\\librosa\\core\\spectrum.py:266: UserWarning: n_fft=1024 is too large for input signal of length=887\n",
      "  warnings.warn(\n",
      "C:\\Users\\ryan-\\anaconda3\\envs\\audioenv\\Lib\\site-packages\\librosa\\core\\spectrum.py:266: UserWarning: n_fft=1024 is too large for input signal of length=444\n",
      "  warnings.warn(\n",
      "C:\\Users\\ryan-\\anaconda3\\envs\\audioenv\\Lib\\site-packages\\librosa\\core\\spectrum.py:266: UserWarning: n_fft=1024 is too large for input signal of length=779\n",
      "  warnings.warn(\n",
      "C:\\Users\\ryan-\\anaconda3\\envs\\audioenv\\Lib\\site-packages\\librosa\\core\\spectrum.py:266: UserWarning: n_fft=1024 is too large for input signal of length=560\n",
      "  warnings.warn(\n",
      "C:\\Users\\ryan-\\anaconda3\\envs\\audioenv\\Lib\\site-packages\\librosa\\core\\spectrum.py:266: UserWarning: n_fft=1024 is too large for input signal of length=526\n",
      "  warnings.warn(\n",
      "C:\\Users\\ryan-\\anaconda3\\envs\\audioenv\\Lib\\site-packages\\librosa\\core\\spectrum.py:266: UserWarning: n_fft=1024 is too large for input signal of length=925\n",
      "  warnings.warn(\n",
      "C:\\Users\\ryan-\\anaconda3\\envs\\audioenv\\Lib\\site-packages\\librosa\\core\\spectrum.py:266: UserWarning: n_fft=1024 is too large for input signal of length=463\n",
      "  warnings.warn(\n",
      "C:\\Users\\ryan-\\anaconda3\\envs\\audioenv\\Lib\\site-packages\\librosa\\core\\spectrum.py:266: UserWarning: n_fft=1024 is too large for input signal of length=614\n",
      "  warnings.warn(\n",
      "C:\\Users\\ryan-\\anaconda3\\envs\\audioenv\\Lib\\site-packages\\librosa\\core\\spectrum.py:266: UserWarning: n_fft=1024 is too large for input signal of length=568\n",
      "  warnings.warn(\n",
      "C:\\Users\\ryan-\\anaconda3\\envs\\audioenv\\Lib\\site-packages\\librosa\\core\\spectrum.py:266: UserWarning: n_fft=1024 is too large for input signal of length=850\n",
      "  warnings.warn(\n",
      "C:\\Users\\ryan-\\anaconda3\\envs\\audioenv\\Lib\\site-packages\\librosa\\core\\spectrum.py:266: UserWarning: n_fft=1024 is too large for input signal of length=1003\n",
      "  warnings.warn(\n",
      "C:\\Users\\ryan-\\anaconda3\\envs\\audioenv\\Lib\\site-packages\\librosa\\core\\spectrum.py:266: UserWarning: n_fft=1024 is too large for input signal of length=685\n",
      "  warnings.warn(\n",
      "C:\\Users\\ryan-\\anaconda3\\envs\\audioenv\\Lib\\site-packages\\librosa\\core\\spectrum.py:266: UserWarning: n_fft=1024 is too large for input signal of length=593\n",
      "  warnings.warn(\n",
      "C:\\Users\\ryan-\\anaconda3\\envs\\audioenv\\Lib\\site-packages\\librosa\\core\\spectrum.py:266: UserWarning: n_fft=1024 is too large for input signal of length=607\n",
      "  warnings.warn(\n",
      "C:\\Users\\ryan-\\anaconda3\\envs\\audioenv\\Lib\\site-packages\\librosa\\core\\spectrum.py:266: UserWarning: n_fft=1024 is too large for input signal of length=633\n",
      "  warnings.warn(\n",
      "C:\\Users\\ryan-\\anaconda3\\envs\\audioenv\\Lib\\site-packages\\librosa\\core\\spectrum.py:266: UserWarning: n_fft=1024 is too large for input signal of length=564\n",
      "  warnings.warn(\n",
      "C:\\Users\\ryan-\\anaconda3\\envs\\audioenv\\Lib\\site-packages\\librosa\\core\\spectrum.py:266: UserWarning: n_fft=1024 is too large for input signal of length=599\n",
      "  warnings.warn(\n",
      "C:\\Users\\ryan-\\anaconda3\\envs\\audioenv\\Lib\\site-packages\\librosa\\core\\spectrum.py:266: UserWarning: n_fft=1024 is too large for input signal of length=569\n",
      "  warnings.warn(\n",
      "C:\\Users\\ryan-\\anaconda3\\envs\\audioenv\\Lib\\site-packages\\librosa\\core\\spectrum.py:266: UserWarning: n_fft=1024 is too large for input signal of length=606\n",
      "  warnings.warn(\n",
      "C:\\Users\\ryan-\\anaconda3\\envs\\audioenv\\Lib\\site-packages\\librosa\\core\\spectrum.py:266: UserWarning: n_fft=1024 is too large for input signal of length=540\n",
      "  warnings.warn(\n",
      "C:\\Users\\ryan-\\anaconda3\\envs\\audioenv\\Lib\\site-packages\\librosa\\core\\spectrum.py:266: UserWarning: n_fft=1024 is too large for input signal of length=594\n",
      "  warnings.warn(\n",
      "C:\\Users\\ryan-\\anaconda3\\envs\\audioenv\\Lib\\site-packages\\librosa\\core\\spectrum.py:266: UserWarning: n_fft=1024 is too large for input signal of length=624\n",
      "  warnings.warn(\n",
      "C:\\Users\\ryan-\\anaconda3\\envs\\audioenv\\Lib\\site-packages\\librosa\\core\\spectrum.py:266: UserWarning: n_fft=1024 is too large for input signal of length=957\n",
      "  warnings.warn(\n",
      "C:\\Users\\ryan-\\anaconda3\\envs\\audioenv\\Lib\\site-packages\\librosa\\core\\spectrum.py:266: UserWarning: n_fft=1024 is too large for input signal of length=479\n",
      "  warnings.warn(\n",
      "C:\\Users\\ryan-\\anaconda3\\envs\\audioenv\\Lib\\site-packages\\librosa\\core\\spectrum.py:266: UserWarning: n_fft=1024 is too large for input signal of length=977\n",
      "  warnings.warn(\n",
      "C:\\Users\\ryan-\\anaconda3\\envs\\audioenv\\Lib\\site-packages\\librosa\\core\\spectrum.py:266: UserWarning: n_fft=1024 is too large for input signal of length=489\n",
      "  warnings.warn(\n",
      "C:\\Users\\ryan-\\anaconda3\\envs\\audioenv\\Lib\\site-packages\\librosa\\core\\spectrum.py:266: UserWarning: n_fft=1024 is too large for input signal of length=856\n",
      "  warnings.warn(\n",
      "C:\\Users\\ryan-\\anaconda3\\envs\\audioenv\\Lib\\site-packages\\librosa\\core\\spectrum.py:266: UserWarning: n_fft=1024 is too large for input signal of length=428\n",
      "  warnings.warn(\n",
      "C:\\Users\\ryan-\\anaconda3\\envs\\audioenv\\Lib\\site-packages\\librosa\\core\\spectrum.py:266: UserWarning: n_fft=1024 is too large for input signal of length=880\n",
      "  warnings.warn(\n",
      "C:\\Users\\ryan-\\anaconda3\\envs\\audioenv\\Lib\\site-packages\\librosa\\core\\spectrum.py:266: UserWarning: n_fft=1024 is too large for input signal of length=440\n",
      "  warnings.warn(\n",
      "C:\\Users\\ryan-\\anaconda3\\envs\\audioenv\\Lib\\site-packages\\librosa\\core\\spectrum.py:266: UserWarning: n_fft=1024 is too large for input signal of length=460\n",
      "  warnings.warn(\n",
      "C:\\Users\\ryan-\\anaconda3\\envs\\audioenv\\Lib\\site-packages\\librosa\\core\\spectrum.py:266: UserWarning: n_fft=1024 is too large for input signal of length=552\n",
      "  warnings.warn(\n",
      "C:\\Users\\ryan-\\anaconda3\\envs\\audioenv\\Lib\\site-packages\\librosa\\core\\spectrum.py:266: UserWarning: n_fft=1024 is too large for input signal of length=627\n",
      "  warnings.warn(\n",
      "C:\\Users\\ryan-\\anaconda3\\envs\\audioenv\\Lib\\site-packages\\librosa\\core\\spectrum.py:266: UserWarning: n_fft=1024 is too large for input signal of length=967\n",
      "  warnings.warn(\n",
      "C:\\Users\\ryan-\\anaconda3\\envs\\audioenv\\Lib\\site-packages\\librosa\\core\\spectrum.py:266: UserWarning: n_fft=1024 is too large for input signal of length=902\n",
      "  warnings.warn(\n",
      "C:\\Users\\ryan-\\anaconda3\\envs\\audioenv\\Lib\\site-packages\\librosa\\core\\spectrum.py:266: UserWarning: n_fft=1024 is too large for input signal of length=691\n",
      "  warnings.warn(\n",
      "C:\\Users\\ryan-\\anaconda3\\envs\\audioenv\\Lib\\site-packages\\librosa\\core\\spectrum.py:266: UserWarning: n_fft=1024 is too large for input signal of length=932\n",
      "  warnings.warn(\n",
      "C:\\Users\\ryan-\\anaconda3\\envs\\audioenv\\Lib\\site-packages\\librosa\\core\\spectrum.py:266: UserWarning: n_fft=1024 is too large for input signal of length=805\n",
      "  warnings.warn(\n",
      "C:\\Users\\ryan-\\anaconda3\\envs\\audioenv\\Lib\\site-packages\\librosa\\core\\spectrum.py:266: UserWarning: n_fft=1024 is too large for input signal of length=840\n",
      "  warnings.warn(\n",
      "C:\\Users\\ryan-\\anaconda3\\envs\\audioenv\\Lib\\site-packages\\librosa\\core\\spectrum.py:266: UserWarning: n_fft=1024 is too large for input signal of length=965\n",
      "  warnings.warn(\n",
      "C:\\Users\\ryan-\\anaconda3\\envs\\audioenv\\Lib\\site-packages\\librosa\\core\\spectrum.py:266: UserWarning: n_fft=1024 is too large for input signal of length=622\n",
      "  warnings.warn(\n",
      "C:\\Users\\ryan-\\anaconda3\\envs\\audioenv\\Lib\\site-packages\\librosa\\core\\spectrum.py:266: UserWarning: n_fft=1024 is too large for input signal of length=634\n",
      "  warnings.warn(\n",
      "C:\\Users\\ryan-\\anaconda3\\envs\\audioenv\\Lib\\site-packages\\librosa\\core\\spectrum.py:266: UserWarning: n_fft=1024 is too large for input signal of length=566\n",
      "  warnings.warn(\n",
      "C:\\Users\\ryan-\\anaconda3\\envs\\audioenv\\Lib\\site-packages\\librosa\\core\\spectrum.py:266: UserWarning: n_fft=1024 is too large for input signal of length=771\n",
      "  warnings.warn(\n",
      "C:\\Users\\ryan-\\anaconda3\\envs\\audioenv\\Lib\\site-packages\\librosa\\core\\spectrum.py:266: UserWarning: n_fft=1024 is too large for input signal of length=688\n",
      "  warnings.warn(\n",
      "C:\\Users\\ryan-\\anaconda3\\envs\\audioenv\\Lib\\site-packages\\librosa\\core\\spectrum.py:266: UserWarning: n_fft=1024 is too large for input signal of length=660\n",
      "  warnings.warn(\n",
      "C:\\Users\\ryan-\\anaconda3\\envs\\audioenv\\Lib\\site-packages\\librosa\\core\\spectrum.py:266: UserWarning: n_fft=1024 is too large for input signal of length=774\n",
      "  warnings.warn(\n",
      "C:\\Users\\ryan-\\anaconda3\\envs\\audioenv\\Lib\\site-packages\\librosa\\core\\spectrum.py:266: UserWarning: n_fft=1024 is too large for input signal of length=595\n",
      "  warnings.warn(\n",
      "C:\\Users\\ryan-\\anaconda3\\envs\\audioenv\\Lib\\site-packages\\librosa\\core\\spectrum.py:266: UserWarning: n_fft=1024 is too large for input signal of length=641\n",
      "  warnings.warn(\n",
      "C:\\Users\\ryan-\\anaconda3\\envs\\audioenv\\Lib\\site-packages\\librosa\\core\\spectrum.py:266: UserWarning: n_fft=1024 is too large for input signal of length=797\n",
      "  warnings.warn(\n",
      "C:\\Users\\ryan-\\anaconda3\\envs\\audioenv\\Lib\\site-packages\\librosa\\core\\spectrum.py:266: UserWarning: n_fft=1024 is too large for input signal of length=591\n",
      "  warnings.warn(\n",
      "C:\\Users\\ryan-\\anaconda3\\envs\\audioenv\\Lib\\site-packages\\librosa\\core\\spectrum.py:266: UserWarning: n_fft=1024 is too large for input signal of length=521\n",
      "  warnings.warn(\n",
      "C:\\Users\\ryan-\\anaconda3\\envs\\audioenv\\Lib\\site-packages\\librosa\\core\\spectrum.py:266: UserWarning: n_fft=1024 is too large for input signal of length=1016\n",
      "  warnings.warn(\n",
      "C:\\Users\\ryan-\\anaconda3\\envs\\audioenv\\Lib\\site-packages\\librosa\\core\\spectrum.py:266: UserWarning: n_fft=1024 is too large for input signal of length=508\n",
      "  warnings.warn(\n",
      "C:\\Users\\ryan-\\anaconda3\\envs\\audioenv\\Lib\\site-packages\\librosa\\core\\spectrum.py:266: UserWarning: n_fft=1024 is too large for input signal of length=817\n",
      "  warnings.warn(\n",
      "C:\\Users\\ryan-\\anaconda3\\envs\\audioenv\\Lib\\site-packages\\librosa\\core\\spectrum.py:266: UserWarning: n_fft=1024 is too large for input signal of length=1005\n",
      "  warnings.warn(\n",
      "C:\\Users\\ryan-\\anaconda3\\envs\\audioenv\\Lib\\site-packages\\librosa\\core\\spectrum.py:266: UserWarning: n_fft=1024 is too large for input signal of length=918\n",
      "  warnings.warn(\n",
      "C:\\Users\\ryan-\\anaconda3\\envs\\audioenv\\Lib\\site-packages\\librosa\\core\\spectrum.py:266: UserWarning: n_fft=1024 is too large for input signal of length=971\n",
      "  warnings.warn(\n",
      "C:\\Users\\ryan-\\anaconda3\\envs\\audioenv\\Lib\\site-packages\\librosa\\core\\spectrum.py:266: UserWarning: n_fft=1024 is too large for input signal of length=795\n",
      "  warnings.warn(\n",
      "C:\\Users\\ryan-\\anaconda3\\envs\\audioenv\\Lib\\site-packages\\librosa\\core\\spectrum.py:266: UserWarning: n_fft=1024 is too large for input signal of length=736\n",
      "  warnings.warn(\n",
      "C:\\Users\\ryan-\\anaconda3\\envs\\audioenv\\Lib\\site-packages\\librosa\\core\\spectrum.py:266: UserWarning: n_fft=1024 is too large for input signal of length=770\n",
      "  warnings.warn(\n",
      "C:\\Users\\ryan-\\anaconda3\\envs\\audioenv\\Lib\\site-packages\\librosa\\core\\spectrum.py:266: UserWarning: n_fft=1024 is too large for input signal of length=679\n",
      "  warnings.warn(\n",
      "C:\\Users\\ryan-\\anaconda3\\envs\\audioenv\\Lib\\site-packages\\librosa\\core\\spectrum.py:266: UserWarning: n_fft=1024 is too large for input signal of length=590\n",
      "  warnings.warn(\n",
      "C:\\Users\\ryan-\\anaconda3\\envs\\audioenv\\Lib\\site-packages\\librosa\\core\\spectrum.py:266: UserWarning: n_fft=1024 is too large for input signal of length=588\n",
      "  warnings.warn(\n",
      "C:\\Users\\ryan-\\anaconda3\\envs\\audioenv\\Lib\\site-packages\\librosa\\core\\spectrum.py:266: UserWarning: n_fft=1024 is too large for input signal of length=661\n",
      "  warnings.warn(\n",
      "C:\\Users\\ryan-\\anaconda3\\envs\\audioenv\\Lib\\site-packages\\librosa\\core\\spectrum.py:266: UserWarning: n_fft=1024 is too large for input signal of length=544\n",
      "  warnings.warn(\n",
      "C:\\Users\\ryan-\\anaconda3\\envs\\audioenv\\Lib\\site-packages\\librosa\\core\\spectrum.py:266: UserWarning: n_fft=1024 is too large for input signal of length=583\n",
      "  warnings.warn(\n",
      "C:\\Users\\ryan-\\anaconda3\\envs\\audioenv\\Lib\\site-packages\\librosa\\core\\spectrum.py:266: UserWarning: n_fft=1024 is too large for input signal of length=761\n",
      "  warnings.warn(\n",
      "C:\\Users\\ryan-\\anaconda3\\envs\\audioenv\\Lib\\site-packages\\librosa\\core\\spectrum.py:266: UserWarning: n_fft=1024 is too large for input signal of length=652\n",
      "  warnings.warn(\n",
      "C:\\Users\\ryan-\\anaconda3\\envs\\audioenv\\Lib\\site-packages\\librosa\\core\\spectrum.py:266: UserWarning: n_fft=1024 is too large for input signal of length=1013\n",
      "  warnings.warn(\n",
      "C:\\Users\\ryan-\\anaconda3\\envs\\audioenv\\Lib\\site-packages\\librosa\\core\\spectrum.py:266: UserWarning: n_fft=1024 is too large for input signal of length=507\n",
      "  warnings.warn(\n",
      "C:\\Users\\ryan-\\anaconda3\\envs\\audioenv\\Lib\\site-packages\\librosa\\core\\spectrum.py:266: UserWarning: n_fft=1024 is too large for input signal of length=916\n",
      "  warnings.warn(\n",
      "C:\\Users\\ryan-\\anaconda3\\envs\\audioenv\\Lib\\site-packages\\librosa\\core\\spectrum.py:266: UserWarning: n_fft=1024 is too large for input signal of length=1007\n",
      "  warnings.warn(\n",
      "C:\\Users\\ryan-\\anaconda3\\envs\\audioenv\\Lib\\site-packages\\librosa\\core\\spectrum.py:266: UserWarning: n_fft=1024 is too large for input signal of length=504\n",
      "  warnings.warn(\n",
      "C:\\Users\\ryan-\\anaconda3\\envs\\audioenv\\Lib\\site-packages\\librosa\\core\\spectrum.py:266: UserWarning: n_fft=1024 is too large for input signal of length=945\n",
      "  warnings.warn(\n",
      "C:\\Users\\ryan-\\anaconda3\\envs\\audioenv\\Lib\\site-packages\\librosa\\core\\spectrum.py:266: UserWarning: n_fft=1024 is too large for input signal of length=473\n",
      "  warnings.warn(\n",
      "C:\\Users\\ryan-\\anaconda3\\envs\\audioenv\\Lib\\site-packages\\librosa\\core\\spectrum.py:266: UserWarning: n_fft=1024 is too large for input signal of length=670\n",
      "  warnings.warn(\n",
      "C:\\Users\\ryan-\\anaconda3\\envs\\audioenv\\Lib\\site-packages\\librosa\\core\\spectrum.py:266: UserWarning: n_fft=1024 is too large for input signal of length=462\n",
      "  warnings.warn(\n",
      "C:\\Users\\ryan-\\anaconda3\\envs\\audioenv\\Lib\\site-packages\\librosa\\core\\spectrum.py:266: UserWarning: n_fft=1024 is too large for input signal of length=912\n",
      "  warnings.warn(\n",
      "C:\\Users\\ryan-\\anaconda3\\envs\\audioenv\\Lib\\site-packages\\librosa\\core\\spectrum.py:266: UserWarning: n_fft=1024 is too large for input signal of length=456\n",
      "  warnings.warn(\n",
      "C:\\Users\\ryan-\\anaconda3\\envs\\audioenv\\Lib\\site-packages\\librosa\\core\\spectrum.py:266: UserWarning: n_fft=1024 is too large for input signal of length=513\n",
      "  warnings.warn(\n",
      "C:\\Users\\ryan-\\anaconda3\\envs\\audioenv\\Lib\\site-packages\\librosa\\core\\spectrum.py:266: UserWarning: n_fft=1024 is too large for input signal of length=562\n",
      "  warnings.warn(\n",
      "C:\\Users\\ryan-\\anaconda3\\envs\\audioenv\\Lib\\site-packages\\librosa\\core\\spectrum.py:266: UserWarning: n_fft=1024 is too large for input signal of length=490\n",
      "  warnings.warn(\n",
      "C:\\Users\\ryan-\\anaconda3\\envs\\audioenv\\Lib\\site-packages\\librosa\\core\\spectrum.py:266: UserWarning: n_fft=1024 is too large for input signal of length=516\n",
      "  warnings.warn(\n",
      "C:\\Users\\ryan-\\anaconda3\\envs\\audioenv\\Lib\\site-packages\\librosa\\core\\spectrum.py:266: UserWarning: n_fft=1024 is too large for input signal of length=783\n",
      "  warnings.warn(\n",
      "C:\\Users\\ryan-\\anaconda3\\envs\\audioenv\\Lib\\site-packages\\librosa\\core\\spectrum.py:266: UserWarning: n_fft=1024 is too large for input signal of length=580\n",
      "  warnings.warn(\n",
      "C:\\Users\\ryan-\\anaconda3\\envs\\audioenv\\Lib\\site-packages\\librosa\\core\\spectrum.py:266: UserWarning: n_fft=1024 is too large for input signal of length=1018\n",
      "  warnings.warn(\n",
      "C:\\Users\\ryan-\\anaconda3\\envs\\audioenv\\Lib\\site-packages\\librosa\\core\\spectrum.py:266: UserWarning: n_fft=1024 is too large for input signal of length=509\n",
      "  warnings.warn(\n",
      "C:\\Users\\ryan-\\anaconda3\\envs\\audioenv\\Lib\\site-packages\\librosa\\core\\spectrum.py:266: UserWarning: n_fft=1024 is too large for input signal of length=816\n",
      "  warnings.warn(\n",
      "C:\\Users\\ryan-\\anaconda3\\envs\\audioenv\\Lib\\site-packages\\librosa\\core\\spectrum.py:266: UserWarning: n_fft=1024 is too large for input signal of length=570\n",
      "  warnings.warn(\n",
      "C:\\Users\\ryan-\\anaconda3\\envs\\audioenv\\Lib\\site-packages\\librosa\\core\\spectrum.py:266: UserWarning: n_fft=1024 is too large for input signal of length=649\n",
      "  warnings.warn(\n",
      "C:\\Users\\ryan-\\anaconda3\\envs\\audioenv\\Lib\\site-packages\\librosa\\core\\spectrum.py:266: UserWarning: n_fft=1024 is too large for input signal of length=532\n",
      "  warnings.warn(\n",
      "C:\\Users\\ryan-\\anaconda3\\envs\\audioenv\\Lib\\site-packages\\librosa\\core\\spectrum.py:266: UserWarning: n_fft=1024 is too large for input signal of length=530\n",
      "  warnings.warn(\n",
      "C:\\Users\\ryan-\\anaconda3\\envs\\audioenv\\Lib\\site-packages\\librosa\\core\\spectrum.py:266: UserWarning: n_fft=1024 is too large for input signal of length=279\n",
      "  warnings.warn(\n",
      "C:\\Users\\ryan-\\anaconda3\\envs\\audioenv\\Lib\\site-packages\\librosa\\core\\spectrum.py:266: UserWarning: n_fft=1024 is too large for input signal of length=672\n",
      "  warnings.warn(\n",
      "C:\\Users\\ryan-\\anaconda3\\envs\\audioenv\\Lib\\site-packages\\librosa\\core\\spectrum.py:266: UserWarning: n_fft=1024 is too large for input signal of length=985\n",
      "  warnings.warn(\n",
      "C:\\Users\\ryan-\\anaconda3\\envs\\audioenv\\Lib\\site-packages\\librosa\\core\\spectrum.py:266: UserWarning: n_fft=1024 is too large for input signal of length=493\n",
      "  warnings.warn(\n",
      "C:\\Users\\ryan-\\anaconda3\\envs\\audioenv\\Lib\\site-packages\\librosa\\core\\spectrum.py:266: UserWarning: n_fft=1024 is too large for input signal of length=891\n",
      "  warnings.warn(\n",
      "C:\\Users\\ryan-\\anaconda3\\envs\\audioenv\\Lib\\site-packages\\librosa\\core\\spectrum.py:266: UserWarning: n_fft=1024 is too large for input signal of length=446\n",
      "  warnings.warn(\n",
      "C:\\Users\\ryan-\\anaconda3\\envs\\audioenv\\Lib\\site-packages\\librosa\\core\\spectrum.py:266: UserWarning: n_fft=1024 is too large for input signal of length=502\n",
      "  warnings.warn(\n",
      "C:\\Users\\ryan-\\anaconda3\\envs\\audioenv\\Lib\\site-packages\\librosa\\core\\spectrum.py:266: UserWarning: n_fft=1024 is too large for input signal of length=987\n",
      "  warnings.warn(\n",
      "C:\\Users\\ryan-\\anaconda3\\envs\\audioenv\\Lib\\site-packages\\librosa\\core\\spectrum.py:266: UserWarning: n_fft=1024 is too large for input signal of length=494\n",
      "  warnings.warn(\n",
      "C:\\Users\\ryan-\\anaconda3\\envs\\audioenv\\Lib\\site-packages\\librosa\\core\\spectrum.py:266: UserWarning: n_fft=1024 is too large for input signal of length=757\n",
      "  warnings.warn(\n",
      "C:\\Users\\ryan-\\anaconda3\\envs\\audioenv\\Lib\\site-packages\\librosa\\core\\spectrum.py:266: UserWarning: n_fft=1024 is too large for input signal of length=379\n",
      "  warnings.warn(\n",
      "C:\\Users\\ryan-\\anaconda3\\envs\\audioenv\\Lib\\site-packages\\librosa\\core\\spectrum.py:266: UserWarning: n_fft=1024 is too large for input signal of length=392\n",
      "  warnings.warn(\n",
      "C:\\Users\\ryan-\\anaconda3\\envs\\audioenv\\Lib\\site-packages\\librosa\\core\\spectrum.py:266: UserWarning: n_fft=1024 is too large for input signal of length=412\n",
      "  warnings.warn(\n",
      "C:\\Users\\ryan-\\anaconda3\\envs\\audioenv\\Lib\\site-packages\\librosa\\core\\spectrum.py:266: UserWarning: n_fft=1024 is too large for input signal of length=806\n",
      "  warnings.warn(\n",
      "C:\\Users\\ryan-\\anaconda3\\envs\\audioenv\\Lib\\site-packages\\librosa\\core\\spectrum.py:266: UserWarning: n_fft=1024 is too large for input signal of length=403\n",
      "  warnings.warn(\n",
      "C:\\Users\\ryan-\\anaconda3\\envs\\audioenv\\Lib\\site-packages\\librosa\\core\\spectrum.py:266: UserWarning: n_fft=1024 is too large for input signal of length=937\n",
      "  warnings.warn(\n",
      "C:\\Users\\ryan-\\anaconda3\\envs\\audioenv\\Lib\\site-packages\\librosa\\core\\spectrum.py:266: UserWarning: n_fft=1024 is too large for input signal of length=503\n",
      "  warnings.warn(\n",
      "C:\\Users\\ryan-\\anaconda3\\envs\\audioenv\\Lib\\site-packages\\librosa\\core\\spectrum.py:266: UserWarning: n_fft=1024 is too large for input signal of length=951\n",
      "  warnings.warn(\n",
      "C:\\Users\\ryan-\\anaconda3\\envs\\audioenv\\Lib\\site-packages\\librosa\\core\\spectrum.py:266: UserWarning: n_fft=1024 is too large for input signal of length=864\n",
      "  warnings.warn(\n",
      "C:\\Users\\ryan-\\anaconda3\\envs\\audioenv\\Lib\\site-packages\\librosa\\core\\spectrum.py:266: UserWarning: n_fft=1024 is too large for input signal of length=1002\n",
      "  warnings.warn(\n",
      "C:\\Users\\ryan-\\anaconda3\\envs\\audioenv\\Lib\\site-packages\\librosa\\core\\spectrum.py:266: UserWarning: n_fft=1024 is too large for input signal of length=501\n",
      "  warnings.warn(\n",
      "C:\\Users\\ryan-\\anaconda3\\envs\\audioenv\\Lib\\site-packages\\librosa\\core\\spectrum.py:266: UserWarning: n_fft=1024 is too large for input signal of length=955\n",
      "  warnings.warn(\n",
      "C:\\Users\\ryan-\\anaconda3\\envs\\audioenv\\Lib\\site-packages\\librosa\\core\\spectrum.py:266: UserWarning: n_fft=1024 is too large for input signal of length=478\n",
      "  warnings.warn(\n",
      "C:\\Users\\ryan-\\anaconda3\\envs\\audioenv\\Lib\\site-packages\\librosa\\core\\spectrum.py:266: UserWarning: n_fft=1024 is too large for input signal of length=947\n",
      "  warnings.warn(\n",
      "C:\\Users\\ryan-\\anaconda3\\envs\\audioenv\\Lib\\site-packages\\librosa\\core\\spectrum.py:266: UserWarning: n_fft=1024 is too large for input signal of length=474\n",
      "  warnings.warn(\n",
      "C:\\Users\\ryan-\\anaconda3\\envs\\audioenv\\Lib\\site-packages\\librosa\\core\\spectrum.py:266: UserWarning: n_fft=1024 is too large for input signal of length=420\n",
      "  warnings.warn(\n",
      "C:\\Users\\ryan-\\anaconda3\\envs\\audioenv\\Lib\\site-packages\\librosa\\core\\spectrum.py:266: UserWarning: n_fft=1024 is too large for input signal of length=464\n",
      "  warnings.warn(\n"
     ]
    }
   ],
   "source": [
    "path = 'major-vs-minor-guitar-chords/shords_dataset/'\n",
    "\n",
    "data = []\n",
    "max_harm_length = 0 # for track of max harmonic length to name columns\n",
    "\n",
    "for dirn, _, files in os.walk(path):\n",
    "    for file in files:\n",
    "        folder = os.path.basename(dirn)\n",
    "        full_path = os.path.join(dirn, file)\n",
    "        freq_peaks = feature_extraction(full_path)\n",
    "        \n",
    "        cur_data = [folder]\n",
    "        cur_data.extend(freq_peaks)\n",
    "        \n",
    "        data.append(cur_data)\n",
    "\n",
    "data = pd.DataFrame(data)"
   ]
  },
  {
   "cell_type": "code",
   "execution_count": 6,
   "id": "2ff6a709-f0a2-4c83-9a86-4044dc4a1382",
   "metadata": {},
   "outputs": [
    {
     "data": {
      "text/html": [
       "<div>\n",
       "<style scoped>\n",
       "    .dataframe tbody tr th:only-of-type {\n",
       "        vertical-align: middle;\n",
       "    }\n",
       "\n",
       "    .dataframe tbody tr th {\n",
       "        vertical-align: top;\n",
       "    }\n",
       "\n",
       "    .dataframe thead th {\n",
       "        text-align: right;\n",
       "    }\n",
       "</style>\n",
       "<table border=\"1\" class=\"dataframe\">\n",
       "  <thead>\n",
       "    <tr style=\"text-align: right;\">\n",
       "      <th></th>\n",
       "      <th>0</th>\n",
       "      <th>1</th>\n",
       "      <th>2</th>\n",
       "      <th>3</th>\n",
       "      <th>4</th>\n",
       "      <th>5</th>\n",
       "      <th>6</th>\n",
       "      <th>7</th>\n",
       "      <th>8</th>\n",
       "      <th>9</th>\n",
       "      <th>10</th>\n",
       "      <th>11</th>\n",
       "      <th>12</th>\n",
       "    </tr>\n",
       "  </thead>\n",
       "  <tbody>\n",
       "    <tr>\n",
       "      <th>0</th>\n",
       "      <td>major</td>\n",
       "      <td>-20.500908</td>\n",
       "      <td>-8.960565</td>\n",
       "      <td>-8.738575</td>\n",
       "      <td>-11.169995</td>\n",
       "      <td>-18.374045</td>\n",
       "      <td>-27.068791</td>\n",
       "      <td>11.845192</td>\n",
       "      <td>7.867344</td>\n",
       "      <td>7.829828</td>\n",
       "      <td>4.071374</td>\n",
       "      <td>7.766838</td>\n",
       "      <td>9.470894</td>\n",
       "    </tr>\n",
       "    <tr>\n",
       "      <th>1</th>\n",
       "      <td>major</td>\n",
       "      <td>-14.872860</td>\n",
       "      <td>-19.416092</td>\n",
       "      <td>-33.573358</td>\n",
       "      <td>-8.308101</td>\n",
       "      <td>-17.649980</td>\n",
       "      <td>-23.914550</td>\n",
       "      <td>12.939337</td>\n",
       "      <td>12.628522</td>\n",
       "      <td>9.268980</td>\n",
       "      <td>7.207650</td>\n",
       "      <td>8.983294</td>\n",
       "      <td>10.848327</td>\n",
       "    </tr>\n",
       "    <tr>\n",
       "      <th>2</th>\n",
       "      <td>major</td>\n",
       "      <td>-5.433649</td>\n",
       "      <td>-23.674421</td>\n",
       "      <td>-3.689375</td>\n",
       "      <td>-21.370466</td>\n",
       "      <td>-26.199391</td>\n",
       "      <td>-12.115466</td>\n",
       "      <td>6.117177</td>\n",
       "      <td>6.300281</td>\n",
       "      <td>2.972258</td>\n",
       "      <td>4.937433</td>\n",
       "      <td>4.633191</td>\n",
       "      <td>3.675369</td>\n",
       "    </tr>\n",
       "    <tr>\n",
       "      <th>3</th>\n",
       "      <td>major</td>\n",
       "      <td>-6.883550</td>\n",
       "      <td>-9.559825</td>\n",
       "      <td>-24.431741</td>\n",
       "      <td>-4.870626</td>\n",
       "      <td>-14.137535</td>\n",
       "      <td>-15.845514</td>\n",
       "      <td>5.994896</td>\n",
       "      <td>5.279598</td>\n",
       "      <td>5.646248</td>\n",
       "      <td>6.893120</td>\n",
       "      <td>5.599318</td>\n",
       "      <td>4.051120</td>\n",
       "    </tr>\n",
       "    <tr>\n",
       "      <th>4</th>\n",
       "      <td>major</td>\n",
       "      <td>-17.671856</td>\n",
       "      <td>-8.562008</td>\n",
       "      <td>-13.982285</td>\n",
       "      <td>-7.883993</td>\n",
       "      <td>-19.066689</td>\n",
       "      <td>-19.918075</td>\n",
       "      <td>8.528364</td>\n",
       "      <td>8.591098</td>\n",
       "      <td>5.815061</td>\n",
       "      <td>8.178263</td>\n",
       "      <td>5.866860</td>\n",
       "      <td>7.522793</td>\n",
       "    </tr>\n",
       "    <tr>\n",
       "      <th>...</th>\n",
       "      <td>...</td>\n",
       "      <td>...</td>\n",
       "      <td>...</td>\n",
       "      <td>...</td>\n",
       "      <td>...</td>\n",
       "      <td>...</td>\n",
       "      <td>...</td>\n",
       "      <td>...</td>\n",
       "      <td>...</td>\n",
       "      <td>...</td>\n",
       "      <td>...</td>\n",
       "      <td>...</td>\n",
       "      <td>...</td>\n",
       "    </tr>\n",
       "    <tr>\n",
       "      <th>497</th>\n",
       "      <td>minor</td>\n",
       "      <td>-9.572269</td>\n",
       "      <td>-3.352567</td>\n",
       "      <td>-6.184507</td>\n",
       "      <td>-6.369088</td>\n",
       "      <td>-15.446442</td>\n",
       "      <td>-12.662722</td>\n",
       "      <td>5.662922</td>\n",
       "      <td>6.816281</td>\n",
       "      <td>3.113217</td>\n",
       "      <td>2.644390</td>\n",
       "      <td>2.684375</td>\n",
       "      <td>6.166986</td>\n",
       "    </tr>\n",
       "    <tr>\n",
       "      <th>498</th>\n",
       "      <td>minor</td>\n",
       "      <td>-16.220710</td>\n",
       "      <td>-1.560361</td>\n",
       "      <td>-4.010560</td>\n",
       "      <td>-9.442186</td>\n",
       "      <td>-14.525250</td>\n",
       "      <td>-18.424411</td>\n",
       "      <td>2.802242</td>\n",
       "      <td>3.443657</td>\n",
       "      <td>3.623518</td>\n",
       "      <td>1.535592</td>\n",
       "      <td>4.798090</td>\n",
       "      <td>3.033349</td>\n",
       "    </tr>\n",
       "    <tr>\n",
       "      <th>499</th>\n",
       "      <td>minor</td>\n",
       "      <td>-7.163714</td>\n",
       "      <td>-14.225260</td>\n",
       "      <td>-4.300896</td>\n",
       "      <td>-14.278243</td>\n",
       "      <td>-22.085272</td>\n",
       "      <td>-15.138784</td>\n",
       "      <td>10.838017</td>\n",
       "      <td>8.997968</td>\n",
       "      <td>6.634700</td>\n",
       "      <td>6.041347</td>\n",
       "      <td>9.404179</td>\n",
       "      <td>7.735608</td>\n",
       "    </tr>\n",
       "    <tr>\n",
       "      <th>500</th>\n",
       "      <td>minor</td>\n",
       "      <td>-5.441288</td>\n",
       "      <td>-14.061867</td>\n",
       "      <td>-12.194230</td>\n",
       "      <td>-5.059601</td>\n",
       "      <td>-18.976592</td>\n",
       "      <td>-13.338113</td>\n",
       "      <td>10.943690</td>\n",
       "      <td>9.275660</td>\n",
       "      <td>7.494866</td>\n",
       "      <td>7.141501</td>\n",
       "      <td>6.736104</td>\n",
       "      <td>9.885712</td>\n",
       "    </tr>\n",
       "    <tr>\n",
       "      <th>501</th>\n",
       "      <td>minor</td>\n",
       "      <td>-19.384279</td>\n",
       "      <td>-2.351170</td>\n",
       "      <td>-11.175270</td>\n",
       "      <td>-3.338290</td>\n",
       "      <td>-12.843585</td>\n",
       "      <td>-12.365337</td>\n",
       "      <td>4.095239</td>\n",
       "      <td>4.862243</td>\n",
       "      <td>2.244462</td>\n",
       "      <td>3.944394</td>\n",
       "      <td>3.016558</td>\n",
       "      <td>6.031219</td>\n",
       "    </tr>\n",
       "  </tbody>\n",
       "</table>\n",
       "<p>502 rows × 13 columns</p>\n",
       "</div>"
      ],
      "text/plain": [
       "        0          1          2          3          4          5          6   \\\n",
       "0    major -20.500908  -8.960565  -8.738575 -11.169995 -18.374045 -27.068791   \n",
       "1    major -14.872860 -19.416092 -33.573358  -8.308101 -17.649980 -23.914550   \n",
       "2    major  -5.433649 -23.674421  -3.689375 -21.370466 -26.199391 -12.115466   \n",
       "3    major  -6.883550  -9.559825 -24.431741  -4.870626 -14.137535 -15.845514   \n",
       "4    major -17.671856  -8.562008 -13.982285  -7.883993 -19.066689 -19.918075   \n",
       "..     ...        ...        ...        ...        ...        ...        ...   \n",
       "497  minor  -9.572269  -3.352567  -6.184507  -6.369088 -15.446442 -12.662722   \n",
       "498  minor -16.220710  -1.560361  -4.010560  -9.442186 -14.525250 -18.424411   \n",
       "499  minor  -7.163714 -14.225260  -4.300896 -14.278243 -22.085272 -15.138784   \n",
       "500  minor  -5.441288 -14.061867 -12.194230  -5.059601 -18.976592 -13.338113   \n",
       "501  minor -19.384279  -2.351170 -11.175270  -3.338290 -12.843585 -12.365337   \n",
       "\n",
       "            7          8         9         10        11         12  \n",
       "0    11.845192   7.867344  7.829828  4.071374  7.766838   9.470894  \n",
       "1    12.939337  12.628522  9.268980  7.207650  8.983294  10.848327  \n",
       "2     6.117177   6.300281  2.972258  4.937433  4.633191   3.675369  \n",
       "3     5.994896   5.279598  5.646248  6.893120  5.599318   4.051120  \n",
       "4     8.528364   8.591098  5.815061  8.178263  5.866860   7.522793  \n",
       "..         ...        ...       ...       ...       ...        ...  \n",
       "497   5.662922   6.816281  3.113217  2.644390  2.684375   6.166986  \n",
       "498   2.802242   3.443657  3.623518  1.535592  4.798090   3.033349  \n",
       "499  10.838017   8.997968  6.634700  6.041347  9.404179   7.735608  \n",
       "500  10.943690   9.275660  7.494866  7.141501  6.736104   9.885712  \n",
       "501   4.095239   4.862243  2.244462  3.944394  3.016558   6.031219  \n",
       "\n",
       "[502 rows x 13 columns]"
      ]
     },
     "execution_count": 6,
     "metadata": {},
     "output_type": "execute_result"
    }
   ],
   "source": [
    "data"
   ]
  },
  {
   "cell_type": "markdown",
   "id": "04c81df2-f5ef-4611-a5c1-c44fe3706ed9",
   "metadata": {},
   "source": [
    "### Train a Model"
   ]
  },
  {
   "cell_type": "code",
   "execution_count": 7,
   "id": "c183a901-fa4f-4755-ac87-b25467e5cdf6",
   "metadata": {
    "jupyter": {
     "source_hidden": true
    }
   },
   "outputs": [],
   "source": [
    "from sklearn.model_selection import train_test_split\n",
    "from sklearn.ensemble import RandomForestClassifier\n",
    "from sklearn.metrics import accuracy_score"
   ]
  },
  {
   "cell_type": "code",
   "execution_count": 18,
   "id": "1a7e510b-28c2-4d0b-bc94-76b0c5d31aca",
   "metadata": {
    "jupyter": {
     "source_hidden": true
    }
   },
   "outputs": [
    {
     "name": "stdout",
     "output_type": "stream",
     "text": [
      "Training Accuracy: 1.0\n",
      "Testing Accuracy: 0.8217821782178217\n"
     ]
    }
   ],
   "source": [
    "X = data.drop(0, axis=1)  # Features\n",
    "y = data[0]  # Target variable\"\n",
    "\n",
    "X_train,X_test,y_train,y_test = train_test_split(X,y,test_size=0.2,shuffle=True,random_state=50)\n",
    "rfmodel = RandomForestClassifier().fit(X_train,y_train)\n",
    "y_pred_train = rfmodel.predict(X_train)\n",
    "y_pred_test = rfmodel.predict(X_test)\n",
    "\n",
    "print(f'Training Accuracy: {accuracy_score(y_train,y_pred_train)}')\n",
    "print(f'Testing Accuracy: {accuracy_score(y_test,y_pred_test)}')"
   ]
  },
  {
   "cell_type": "markdown",
   "id": "86979c2e-7781-4ce1-8211-591eb60144cf",
   "metadata": {},
   "source": [
    "## Pre-Training a Model\n",
    "One approach to feature selection is to identify non-substantial features for a given output before we train a model. This approach requires some a-priori information about the connection from the features to the desired output or some statistical measures to pick out information. We will look at 4 techniques: The Anova F-Test, Mutual information, variance threshold, and correlation."
   ]
  },
  {
   "cell_type": "markdown",
   "id": "f2588818-e9b9-4366-bf60-689cdabba164",
   "metadata": {},
   "source": [
    "## Anova F-Test\n",
    "The Analysis of Variance (ANOVA) F-test is calculated between each feature and the target variable. This is done by using:\n",
    "$$\n",
    "    F = \\frac{EV}{UV}\n",
    "$$\n",
    "where $EV$ is the explaned variance and $UV$ is the unexplained variance. The $EV$ is calculated as:\n",
    "$$\n",
    "    EV = \\sum_{i=1}^K\\frac{n_i(\\bar{x}_i-\\bar{x})^2}{K-1}\n",
    "$$\n",
    "where $K$ is the number of classes, $n$ is the number of observations within that class, and $\\bar{x}$ is the mean of the variable. The $UV$ is calculated as:\n",
    "\n",
    "$$\n",
    "    UV = \\sum_{i=1}^N\\frac{(x_i - \\bar{x})}{N-1} - EV\n",
    "$$\n",
    "where $n$ is the number of observations. The $k$ best features are chosen based on the calculation above. Examples and details can be found [here](https://summer-hu-92978.medium.com/complete-feature-selection-techniques-4-1-statistical-test-analysis-611ede242fa0)."
   ]
  },
  {
   "cell_type": "code",
   "execution_count": 19,
   "id": "e6041883-0629-4e97-b99c-28a68828ebc4",
   "metadata": {},
   "outputs": [],
   "source": [
    "from sklearn.feature_selection import SelectKBest, f_classif"
   ]
  },
  {
   "cell_type": "code",
   "execution_count": 21,
   "id": "a9181ed5-076b-4d93-8915-fec04016cfcc",
   "metadata": {
    "jupyter": {
     "source_hidden": true
    }
   },
   "outputs": [],
   "source": [
    "fs = SelectKBest(score_func=f_classif, k=10)\n",
    "fs.fit(X_train, y_train)\n",
    "\n",
    "# transform train input data\n",
    "X_train_fs = fs.transform(X_train)\n",
    "X_test_fs = fs.transform(X_test)"
   ]
  },
  {
   "cell_type": "code",
   "execution_count": 22,
   "id": "5ffa098d-ecfa-4142-ab24-d3764fe91eec",
   "metadata": {
    "jupyter": {
     "source_hidden": true
    }
   },
   "outputs": [
    {
     "name": "stdout",
     "output_type": "stream",
     "text": [
      "Training Accuracy: 1.0\n",
      "Testing Accuracy: 0.8316831683168316\n"
     ]
    }
   ],
   "source": [
    "rfmodel = RandomForestClassifier().fit(X_train_fs,y_train)\n",
    "y_pred_train = rfmodel.predict(X_train_fs)\n",
    "y_pred_test = rfmodel.predict(X_test_fs)\n",
    "\n",
    "print(f'Training Accuracy: {accuracy_score(y_train,y_pred_train)}')\n",
    "print(f'Testing Accuracy: {accuracy_score(y_test,y_pred_test)}')"
   ]
  },
  {
   "cell_type": "markdown",
   "id": "3bc1968b-f616-43df-8863-c207f9672654",
   "metadata": {},
   "source": [
    "By removing a few of the features from our model, our performance can either improve or degrade slightly but overall still has similar accuracy to the initial model. "
   ]
  },
  {
   "cell_type": "markdown",
   "id": "8b9df549-f1be-42ca-bce2-7bac2d9d13f3",
   "metadata": {},
   "source": [
    "## Mutual Information\n",
    "The measure of mutual information between inputs and outputs measures the dependence between the two. The higher the mutual information score, the more importance a feature has in predicting the output. This helps identify potentially important features for a given output. The mutual information score is defined as: \n",
    "\n",
    "$$\n",
    "    I(X;Y) = \\sum_{x \\in X}\\sum_{y \\in Y} p(x,y)\\log(\\frac{p(x,y)}{p(x)p(y)})\n",
    "$$\n",
    "where p(x,y) is the joint probability of the input variable and the output variable, p(x) and p(y) are the marginal probabilities of X and Y respectively. Further information can be found [here](https://arxiv.org/pdf/1907.07384)."
   ]
  },
  {
   "cell_type": "code",
   "execution_count": 23,
   "id": "7ae5bf57-646b-4682-bec4-412bcca9bba1",
   "metadata": {},
   "outputs": [],
   "source": [
    "from sklearn.feature_selection import mutual_info_classif"
   ]
  },
  {
   "cell_type": "code",
   "execution_count": 25,
   "id": "657eda3a-3349-49f5-abfc-825964e044b1",
   "metadata": {
    "jupyter": {
     "source_hidden": true
    }
   },
   "outputs": [
    {
     "data": {
      "image/png": "[encoded data removed]",
      "text/plain": [
       "<Figure size 640x480 with 1 Axes>"
      ]
     },
     "metadata": {},
     "output_type": "display_data"
    }
   ],
   "source": [
    "plt.bar(np.arange(0,12,1),mutual_info_classif(X_train, y_train))\n",
    "plt.ylabel('Mutual information')\n",
    "plt.xlabel('Feature')\n",
    "plt.show()"
   ]
  },
  {
   "cell_type": "code",
   "execution_count": 26,
   "id": "f75b405f-b68a-410f-9653-88bfdae8eabe",
   "metadata": {
    "jupyter": {
     "source_hidden": true
    }
   },
   "outputs": [],
   "source": [
    "MI = mutual_info_classif(X_train, y_train)\n",
    "selfeatures = MI>np.mean(MI)\n",
    "X_train_mi = X_train.loc[:, selfeatures]\n",
    "X_test_mi = X_test.loc[:,selfeatures]"
   ]
  },
  {
   "cell_type": "code",
   "execution_count": 27,
   "id": "167f1b80-c963-4a9d-ae3c-37ee9cd712c3",
   "metadata": {
    "jupyter": {
     "source_hidden": true
    }
   },
   "outputs": [
    {
     "name": "stdout",
     "output_type": "stream",
     "text": [
      "Training Accuracy: 1.0\n",
      "Testing Accuracy: 0.8514851485148515\n"
     ]
    }
   ],
   "source": [
    "rfmodel = RandomForestClassifier().fit(X_train_mi,y_train)\n",
    "y_pred_train = rfmodel.predict(X_train_mi)\n",
    "y_pred_test = rfmodel.predict(X_test_mi)\n",
    "\n",
    "print(f'Training Accuracy: {accuracy_score(y_train,y_pred_train)}')\n",
    "print(f'Testing Accuracy: {accuracy_score(y_test,y_pred_test)}')"
   ]
  },
  {
   "cell_type": "markdown",
   "id": "38bbca41-eb37-4253-9e8c-6aba5bd9dacd",
   "metadata": {},
   "source": [
    "We can see from above that a few features stand out as important for predicting our output."
   ]
  },
  {
   "cell_type": "markdown",
   "id": "a2b4fc7c-0351-46b3-992f-aff599544223",
   "metadata": {},
   "source": [
    "## Variance Threshold\n",
    "Variance is the measure of dispersion of a given dataset. In the case of variance thresholding, this approach only considers the variance of the features themselves and not how they relate to the output. This is defined as:\n",
    "$$\n",
    "    V(x) = \\frac{\\sum(x_i-\\mu_x)}{n-1}\n",
    "$$\n",
    "where $x$ is the sample for a feature $j$, $\\mu_x$ average of the input for $j$, and $n$ is the number of samples. "
   ]
  },
  {
   "cell_type": "code",
   "execution_count": 28,
   "id": "3ac207ac-929b-4995-8f2f-496067dc9c07",
   "metadata": {},
   "outputs": [],
   "source": [
    "from sklearn.feature_selection import VarianceThreshold"
   ]
  },
  {
   "cell_type": "code",
   "execution_count": 29,
   "id": "99cd485c-6cdf-4e36-9671-e886813be05c",
   "metadata": {
    "jupyter": {
     "source_hidden": true
    }
   },
   "outputs": [],
   "source": [
    "vt = VarianceThreshold(threshold=3).fit(X_train)\n",
    "X_train_vt = vt.transform(X_train)\n",
    "X_test_vt = vt.transform(X_test)"
   ]
  },
  {
   "cell_type": "code",
   "execution_count": 30,
   "id": "05118024-466f-476c-bb99-97dc43a4bcba",
   "metadata": {
    "jupyter": {
     "source_hidden": true
    }
   },
   "outputs": [
    {
     "name": "stdout",
     "output_type": "stream",
     "text": [
      "Training Accuracy: 1.0\n",
      "Testing Accuracy: 0.8217821782178217\n"
     ]
    }
   ],
   "source": [
    "rfmodel = RandomForestClassifier().fit(X_train_vt,y_train)\n",
    "y_pred_train = rfmodel.predict(X_train_vt)\n",
    "y_pred_test = rfmodel.predict(X_test_vt)\n",
    "\n",
    "print(f'Training Accuracy: {accuracy_score(y_train,y_pred_train)}')\n",
    "print(f'Testing Accuracy: {accuracy_score(y_test,y_pred_test)}')"
   ]
  },
  {
   "cell_type": "markdown",
   "id": "86bbfb04-deae-4110-88bf-700d6b64319b",
   "metadata": {},
   "source": [
    "## Correlation\n",
    "Correlation for feature selection involves calculating the correlation between the given features for each sample. This is done by using:\n",
    "$$\n",
    "    \\rho_{x,y} = \\frac{E[(X-\\mu_X)(Y-\\mu_Y)]}{\\sigma_X\\sigma_Y}\n",
    "$$\n",
    "where $E$ is the expectation, $\\mu$ is the mean, and $\\sigma$ is the standard deviation. All the terms above are expressed for features (i.e. $X$ is one feature and $Y$ is another). After calculating the correlation for all variables, we can use a cutoff value to pick out features."
   ]
  },
  {
   "cell_type": "code",
   "execution_count": 31,
   "id": "86e5c428-de74-4b62-8999-5164faddc48f",
   "metadata": {
    "jupyter": {
     "source_hidden": true
    }
   },
   "outputs": [
    {
     "data": {
      "image/png": "[encoded data removed]",
      "text/plain": [
       "<Figure size 640x480 with 2 Axes>"
      ]
     },
     "metadata": {},
     "output_type": "display_data"
    }
   ],
   "source": [
    "corr_matrix = X_train.corr() \n",
    "sns.heatmap(corr_matrix, annot=False, cmap='coolwarm')\n",
    "plt.ylabel('Feature')\n",
    "plt.xlabel('Feature')\n",
    "plt.show()"
   ]
  },
  {
   "cell_type": "markdown",
   "id": "e2e34fbf-d8f2-422b-8369-3d2c18a6e1ff",
   "metadata": {},
   "source": [
    "The above plot shows the correlations between all the features."
   ]
  },
  {
   "cell_type": "code",
   "execution_count": 32,
   "id": "f3ee0545-2a7a-4838-aad6-2a0f95ec1158",
   "metadata": {
    "jupyter": {
     "source_hidden": true
    }
   },
   "outputs": [],
   "source": [
    "corr_matrix = X_train.corr().abs()\n",
    "upper = corr_matrix.where(np.triu(np.ones(corr_matrix.shape), k=1).astype(bool))\n",
    "\n",
    "threshold = 0.7  # Set your correlation threshold\n",
    "to_drop = [column for column in upper.columns if any(upper[column] > threshold)]\n",
    "\n",
    "X_train_corr = X_train.drop(to_drop, axis=1)\n",
    "X_test_corr = X_test.drop(to_drop, axis = 1)"
   ]
  },
  {
   "cell_type": "code",
   "execution_count": 33,
   "id": "a72df03c-45a3-4629-88bf-70f9b36e1b62",
   "metadata": {
    "jupyter": {
     "source_hidden": true
    }
   },
   "outputs": [
    {
     "name": "stdout",
     "output_type": "stream",
     "text": [
      "Training Accuracy: 1.0\n",
      "Testing Accuracy: 0.8217821782178217\n"
     ]
    }
   ],
   "source": [
    "rfmodel = RandomForestClassifier().fit(X_train_corr,y_train)\n",
    "y_pred_train = rfmodel.predict(X_train_corr)\n",
    "y_pred_test = rfmodel.predict(X_test_corr)\n",
    "\n",
    "print(f'Training Accuracy: {accuracy_score(y_train,y_pred_train)}')\n",
    "print(f'Testing Accuracy: {accuracy_score(y_test,y_pred_test)}')"
   ]
  },
  {
   "cell_type": "markdown",
   "id": "565df08e-802c-4f7a-966c-a13763d9c898",
   "metadata": {},
   "source": [
    "In the above example, we can see that the model is tending to predict better. This is because the model has less complexity (fewer features) to parse through and provide the most relevant information for prediction. "
   ]
  },
  {
   "cell_type": "markdown",
   "id": "75c01c4f-bd5e-467d-aba9-acb0a3584a9e",
   "metadata": {},
   "source": [
    "## Post Training a Model\n",
    "Another popular approach to feature selection is training a model with all the features and then identifying a few features that have the highest impact on the overall performance. Several post-training explainable AI techniques exist such as feature permutation, Shapley Additive explanations, or Local Interpretable Model-Agnostic Explanations (which we cover in the Explainable AI notebook). Through these techniques, we can retrain a model with a smaller subset of features as shown below."
   ]
  },
  {
   "cell_type": "code",
   "execution_count": 34,
   "id": "c01bb411-2977-47fa-8037-cac093d6326f",
   "metadata": {
    "jupyter": {
     "source_hidden": true
    }
   },
   "outputs": [],
   "source": [
    "from sklearn.model_selection import train_test_split\n",
    "from sklearn.ensemble import RandomForestClassifier\n",
    "from sklearn.metrics import accuracy_score"
   ]
  },
  {
   "cell_type": "code",
   "execution_count": 35,
   "id": "82afbe76-9ba5-4ded-9205-46adc63c7e2c",
   "metadata": {
    "jupyter": {
     "source_hidden": true
    }
   },
   "outputs": [
    {
     "name": "stdout",
     "output_type": "stream",
     "text": [
      "Training Accuracy: 1.0\n",
      "Testing Accuracy: 0.8316831683168316\n"
     ]
    }
   ],
   "source": [
    "X = data.drop(0, axis=1)  # Features\n",
    "y = data[0]  # Target variable\"\n",
    "\n",
    "X_train,X_test,y_train,y_test = train_test_split(X,y,test_size=0.2,shuffle=True,random_state=50)\n",
    "rfmodel = RandomForestClassifier().fit(X_train,y_train)\n",
    "y_pred_train = rfmodel.predict(X_train)\n",
    "y_pred_test = rfmodel.predict(X_test)\n",
    "\n",
    "print(f'Training Accuracy: {accuracy_score(y_train,y_pred_train)}')\n",
    "print(f'Testing Accuracy: {accuracy_score(y_test,y_pred_test)}')"
   ]
  },
  {
   "cell_type": "code",
   "execution_count": 36,
   "id": "80d89be1-ca7b-455e-a1a5-772402920d90",
   "metadata": {
    "jupyter": {
     "source_hidden": true
    }
   },
   "outputs": [
    {
     "data": {
      "image/png": "[encoded data removed]",
      "text/plain": [
       "<Figure size 640x480 with 1 Axes>"
      ]
     },
     "metadata": {},
     "output_type": "display_data"
    }
   ],
   "source": [
    "importances = rfmodel.feature_importances_\n",
    "plt.bar(np.arange(0,len(importances),1),importances)\n",
    "plt.xlabel('Feature')\n",
    "plt.ylabel('Importance')\n",
    "plt.show()"
   ]
  },
  {
   "cell_type": "markdown",
   "id": "10ed5df6-90c1-4297-b721-726e9278a065",
   "metadata": {},
   "source": [
    "The above feature importance is computed as the mean and standard deviation of accumulation of the impurity decrease within each tree."
   ]
  },
  {
   "cell_type": "code",
   "execution_count": 38,
   "id": "c90f1e00-9978-4db1-ba26-7367b4a265bc",
   "metadata": {
    "jupyter": {
     "source_hidden": true
    }
   },
   "outputs": [
    {
     "name": "stdout",
     "output_type": "stream",
     "text": [
      "Training Accuracy: 1.0\n",
      "Testing Accuracy: 0.8514851485148515\n"
     ]
    }
   ],
   "source": [
    "numfeatures = 4\n",
    "ind = np.argpartition(importances, -numfeatures)[-numfeatures:]\n",
    "\n",
    "X_train_nf = X_train.iloc[:,ind]\n",
    "X_test_nf = X_test.iloc[:,ind]\n",
    "\n",
    "rfmodel = RandomForestClassifier().fit(X_train_nf,y_train)\n",
    "y_pred_train = rfmodel.predict(X_train_nf)\n",
    "y_pred_test = rfmodel.predict(X_test_nf)\n",
    "\n",
    "print(f'Training Accuracy: {accuracy_score(y_train,y_pred_train)}')\n",
    "print(f'Testing Accuracy: {accuracy_score(y_test,y_pred_test)}')"
   ]
  },
  {
   "cell_type": "markdown",
   "id": "d81209eb-44f8-4f55-8953-de668e1936ec",
   "metadata": {},
   "source": [
    "Retraining the model with 4 of the highest-importance features yields a slightly better result than the original model. This approach has reduced the complexity of the model and improved its overall accuracy."
   ]
  },
  {
   "cell_type": "markdown",
   "id": "69e0022d-0b14-410a-9939-f6fe9c05b541",
   "metadata": {},
   "source": [
    "# Citations\n"
   ]
  },
  {
   "cell_type": "markdown",
   "id": "ce24b82f-97bf-4089-9690-e2810c77e090",
   "metadata": {},
   "source": [
    "1) Scikit-learn: Machine Learning in Python, Pedregosa et al., JMLR 12, pp. 2825-2830, 2011.\n",
    "2) Harte, C., Sandler, M., & Gasser, M. (2006). “Detecting Harmonic Change in Musical Audio.” In Proceedings of the 1st ACM Workshop on Audio and Music Computing Multimedia (pp. 21-26). Santa Barbara, CA, USA: ACM Press. doi:10.1145/1178723.1178727.\n",
    "3) Beraha, M., Metelli, A. M., Papini, M., Tirinzoni, A., & Restelli, M. (2019). Feature Selection via Mutual Information: New Theoretical Insights. arXiv [Cs.LG]. Retrieved from http://arxiv.org/abs/1907.07384"
   ]
  },
  {
   "cell_type": "code",
   "execution_count": null,
   "id": "ae55b741-c5d7-40db-a1ee-34339046d80a",
   "metadata": {},
   "outputs": [],
   "source": []
  }
 ],
 "metadata": {
  "kernelspec": {
   "display_name": "Python 3 (ipykernel)",
   "language": "python",
   "name": "python3"
  },
  "language_info": {
   "codemirror_mode": {
    "name": "ipython",
    "version": 3
   },
   "file_extension": ".py",
   "mimetype": "text/x-python",
   "name": "python",
   "nbconvert_exporter": "python",
   "pygments_lexer": "ipython3",
   "version": "3.11.11"
  }
 },
 "nbformat": 4,
 "nbformat_minor": 5
}
