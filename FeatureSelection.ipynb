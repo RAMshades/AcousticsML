{
 "cells": [
  {
   "cell_type": "markdown",
   "id": "f7eec2f5-fdc7-4015-9bb7-77939d4fb7e2",
   "metadata": {},
   "source": [
    "# Feature Selection\n",
    "Below we will go over some tips and tricks for feature selection which may prove helpful. In particular we will be look at some statistical tests and some relationships between inputs/outputs that can help reduce the complexity of the model and may offer better performance. We will be looking at:\n",
    "\n",
    "<u>Pre-Training</u>\n",
    "1) Anova F-Test\n",
    "2) Correlation Test\n",
    "3) Variance Score\n",
    "4) Mutual Information\n",
    "\n",
    "<u>Post-Training</u>\n",
    "1) Feature Importance"
   ]
  },
  {
   "cell_type": "code",
   "execution_count": 3,
   "id": "8db49208-3c83-4b6f-8527-d98da7b44146",
   "metadata": {},
   "outputs": [],
   "source": [
    "import numpy as np\n",
    "import pandas as pd\n",
    "import sklearn as sk\n",
    "import seaborn as sns\n",
    "import matplotlib.pyplot as plt\n",
    "from tqdm import tqdm\n",
    "import os\n",
    "\n",
    "import librosa \n",
    "import librosa.display\n",
    "import IPython.display as ipd\n",
    "\n",
    "from glob import glob\n",
    "import opendatasets as od "
   ]
  },
  {
   "cell_type": "markdown",
   "id": "ffa1087c-8eb5-4b88-b7a5-2ae960a0e8f3",
   "metadata": {},
   "source": [
    "## Dataset\n",
    "For this notebook we will use the major-vs-minor guitar chords data set which can be found at: and downloaded using the code below. "
   ]
  },
  {
   "cell_type": "code",
   "execution_count": 4,
   "id": "656c0ce5-a6a8-45c2-8448-d7c306465b93",
   "metadata": {},
   "outputs": [
    {
     "name": "stdout",
     "output_type": "stream",
     "text": [
      "Skipping, found downloaded files in \".\\major-vs-minor-guitar-chords\" (use force=True to force download)\n"
     ]
    }
   ],
   "source": [
    "od.download('https://www.kaggle.com/datasets/mehanat96/major-vs-minor-guitar-chords/data')"
   ]
  },
  {
   "cell_type": "code",
   "execution_count": 59,
   "id": "ea71d88b-b6a5-4410-99b0-205fb2f42294",
   "metadata": {},
   "outputs": [],
   "source": [
    "def feature_extraction(path):\n",
    "    y,sr = librosa.load(path)\n",
    "    chroma_stft = librosa.feature.chroma_stft(y=y, sr=sr,n_chroma=16,n_fft=1024//4 )#\n",
    "\n",
    "    # Convert an amplitude spectrogram to Decibels-scaled spectrogram.\n",
    "    DB = librosa.amplitude_to_db(chroma_stft, ref = np.max)\n",
    "    \n",
    "    # Scale the extracted features\n",
    "    extracted_features = np.concatenate((np.mean(DB.T,axis=0),np.std(DB.T,axis=0)))\n",
    "    \n",
    "    return extracted_features"
   ]
  },
  {
   "cell_type": "code",
   "execution_count": 85,
   "id": "baf2e72a-7c04-4e3d-b73e-11f72a9017e9",
   "metadata": {},
   "outputs": [],
   "source": [
    "path = 'major-vs-minor-guitar-chords/shords_dataset/'\n",
    "\n",
    "data = []\n",
    "max_harm_length = 0 # for track of max harmonic length to name columns\n",
    "\n",
    "for dirn, _, files in os.walk(path):\n",
    "    for file in files:\n",
    "        folder = os.path.basename(dirn)\n",
    "        full_path = os.path.join(dirn, file)\n",
    "        freq_peaks = feature_extraction(full_path)\n",
    "        \n",
    "        cur_data = [folder]\n",
    "        cur_data.extend(freq_peaks)\n",
    "        \n",
    "        data.append(cur_data)\n",
    "\n",
    "data = pd.DataFrame(data)"
   ]
  },
  {
   "cell_type": "code",
   "execution_count": 86,
   "id": "2ff6a709-f0a2-4c83-9a86-4044dc4a1382",
   "metadata": {},
   "outputs": [
    {
     "data": {
      "text/html": [
       "<div>\n",
       "<style scoped>\n",
       "    .dataframe tbody tr th:only-of-type {\n",
       "        vertical-align: middle;\n",
       "    }\n",
       "\n",
       "    .dataframe tbody tr th {\n",
       "        vertical-align: top;\n",
       "    }\n",
       "\n",
       "    .dataframe thead th {\n",
       "        text-align: right;\n",
       "    }\n",
       "</style>\n",
       "<table border=\"1\" class=\"dataframe\">\n",
       "  <thead>\n",
       "    <tr style=\"text-align: right;\">\n",
       "      <th></th>\n",
       "      <th>0</th>\n",
       "      <th>1</th>\n",
       "      <th>2</th>\n",
       "      <th>3</th>\n",
       "      <th>4</th>\n",
       "      <th>5</th>\n",
       "      <th>6</th>\n",
       "      <th>7</th>\n",
       "      <th>8</th>\n",
       "      <th>9</th>\n",
       "      <th>...</th>\n",
       "      <th>23</th>\n",
       "      <th>24</th>\n",
       "      <th>25</th>\n",
       "      <th>26</th>\n",
       "      <th>27</th>\n",
       "      <th>28</th>\n",
       "      <th>29</th>\n",
       "      <th>30</th>\n",
       "      <th>31</th>\n",
       "      <th>32</th>\n",
       "    </tr>\n",
       "  </thead>\n",
       "  <tbody>\n",
       "    <tr>\n",
       "      <th>0</th>\n",
       "      <td>major</td>\n",
       "      <td>-3.668096</td>\n",
       "      <td>-2.936436</td>\n",
       "      <td>-2.473215</td>\n",
       "      <td>-2.121809</td>\n",
       "      <td>-1.732175</td>\n",
       "      <td>-1.371640</td>\n",
       "      <td>-1.087541</td>\n",
       "      <td>-0.938765</td>\n",
       "      <td>-1.086269</td>\n",
       "      <td>...</td>\n",
       "      <td>1.585322</td>\n",
       "      <td>1.758497</td>\n",
       "      <td>1.931221</td>\n",
       "      <td>2.052912</td>\n",
       "      <td>1.938572</td>\n",
       "      <td>1.826244</td>\n",
       "      <td>1.779271</td>\n",
       "      <td>1.763245</td>\n",
       "      <td>1.761104</td>\n",
       "      <td>1.987432</td>\n",
       "    </tr>\n",
       "    <tr>\n",
       "      <th>1</th>\n",
       "      <td>major</td>\n",
       "      <td>-6.483990</td>\n",
       "      <td>-5.602185</td>\n",
       "      <td>-4.105858</td>\n",
       "      <td>-2.828231</td>\n",
       "      <td>-2.260083</td>\n",
       "      <td>-2.130304</td>\n",
       "      <td>-2.255524</td>\n",
       "      <td>-1.877439</td>\n",
       "      <td>-1.129837</td>\n",
       "      <td>...</td>\n",
       "      <td>4.903658</td>\n",
       "      <td>3.704822</td>\n",
       "      <td>1.757789</td>\n",
       "      <td>2.058336</td>\n",
       "      <td>3.846125</td>\n",
       "      <td>4.680800</td>\n",
       "      <td>3.898610</td>\n",
       "      <td>3.773968</td>\n",
       "      <td>2.733048</td>\n",
       "      <td>2.737029</td>\n",
       "    </tr>\n",
       "    <tr>\n",
       "      <th>2</th>\n",
       "      <td>major</td>\n",
       "      <td>-6.060093</td>\n",
       "      <td>-4.978780</td>\n",
       "      <td>-4.073983</td>\n",
       "      <td>-3.229052</td>\n",
       "      <td>-2.327367</td>\n",
       "      <td>-1.383513</td>\n",
       "      <td>-0.586808</td>\n",
       "      <td>-0.110066</td>\n",
       "      <td>-0.152913</td>\n",
       "      <td>...</td>\n",
       "      <td>0.375194</td>\n",
       "      <td>0.193944</td>\n",
       "      <td>0.292507</td>\n",
       "      <td>0.477588</td>\n",
       "      <td>0.625216</td>\n",
       "      <td>0.849684</td>\n",
       "      <td>1.175838</td>\n",
       "      <td>1.591074</td>\n",
       "      <td>2.080880</td>\n",
       "      <td>2.665120</td>\n",
       "    </tr>\n",
       "    <tr>\n",
       "      <th>3</th>\n",
       "      <td>major</td>\n",
       "      <td>-5.335945</td>\n",
       "      <td>-4.337996</td>\n",
       "      <td>-3.416936</td>\n",
       "      <td>-2.458807</td>\n",
       "      <td>-1.458970</td>\n",
       "      <td>-0.684919</td>\n",
       "      <td>-0.235624</td>\n",
       "      <td>-0.244408</td>\n",
       "      <td>-0.741816</td>\n",
       "      <td>...</td>\n",
       "      <td>0.842358</td>\n",
       "      <td>0.896655</td>\n",
       "      <td>0.980007</td>\n",
       "      <td>1.008300</td>\n",
       "      <td>1.054285</td>\n",
       "      <td>1.248376</td>\n",
       "      <td>1.500547</td>\n",
       "      <td>1.787059</td>\n",
       "      <td>2.280643</td>\n",
       "      <td>2.943132</td>\n",
       "    </tr>\n",
       "    <tr>\n",
       "      <th>4</th>\n",
       "      <td>major</td>\n",
       "      <td>-3.313956</td>\n",
       "      <td>-2.421612</td>\n",
       "      <td>-1.839295</td>\n",
       "      <td>-1.424736</td>\n",
       "      <td>-1.083825</td>\n",
       "      <td>-0.827480</td>\n",
       "      <td>-0.608456</td>\n",
       "      <td>-0.514521</td>\n",
       "      <td>-0.775081</td>\n",
       "      <td>...</td>\n",
       "      <td>0.835279</td>\n",
       "      <td>1.031529</td>\n",
       "      <td>1.231479</td>\n",
       "      <td>1.398404</td>\n",
       "      <td>1.346191</td>\n",
       "      <td>1.218183</td>\n",
       "      <td>1.094226</td>\n",
       "      <td>1.099374</td>\n",
       "      <td>1.463737</td>\n",
       "      <td>2.028674</td>\n",
       "    </tr>\n",
       "    <tr>\n",
       "      <th>...</th>\n",
       "      <td>...</td>\n",
       "      <td>...</td>\n",
       "      <td>...</td>\n",
       "      <td>...</td>\n",
       "      <td>...</td>\n",
       "      <td>...</td>\n",
       "      <td>...</td>\n",
       "      <td>...</td>\n",
       "      <td>...</td>\n",
       "      <td>...</td>\n",
       "      <td>...</td>\n",
       "      <td>...</td>\n",
       "      <td>...</td>\n",
       "      <td>...</td>\n",
       "      <td>...</td>\n",
       "      <td>...</td>\n",
       "      <td>...</td>\n",
       "      <td>...</td>\n",
       "      <td>...</td>\n",
       "      <td>...</td>\n",
       "      <td>...</td>\n",
       "    </tr>\n",
       "    <tr>\n",
       "      <th>497</th>\n",
       "      <td>minor</td>\n",
       "      <td>-2.526153</td>\n",
       "      <td>-2.207192</td>\n",
       "      <td>-2.178334</td>\n",
       "      <td>-2.223286</td>\n",
       "      <td>-2.118447</td>\n",
       "      <td>-1.908156</td>\n",
       "      <td>-1.684667</td>\n",
       "      <td>-1.562972</td>\n",
       "      <td>-1.794082</td>\n",
       "      <td>...</td>\n",
       "      <td>1.800797</td>\n",
       "      <td>2.089443</td>\n",
       "      <td>2.182585</td>\n",
       "      <td>1.940065</td>\n",
       "      <td>1.527301</td>\n",
       "      <td>1.508947</td>\n",
       "      <td>1.754816</td>\n",
       "      <td>1.883447</td>\n",
       "      <td>1.874141</td>\n",
       "      <td>2.015280</td>\n",
       "    </tr>\n",
       "    <tr>\n",
       "      <th>498</th>\n",
       "      <td>minor</td>\n",
       "      <td>-4.552196</td>\n",
       "      <td>-5.396957</td>\n",
       "      <td>-5.918535</td>\n",
       "      <td>-5.718040</td>\n",
       "      <td>-4.952560</td>\n",
       "      <td>-4.231732</td>\n",
       "      <td>-3.707443</td>\n",
       "      <td>-3.301100</td>\n",
       "      <td>-2.969919</td>\n",
       "      <td>...</td>\n",
       "      <td>2.482713</td>\n",
       "      <td>2.497441</td>\n",
       "      <td>2.270147</td>\n",
       "      <td>1.693588</td>\n",
       "      <td>1.223945</td>\n",
       "      <td>0.926184</td>\n",
       "      <td>0.901880</td>\n",
       "      <td>0.957445</td>\n",
       "      <td>1.022012</td>\n",
       "      <td>1.506518</td>\n",
       "    </tr>\n",
       "    <tr>\n",
       "      <th>499</th>\n",
       "      <td>minor</td>\n",
       "      <td>-2.535743</td>\n",
       "      <td>-2.361215</td>\n",
       "      <td>-2.987305</td>\n",
       "      <td>-3.832317</td>\n",
       "      <td>-4.281572</td>\n",
       "      <td>-4.094162</td>\n",
       "      <td>-3.674114</td>\n",
       "      <td>-3.213186</td>\n",
       "      <td>-2.994137</td>\n",
       "      <td>...</td>\n",
       "      <td>2.547895</td>\n",
       "      <td>2.917538</td>\n",
       "      <td>3.109025</td>\n",
       "      <td>2.891443</td>\n",
       "      <td>2.941004</td>\n",
       "      <td>2.908880</td>\n",
       "      <td>2.872799</td>\n",
       "      <td>2.807985</td>\n",
       "      <td>2.488734</td>\n",
       "      <td>2.396461</td>\n",
       "    </tr>\n",
       "    <tr>\n",
       "      <th>500</th>\n",
       "      <td>minor</td>\n",
       "      <td>-3.373635</td>\n",
       "      <td>-2.768179</td>\n",
       "      <td>-3.171872</td>\n",
       "      <td>-3.843138</td>\n",
       "      <td>-4.339002</td>\n",
       "      <td>-4.466363</td>\n",
       "      <td>-3.588641</td>\n",
       "      <td>-2.926975</td>\n",
       "      <td>-2.911242</td>\n",
       "      <td>...</td>\n",
       "      <td>2.857141</td>\n",
       "      <td>3.055362</td>\n",
       "      <td>3.091341</td>\n",
       "      <td>2.326104</td>\n",
       "      <td>2.003223</td>\n",
       "      <td>2.239434</td>\n",
       "      <td>2.452028</td>\n",
       "      <td>2.833519</td>\n",
       "      <td>2.982075</td>\n",
       "      <td>3.240048</td>\n",
       "    </tr>\n",
       "    <tr>\n",
       "      <th>501</th>\n",
       "      <td>minor</td>\n",
       "      <td>-3.248681</td>\n",
       "      <td>-2.815236</td>\n",
       "      <td>-2.705281</td>\n",
       "      <td>-2.688028</td>\n",
       "      <td>-2.508759</td>\n",
       "      <td>-2.218092</td>\n",
       "      <td>-2.029924</td>\n",
       "      <td>-1.921742</td>\n",
       "      <td>-1.981726</td>\n",
       "      <td>...</td>\n",
       "      <td>2.337174</td>\n",
       "      <td>2.566950</td>\n",
       "      <td>2.588724</td>\n",
       "      <td>2.241424</td>\n",
       "      <td>1.661162</td>\n",
       "      <td>1.489520</td>\n",
       "      <td>1.817836</td>\n",
       "      <td>2.059028</td>\n",
       "      <td>2.018092</td>\n",
       "      <td>2.027685</td>\n",
       "    </tr>\n",
       "  </tbody>\n",
       "</table>\n",
       "<p>502 rows × 33 columns</p>\n",
       "</div>"
      ],
      "text/plain": [
       "        0         1         2         3         4         5         6   \\\n",
       "0    major -3.668096 -2.936436 -2.473215 -2.121809 -1.732175 -1.371640   \n",
       "1    major -6.483990 -5.602185 -4.105858 -2.828231 -2.260083 -2.130304   \n",
       "2    major -6.060093 -4.978780 -4.073983 -3.229052 -2.327367 -1.383513   \n",
       "3    major -5.335945 -4.337996 -3.416936 -2.458807 -1.458970 -0.684919   \n",
       "4    major -3.313956 -2.421612 -1.839295 -1.424736 -1.083825 -0.827480   \n",
       "..     ...       ...       ...       ...       ...       ...       ...   \n",
       "497  minor -2.526153 -2.207192 -2.178334 -2.223286 -2.118447 -1.908156   \n",
       "498  minor -4.552196 -5.396957 -5.918535 -5.718040 -4.952560 -4.231732   \n",
       "499  minor -2.535743 -2.361215 -2.987305 -3.832317 -4.281572 -4.094162   \n",
       "500  minor -3.373635 -2.768179 -3.171872 -3.843138 -4.339002 -4.466363   \n",
       "501  minor -3.248681 -2.815236 -2.705281 -2.688028 -2.508759 -2.218092   \n",
       "\n",
       "           7         8         9   ...        23        24        25  \\\n",
       "0   -1.087541 -0.938765 -1.086269  ...  1.585322  1.758497  1.931221   \n",
       "1   -2.255524 -1.877439 -1.129837  ...  4.903658  3.704822  1.757789   \n",
       "2   -0.586808 -0.110066 -0.152913  ...  0.375194  0.193944  0.292507   \n",
       "3   -0.235624 -0.244408 -0.741816  ...  0.842358  0.896655  0.980007   \n",
       "4   -0.608456 -0.514521 -0.775081  ...  0.835279  1.031529  1.231479   \n",
       "..        ...       ...       ...  ...       ...       ...       ...   \n",
       "497 -1.684667 -1.562972 -1.794082  ...  1.800797  2.089443  2.182585   \n",
       "498 -3.707443 -3.301100 -2.969919  ...  2.482713  2.497441  2.270147   \n",
       "499 -3.674114 -3.213186 -2.994137  ...  2.547895  2.917538  3.109025   \n",
       "500 -3.588641 -2.926975 -2.911242  ...  2.857141  3.055362  3.091341   \n",
       "501 -2.029924 -1.921742 -1.981726  ...  2.337174  2.566950  2.588724   \n",
       "\n",
       "           26        27        28        29        30        31        32  \n",
       "0    2.052912  1.938572  1.826244  1.779271  1.763245  1.761104  1.987432  \n",
       "1    2.058336  3.846125  4.680800  3.898610  3.773968  2.733048  2.737029  \n",
       "2    0.477588  0.625216  0.849684  1.175838  1.591074  2.080880  2.665120  \n",
       "3    1.008300  1.054285  1.248376  1.500547  1.787059  2.280643  2.943132  \n",
       "4    1.398404  1.346191  1.218183  1.094226  1.099374  1.463737  2.028674  \n",
       "..        ...       ...       ...       ...       ...       ...       ...  \n",
       "497  1.940065  1.527301  1.508947  1.754816  1.883447  1.874141  2.015280  \n",
       "498  1.693588  1.223945  0.926184  0.901880  0.957445  1.022012  1.506518  \n",
       "499  2.891443  2.941004  2.908880  2.872799  2.807985  2.488734  2.396461  \n",
       "500  2.326104  2.003223  2.239434  2.452028  2.833519  2.982075  3.240048  \n",
       "501  2.241424  1.661162  1.489520  1.817836  2.059028  2.018092  2.027685  \n",
       "\n",
       "[502 rows x 33 columns]"
      ]
     },
     "execution_count": 86,
     "metadata": {},
     "output_type": "execute_result"
    }
   ],
   "source": [
    "data"
   ]
  },
  {
   "cell_type": "markdown",
   "id": "04c81df2-f5ef-4611-a5c1-c44fe3706ed9",
   "metadata": {},
   "source": [
    "### Train a Model"
   ]
  },
  {
   "cell_type": "code",
   "execution_count": 76,
   "id": "c183a901-fa4f-4755-ac87-b25467e5cdf6",
   "metadata": {},
   "outputs": [],
   "source": [
    "from sklearn.model_selection import train_test_split\n",
    "from sklearn.ensemble import RandomForestClassifier\n",
    "from sklearn.metrics import accuracy_score"
   ]
  },
  {
   "cell_type": "code",
   "execution_count": 140,
   "id": "1a7e510b-28c2-4d0b-bc94-76b0c5d31aca",
   "metadata": {},
   "outputs": [
    {
     "name": "stdout",
     "output_type": "stream",
     "text": [
      "Training Accuracy: 1.0\n",
      "Testing Accuracy: 0.594059405940594\n"
     ]
    }
   ],
   "source": [
    "X = data.drop(0, axis=1)  # Features\n",
    "y = data[0]  # Target variable\"\n",
    "\n",
    "X_train,X_test,y_train,y_test = train_test_split(X,y,test_size=0.2,shuffle=True,random_state=50)\n",
    "rfmodel = RandomForestClassifier().fit(X_train,y_train)\n",
    "y_pred_train = rfmodel.predict(X_train)\n",
    "y_pred_test = rfmodel.predict(X_test)\n",
    "\n",
    "print(f'Training Accuracy: {accuracy_score(y_train,y_pred_train)}')\n",
    "print(f'Testing Accuracy: {accuracy_score(y_test,y_pred_test)}')"
   ]
  },
  {
   "cell_type": "markdown",
   "id": "86979c2e-7781-4ce1-8211-591eb60144cf",
   "metadata": {},
   "source": [
    "## Pre-Training a Model\n",
    "One approach to feature selection is to identify non-substantial features for a given output before we train a model. This approach either requires some a-priori information about the connection from the features to the desired output or requires some "
   ]
  },
  {
   "cell_type": "markdown",
   "id": "f2588818-e9b9-4366-bf60-689cdabba164",
   "metadata": {},
   "source": [
    "## Anova F-Test"
   ]
  },
  {
   "cell_type": "code",
   "execution_count": 63,
   "id": "e6041883-0629-4e97-b99c-28a68828ebc4",
   "metadata": {},
   "outputs": [],
   "source": [
    "from sklearn.feature_selection import SelectKBest, f_classif"
   ]
  },
  {
   "cell_type": "code",
   "execution_count": 141,
   "id": "a9181ed5-076b-4d93-8915-fec04016cfcc",
   "metadata": {},
   "outputs": [],
   "source": [
    "fs = SelectKBest(score_func=f_classif, k=25)\n",
    "fs.fit(X_train, y_train)\n",
    "\n",
    "# transform train input data\n",
    "X_train_fs = fs.transform(X_train)\n",
    "X_test_fs = fs.transform(X_test)"
   ]
  },
  {
   "cell_type": "code",
   "execution_count": 142,
   "id": "5ffa098d-ecfa-4142-ab24-d3764fe91eec",
   "metadata": {},
   "outputs": [
    {
     "name": "stdout",
     "output_type": "stream",
     "text": [
      "Training Accuracy: 1.0\n",
      "Testing Accuracy: 0.5346534653465347\n"
     ]
    }
   ],
   "source": [
    "rfmodel = RandomForestClassifier().fit(X_train_fs,y_train)\n",
    "y_pred_train = rfmodel.predict(X_train_fs)\n",
    "y_pred_test = rfmodel.predict(X_test_fs)\n",
    "\n",
    "print(f'Training Accuracy: {accuracy_score(y_train,y_pred_train)}')\n",
    "print(f'Testing Accuracy: {accuracy_score(y_test,y_pred_test)}')"
   ]
  },
  {
   "cell_type": "markdown",
   "id": "3bc1968b-f616-43df-8863-c207f9672654",
   "metadata": {},
   "source": [
    "By removing a few of the features from our model, our performances degrades slightly but overall still has similar accuracy to the initial model. This approach "
   ]
  },
  {
   "cell_type": "markdown",
   "id": "8b9df549-f1be-42ca-bce2-7bac2d9d13f3",
   "metadata": {},
   "source": [
    "## Mutual Information\n",
    "The measure of mutual dependence between two random variables. This helps identify the amount of information obtained from the input to the output. \n",
    "\n",
    "$$\n",
    "    I(X;Y) = \\sum_{x \\in X}\\sum_{y \\in Y} p(x,y)\\log(\\frac{p(x,y)}{p(x)p(y)})\n",
    "$$\n",
    "where p(x,y) is the joint probability of the input variable and the output variable, p(x) and p(y) is the marginal probabilities of X and Y respectively"
   ]
  },
  {
   "cell_type": "code",
   "execution_count": 67,
   "id": "7ae5bf57-646b-4682-bec4-412bcca9bba1",
   "metadata": {},
   "outputs": [],
   "source": [
    "from sklearn.feature_selection import mutual_info_classif"
   ]
  },
  {
   "cell_type": "code",
   "execution_count": 69,
   "id": "657eda3a-3349-49f5-abfc-825964e044b1",
   "metadata": {},
   "outputs": [
    {
     "data": {
      "text/plain": [
       "<BarContainer object of 32 artists>"
      ]
     },
     "execution_count": 69,
     "metadata": {},
     "output_type": "execute_result"
    },
    {
     "data": {
      "image/png": "[encoded data removed]",
      "text/plain": [
       "<Figure size 640x480 with 1 Axes>"
      ]
     },
     "metadata": {},
     "output_type": "display_data"
    }
   ],
   "source": [
    "plt.bar(np.arange(0,32,1),mutual_info_classif(X_train, y_train))\n",
    "plt.ylabel('Mutual information')\n",
    "plt.xlabel('Feature')\n",
    "plt.show()"
   ]
  },
  {
   "cell_type": "code",
   "execution_count": 98,
   "id": "f75b405f-b68a-410f-9653-88bfdae8eabe",
   "metadata": {},
   "outputs": [],
   "source": [
    "MI = mutual_info_classif(X_train, y_train)\n",
    "selfeatures = MI>np.mean(MI)\n",
    "X_train_mi = X_train.loc[:, selfeatures]\n",
    "X_test_mi = X_test.loc[:,selfeatures]"
   ]
  },
  {
   "cell_type": "code",
   "execution_count": 100,
   "id": "167f1b80-c963-4a9d-ae3c-37ee9cd712c3",
   "metadata": {},
   "outputs": [
    {
     "name": "stdout",
     "output_type": "stream",
     "text": [
      "Training Accuracy: 1.0\n",
      "Testing Accuracy: 0.5544554455445545\n"
     ]
    }
   ],
   "source": [
    "rfmodel = RandomForestClassifier().fit(X_train_mi,y_train)\n",
    "y_pred_train = rfmodel.predict(X_train_mi)\n",
    "y_pred_test = rfmodel.predict(X_test_mi)\n",
    "\n",
    "print(f'Training Accuracy: {accuracy_score(y_train,y_pred_train)}')\n",
    "print(f'Testing Accuracy: {accuracy_score(y_test,y_pred_test)}')"
   ]
  },
  {
   "cell_type": "markdown",
   "id": "a2b4fc7c-0351-46b3-992f-aff599544223",
   "metadata": {},
   "source": [
    "## Variance \n",
    "Variance is the \n",
    "$$\n",
    "    V(x) = \n",
    "$$\n"
   ]
  },
  {
   "cell_type": "code",
   "execution_count": 103,
   "id": "3ac207ac-929b-4995-8f2f-496067dc9c07",
   "metadata": {},
   "outputs": [],
   "source": [
    "from sklearn.feature_selection import VarianceThreshold"
   ]
  },
  {
   "cell_type": "code",
   "execution_count": 125,
   "id": "99cd485c-6cdf-4e36-9671-e886813be05c",
   "metadata": {},
   "outputs": [],
   "source": [
    "vt = VarianceThreshold(threshold=3).fit(X_train)\n",
    "X_train_vt = vt.transform(X_train)\n",
    "X_test_vt = vt.transform(X_test)"
   ]
  },
  {
   "cell_type": "code",
   "execution_count": 126,
   "id": "05118024-466f-476c-bb99-97dc43a4bcba",
   "metadata": {},
   "outputs": [
    {
     "name": "stdout",
     "output_type": "stream",
     "text": [
      "Training Accuracy: 1.0\n",
      "Testing Accuracy: 0.5445544554455446\n"
     ]
    }
   ],
   "source": [
    "rfmodel = RandomForestClassifier().fit(X_train_vt,y_train)\n",
    "y_pred_train = rfmodel.predict(X_train_vt)\n",
    "y_pred_test = rfmodel.predict(X_test_vt)\n",
    "\n",
    "print(f'Training Accuracy: {accuracy_score(y_train,y_pred_train)}')\n",
    "print(f'Testing Accuracy: {accuracy_score(y_test,y_pred_test)}')"
   ]
  },
  {
   "cell_type": "markdown",
   "id": "86bbfb04-deae-4110-88bf-700d6b64319b",
   "metadata": {},
   "source": [
    "## Correlation"
   ]
  },
  {
   "cell_type": "code",
   "execution_count": 130,
   "id": "86e5c428-de74-4b62-8999-5164faddc48f",
   "metadata": {},
   "outputs": [
    {
     "data": {
      "image/png": "[encoded data removed]",
      "text/plain": [
       "<Figure size 640x480 with 2 Axes>"
      ]
     },
     "metadata": {},
     "output_type": "display_data"
    }
   ],
   "source": [
    "corr_matrix = X_train.corr() \n",
    "sns.heatmap(corr_matrix, annot=False, cmap='coolwarm')\n",
    "plt.ylabel('Feature')\n",
    "plt.xlabel('Feature')\n",
    "plt.show()"
   ]
  },
  {
   "cell_type": "markdown",
   "id": "e2e34fbf-d8f2-422b-8369-3d2c18a6e1ff",
   "metadata": {},
   "source": [
    "The above plot shows the correlations between "
   ]
  },
  {
   "cell_type": "code",
   "execution_count": 134,
   "id": "f3ee0545-2a7a-4838-aad6-2a0f95ec1158",
   "metadata": {},
   "outputs": [],
   "source": [
    "corr_matrix = X_train.corr().abs()\n",
    "upper = corr_matrix.where(np.triu(np.ones(corr_matrix.shape), k=1).astype(bool))\n",
    "\n",
    "threshold = 0.7  # Set your correlation threshold\n",
    "to_drop = [column for column in upper.columns if any(upper[column] > threshold)]\n",
    "\n",
    "X_train_corr = X_train.drop(to_drop, axis=1)\n",
    "X_test_corr = X_test.drop(to_drop, axis = 1)"
   ]
  },
  {
   "cell_type": "code",
   "execution_count": 151,
   "id": "a72df03c-45a3-4629-88bf-70f9b36e1b62",
   "metadata": {},
   "outputs": [
    {
     "name": "stdout",
     "output_type": "stream",
     "text": [
      "Training Accuracy: 1.0\n",
      "Testing Accuracy: 0.6138613861386139\n"
     ]
    }
   ],
   "source": [
    "rfmodel = RandomForestClassifier().fit(X_train_corr,y_train)\n",
    "y_pred_train = rfmodel.predict(X_train_corr)\n",
    "y_pred_test = rfmodel.predict(X_test_corr)\n",
    "\n",
    "print(f'Training Accuracy: {accuracy_score(y_train,y_pred_train)}')\n",
    "print(f'Testing Accuracy: {accuracy_score(y_test,y_pred_test)}')"
   ]
  },
  {
   "cell_type": "markdown",
   "id": "565df08e-802c-4f7a-966c-a13763d9c898",
   "metadata": {},
   "source": [
    "In the above example we can see that the model is tending to predict better. This is because the model has less complexity (less features) to parse through and is provided with the most relevant information for prediction. "
   ]
  },
  {
   "cell_type": "markdown",
   "id": "75c01c4f-bd5e-467d-aba9-acb0a3584a9e",
   "metadata": {},
   "source": [
    "## Post Training a Model\n",
    "Another popular approach to feature selection is by first training a model with all of the features and then identifying a few features which have the highest impact on the overall performance. Several post training explainable AI techniques exist such as feature permutation, SHapley Additive exPlanations, or Local Interpretable Model-Agnostic Explanations (of which we cover in the Explainable AI notebook). Through these techniques, we can retrain a model with a smaller subset of features as shown below."
   ]
  },
  {
   "cell_type": "code",
   "execution_count": 152,
   "id": "c01bb411-2977-47fa-8037-cac093d6326f",
   "metadata": {},
   "outputs": [],
   "source": [
    "from sklearn.model_selection import train_test_split\n",
    "from sklearn.ensemble import RandomForestClassifier\n",
    "from sklearn.metrics import accuracy_score"
   ]
  },
  {
   "cell_type": "code",
   "execution_count": 153,
   "id": "82afbe76-9ba5-4ded-9205-46adc63c7e2c",
   "metadata": {},
   "outputs": [
    {
     "name": "stdout",
     "output_type": "stream",
     "text": [
      "Training Accuracy: 1.0\n",
      "Testing Accuracy: 0.6039603960396039\n"
     ]
    }
   ],
   "source": [
    "X = data.drop(0, axis=1)  # Features\n",
    "y = data[0]  # Target variable\"\n",
    "\n",
    "X_train,X_test,y_train,y_test = train_test_split(X,y,test_size=0.2,shuffle=True,random_state=50)\n",
    "rfmodel = RandomForestClassifier().fit(X_train,y_train)\n",
    "y_pred_train = rfmodel.predict(X_train)\n",
    "y_pred_test = rfmodel.predict(X_test)\n",
    "\n",
    "print(f'Training Accuracy: {accuracy_score(y_train,y_pred_train)}')\n",
    "print(f'Testing Accuracy: {accuracy_score(y_test,y_pred_test)}')"
   ]
  },
  {
   "cell_type": "code",
   "execution_count": 158,
   "id": "80d89be1-ca7b-455e-a1a5-772402920d90",
   "metadata": {},
   "outputs": [
    {
     "data": {
      "image/png": "[encoded data removed]",
      "text/plain": [
       "<Figure size 640x480 with 1 Axes>"
      ]
     },
     "metadata": {},
     "output_type": "display_data"
    }
   ],
   "source": [
    "importances = rfmodel.feature_importances_\n",
    "plt.bar(np.arange(0,len(importances),1),importances)\n",
    "plt.xlabel('Feature')\n",
    "plt.ylabel('Importance')\n",
    "plt.show()"
   ]
  },
  {
   "cell_type": "markdown",
   "id": "10ed5df6-90c1-4297-b721-726e9278a065",
   "metadata": {},
   "source": [
    "The above feature importance is computed as the mean and standard deviation of accumulation of the impurity decrease within each tree."
   ]
  },
  {
   "cell_type": "code",
   "execution_count": 173,
   "id": "c90f1e00-9978-4db1-ba26-7367b4a265bc",
   "metadata": {},
   "outputs": [
    {
     "name": "stdout",
     "output_type": "stream",
     "text": [
      "Training Accuracy: 1.0\n",
      "Testing Accuracy: 0.5643564356435643\n"
     ]
    }
   ],
   "source": [
    "numfeatures = 12\n",
    "ind = np.argpartition(importances, -numfeatures)[-numfeatures:]\n",
    "\n",
    "X_train_nf = X_train.iloc[:,ind]\n",
    "X_test_nf = X_test.iloc[:,ind]\n",
    "\n",
    "rfmodel = RandomForestClassifier().fit(X_train_nf,y_train)\n",
    "y_pred_train = rfmodel.predict(X_train_nf)\n",
    "y_pred_test = rfmodel.predict(X_test_nf)\n",
    "\n",
    "print(f'Training Accuracy: {accuracy_score(y_train,y_pred_train)}')\n",
    "print(f'Testing Accuracy: {accuracy_score(y_test,y_pred_test)}')"
   ]
  },
  {
   "cell_type": "markdown",
   "id": "d81209eb-44f8-4f55-8953-de668e1936ec",
   "metadata": {},
   "source": []
  },
  {
   "cell_type": "markdown",
   "id": "69e0022d-0b14-410a-9939-f6fe9c05b541",
   "metadata": {},
   "source": [
    "# Citations\n"
   ]
  },
  {
   "cell_type": "code",
   "execution_count": null,
   "id": "085f3754-4786-4869-a31c-a8f018aacc5d",
   "metadata": {},
   "outputs": [],
   "source": []
  }
 ],
 "metadata": {
  "kernelspec": {
   "display_name": "Python 3 (ipykernel)",
   "language": "python",
   "name": "python3"
  },
  "language_info": {
   "codemirror_mode": {
    "name": "ipython",
    "version": 3
   },
   "file_extension": ".py",
   "mimetype": "text/x-python",
   "name": "python",
   "nbconvert_exporter": "python",
   "pygments_lexer": "ipython3",
   "version": "3.12.4"
  }
 },
 "nbformat": 4,
 "nbformat_minor": 5
}
