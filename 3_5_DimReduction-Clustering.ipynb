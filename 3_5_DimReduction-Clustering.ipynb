{
 "cells": [
  {
   "cell_type": "markdown",
   "metadata": {},
   "source": [
    "# Clustering birdsong"
   ]
  },
  {
   "cell_type": "code",
   "execution_count": 1,
   "metadata": {},
   "outputs": [],
   "source": [
    "from pathlib import Path\n",
    "from typing import Any\n",
    "\n",
    "import matplotlib.pyplot as plt\n",
    "import numpy as np\n",
    "import torch\n",
    "import torch.nn as nn\n",
    "import torch.optim as optim\n",
    "from torch.utils.data import DataLoader, Dataset\n",
    "import torchaudio\n",
    "import torchaudio.transforms as transforms\n",
    "from torchvision.transforms import Compose\n",
    "from tqdm.notebook import tqdm"
   ]
  },
  {
   "cell_type": "markdown",
   "metadata": {},
   "source": [
    "### Define paths"
   ]
  },
  {
   "cell_type": "code",
   "execution_count": 2,
   "metadata": {},
   "outputs": [],
   "source": [
    "dataset_path = Path.cwd() / \"3_5_data\" / \"wavfiles\"\n",
    "file_list = list(dataset_path.glob(\"*.wav\"))"
   ]
  },
  {
   "cell_type": "markdown",
   "metadata": {},
   "source": [
    "### Select device (CPU or GPU)\n",
    "\n",
    "Neural networks can be trained on a CPU or a GPU. The latter is much faster, but requires a compatible GPU.\n",
    "If you have a GPU, you can enable it by setting `device` to `'cuda'`. Otherwise, set it to `'cpu'`.\n",
    "Apple computers do not support CUDA, but PyTorch now ships with the Metal Performance Shaders (MPS) backend for accelerated training on macOS.\n",
    "To enable it, set `device` to `'metal'`."
   ]
  },
  {
   "cell_type": "code",
   "execution_count": 3,
   "metadata": {},
   "outputs": [
    {
     "name": "stdout",
     "output_type": "stream",
     "text": [
      "Using device: mps\n"
     ]
    }
   ],
   "source": [
    "if torch.cuda.is_available():\n",
    "    device = \"cuda\"\n",
    "elif torch.backends.mps.is_available():\n",
    "    device = \"mps\"\n",
    "else:\n",
    "    device = \"cpu\"\n",
    "print(f\"Using device: {device}\")"
   ]
  },
  {
   "cell_type": "markdown",
   "metadata": {},
   "source": [
    "### Define a custom Dataset class for loading birdsong data\n",
    "\n",
    "To simplify the process of loading the birdsong data, we define a custom Dataset class that inherits from PyTorch's Dataset class.\n",
    "This class will load the audio files and their corresponding labels.\n",
    "Under the hood, the dataclass module is rather efficient in terms of memory usage and speed.\n",
    "\n",
    "Data in the birdsong dataset are already normalized between $[-1, 1]$. However, if further transformations are needed, they can be supplied to the `__init__` method with the `transform` argument. For example, one could supply a callable that transforms the time series to a spectrogram."
   ]
  },
  {
   "cell_type": "code",
   "execution_count": 4,
   "metadata": {},
   "outputs": [],
   "source": [
    "class AudioDataset(Dataset):\n",
    "    def __init__(\n",
    "        self, file_list: list[Path], transform: Any | None = None, device: str = \"cpu\"\n",
    "    ) -> None:\n",
    "        self.file_list = file_list\n",
    "        self.transform = transform\n",
    "        self.device = device\n",
    "\n",
    "    def __len__(self) -> int:\n",
    "        return len(self.file_list)\n",
    "\n",
    "    def __getitem__(self, idx: int) -> tuple[torch.Tensor, int]:\n",
    "        audio_file = self.file_list[idx]\n",
    "        audio_data, sample_rate = torchaudio.load(audio_file)\n",
    "\n",
    "        if self.transform:\n",
    "            audio_data = self.transform(audio_data)\n",
    "\n",
    "        return audio_data.to(self.device), sample_rate"
   ]
  },
  {
   "cell_type": "markdown",
   "metadata": {},
   "source": [
    "### Load some data and visualize it"
   ]
  },
  {
   "cell_type": "code",
   "execution_count": 5,
   "metadata": {},
   "outputs": [
    {
     "name": "stdout",
     "output_type": "stream",
     "text": [
      "Data shape: torch.Size([256, 1, 66150])\n",
      "Sample rate: 22050 Hz\n"
     ]
    },
    {
     "data": {
      "image/png": "[encoded data removed]",
      "text/plain": [
       "<Figure size 640x480 with 1 Axes>"
      ]
     },
     "metadata": {},
     "output_type": "display_data"
    }
   ],
   "source": [
    "ts_dataset = AudioDataset(file_list, device=device)\n",
    "ts_dataloader = DataLoader(ts_dataset, batch_size=256, shuffle=True)\n",
    "\n",
    "data, sampling_rates = next(iter(ts_dataloader))\n",
    "print(f\"Data shape: {data.shape}\")\n",
    "print(f\"Sample rate: {sampling_rates[0]} Hz\")\n",
    "\n",
    "num_samples = data.shape[-1]\n",
    "times = np.linspace(0, num_samples / sampling_rates[0], num_samples)\n",
    "\n",
    "plt.figure()\n",
    "plt.plot(times, data[0].cpu().numpy().squeeze())\n",
    "plt.xlabel(\"Time (s)\")\n",
    "plt.ylabel(\"Amplitude\")\n",
    "plt.show()"
   ]
  },
  {
   "cell_type": "markdown",
   "metadata": {},
   "source": [
    "### Transform data using a spectrogram"
   ]
  },
  {
   "cell_type": "code",
   "execution_count": 6,
   "metadata": {},
   "outputs": [],
   "source": [
    "def normalize_to_zero_one(spectrogram):\n",
    "    return (spectrogram - spectrogram.min()) / (\n",
    "        spectrogram.max() - spectrogram.min() + 1e-10\n",
    "    )\n",
    "\n",
    "\n",
    "transform = Compose(\n",
    "    [\n",
    "        transforms.Spectrogram(n_fft=1024, hop_length=512, power=1),\n",
    "        normalize_to_zero_one,\n",
    "    ]\n",
    ")\n",
    "dataset = AudioDataset(file_list, transform=transform, device=device)\n",
    "dataloader = DataLoader(dataset, batch_size=128, shuffle=True)\n",
    "# data, _ = next(iter(dataloader))\n",
    "# print(f\"Spectrogram shape: {data.shape}\")\n",
    "# print(data[0].min(), data[0].max())\n",
    "\n",
    "# plt.figure()\n",
    "# plt.imshow(data[0].cpu().numpy().squeeze(), aspect=\"auto\", origin=\"lower\")\n",
    "# plt.colorbar()\n",
    "# plt.title(\"Spectrogram\")\n",
    "# plt.xlabel(\"Time (frames)\")\n",
    "# plt.ylabel(\"Mel Frequency (bins)\")\n",
    "# plt.show()"
   ]
  },
  {
   "cell_type": "markdown",
   "metadata": {},
   "source": [
    "## Dimensionality Reduction using an autoencoder"
   ]
  },
  {
   "cell_type": "markdown",
   "metadata": {},
   "source": [
    "### Define the autoencoder architecture\n",
    "\n",
    "The autoencoder is a neural network that learns to compress the input data into a lower-dimensional representation and then reconstruct it back to the original input.\n",
    "The implementation of the network here is symmetrical, but this is not a requirement."
   ]
  },
  {
   "cell_type": "code",
   "execution_count": 7,
   "metadata": {},
   "outputs": [],
   "source": [
    "class ConvAutoencoder(nn.Module):\n",
    "    def __init__(self, in_channels=1, latent_dim=10):\n",
    "        super(ConvAutoencoder, self).__init__()\n",
    "        \n",
    "        # Encoder - 4 convolutional layers with ReLU activations\n",
    "        self.encoder = nn.Sequential(\n",
    "            # Layer 1: [batch, in_channels, H, W] -> [batch, 32, H/2, W/2]\n",
    "            nn.Conv2d(in_channels, 32, kernel_size=5, stride=3, padding=1),\n",
    "            nn.ReLU(True),\n",
    "            \n",
    "            # Layer 2: [batch, 32, H/2, W/2] -> [batch, 64, H/4, W/4]\n",
    "            nn.Conv2d(32, 64, kernel_size=3, stride=2, padding=1),\n",
    "            nn.ReLU(True),\n",
    "            \n",
    "            # Layer 3: [batch, 64, H/4, W/4] -> [batch, 128, H/8, W/8]\n",
    "            nn.Conv2d(64, 128, kernel_size=3, stride=2, padding=1),\n",
    "            nn.ReLU(True),\n",
    "            \n",
    "            # Layer 4: [batch, 128, H/8, W/8] -> [batch, 256, H/16, W/16]\n",
    "            nn.Conv2d(128, 256, kernel_size=3, stride=2, padding=1),\n",
    "            nn.ReLU(True),\n",
    "        )\n",
    "        \n",
    "        # Decoder - 4 transposed convolutional layers with ReLU activations\n",
    "        self.decoder = nn.Sequential(\n",
    "            # Layer 1: [batch, 256, H/16, W/16] -> [batch, 128, H/8, W/8]\n",
    "            nn.ConvTranspose2d(256, 128, kernel_size=3, stride=2, padding=1, output_padding=1),\n",
    "            nn.ReLU(True),\n",
    "            \n",
    "            # Layer 2: [batch, 128, H/8, W/8] -> [batch, 64, H/4, W/4]\n",
    "            nn.ConvTranspose2d(128, 64, kernel_size=3, stride=2, padding=1, output_padding=1),\n",
    "            nn.ReLU(True),\n",
    "            \n",
    "            # Layer 3: [batch, 64, H/4, W/4] -> [batch, 32, H/2, W/2]\n",
    "            nn.ConvTranspose2d(64, 32, kernel_size=3, stride=2, padding=1, output_padding=1),\n",
    "            nn.ReLU(True),\n",
    "            \n",
    "            # Layer 4: [batch, 32, H/2, W/2] -> [batch, in_channels, H, W]\n",
    "            nn.ConvTranspose2d(32, in_channels, kernel_size=5, stride=3, padding=1, output_padding=1),\n",
    "            # No activation on final layer for flexibility\n",
    "            # nn.Sigmoid()  # Uncomment if output should be between 0 and 1\n",
    "        )\n",
    "        \n",
    "        self.latent_dim = latent_dim\n",
    "        self.fc_encoder = None\n",
    "        self.fc_decoder = None\n",
    "        self.initialized = False\n",
    "        \n",
    "        # Store dimensions for proper reshaping\n",
    "        self.feature_size = 256\n",
    "        self.height_factor = 16  # Input height will be divided by this\n",
    "        self.width_factor = 16   # Input width will be divided by this\n",
    "        \n",
    "        # Apply Xavier uniform initialization to all existing layers\n",
    "        self._initialize_weights()\n",
    "\n",
    "    def _initialize_weights(self):\n",
    "        \"\"\"\n",
    "        Apply Xavier uniform initialization to Conv2d, ConvTranspose2d, and Linear layers\n",
    "        \"\"\"\n",
    "        for m in self.modules():\n",
    "            if isinstance(m, (nn.Conv2d, nn.ConvTranspose2d, nn.Linear)):\n",
    "                nn.init.xavier_uniform_(m.weight)\n",
    "                if m.bias is not None:\n",
    "                    nn.init.zeros_(m.bias)\n",
    "\n",
    "    def forward(self, x):\n",
    "        # Save original input dimensions\n",
    "        original_shape = x.shape\n",
    "        \n",
    "        # Get the device of the input tensor\n",
    "        device = x.device\n",
    "        \n",
    "        # Pass through encoder\n",
    "        encoded = self.encoder(x)\n",
    "        \n",
    "        # Get current dimensions\n",
    "        batch_size = encoded.size(0)\n",
    "        feature_size = encoded.size(1)\n",
    "        height = encoded.size(2)\n",
    "        width = encoded.size(3)\n",
    "        flat_size = feature_size * height * width\n",
    "        \n",
    "        # Initialize FC layers if not done already (only once)\n",
    "        if not self.initialized:\n",
    "            self.fc_encoder = nn.Linear(flat_size, self.latent_dim).to(device)\n",
    "            self.fc_decoder = nn.Linear(self.latent_dim, flat_size).to(device)\n",
    "            \n",
    "            # Apply Xavier initialization\n",
    "            nn.init.xavier_uniform_(self.fc_encoder.weight)\n",
    "            nn.init.zeros_(self.fc_encoder.bias)\n",
    "            nn.init.xavier_uniform_(self.fc_decoder.weight)\n",
    "            nn.init.zeros_(self.fc_decoder.bias)\n",
    "            \n",
    "            # Store dimensions for future forward passes\n",
    "            self.feature_size = feature_size\n",
    "            self.encoder_height = height\n",
    "            self.encoder_width = width\n",
    "            \n",
    "            self.initialized = True\n",
    "        \n",
    "        # Flatten the feature maps\n",
    "        flattened = encoded.view(batch_size, -1)\n",
    "        \n",
    "        # Project to latent space\n",
    "        z = self.fc_encoder(flattened)\n",
    "        \n",
    "        # Project back to feature map dimensions\n",
    "        decoded_flat = self.fc_decoder(z)\n",
    "        \n",
    "        # Reshape to encoder output dimensions\n",
    "        decoded_conv = decoded_flat.view(batch_size, self.feature_size, self.encoder_height, self.encoder_width)\n",
    "        \n",
    "        # Pass through decoder\n",
    "        output = self.decoder(decoded_conv)\n",
    "        \n",
    "        # Ensure output dimensions match input dimensions\n",
    "        if output.shape != original_shape:\n",
    "            output = nn.functional.interpolate(output, size=(original_shape[2], original_shape[3]), mode='bilinear', align_corners=False)\n",
    "        \n",
    "        return output, z  # Return both the reconstructed image and the latent representation"
   ]
  },
  {
   "cell_type": "markdown",
   "metadata": {},
   "source": [
    "### Initialize the autoencoder\n",
    "\n",
    "In this step, we instantiate the autoencoder model and initialize its weights.\n",
    "We also define the loss function (mean squared error, MSE) and the optimizer (AdamW)."
   ]
  },
  {
   "cell_type": "code",
   "execution_count": 8,
   "metadata": {},
   "outputs": [
    {
     "name": "stdout",
     "output_type": "stream",
     "text": [
      "ConvAutoencoder(\n",
      "  (encoder): Sequential(\n",
      "    (0): Conv2d(1, 32, kernel_size=(5, 5), stride=(3, 3), padding=(1, 1))\n",
      "    (1): ReLU(inplace=True)\n",
      "    (2): Conv2d(32, 64, kernel_size=(3, 3), stride=(2, 2), padding=(1, 1))\n",
      "    (3): ReLU(inplace=True)\n",
      "    (4): Conv2d(64, 128, kernel_size=(3, 3), stride=(2, 2), padding=(1, 1))\n",
      "    (5): ReLU(inplace=True)\n",
      "    (6): Conv2d(128, 256, kernel_size=(3, 3), stride=(2, 2), padding=(1, 1))\n",
      "    (7): ReLU(inplace=True)\n",
      "  )\n",
      "  (decoder): Sequential(\n",
      "    (0): ConvTranspose2d(256, 128, kernel_size=(3, 3), stride=(2, 2), padding=(1, 1), output_padding=(1, 1))\n",
      "    (1): ReLU(inplace=True)\n",
      "    (2): ConvTranspose2d(128, 64, kernel_size=(3, 3), stride=(2, 2), padding=(1, 1), output_padding=(1, 1))\n",
      "    (3): ReLU(inplace=True)\n",
      "    (4): ConvTranspose2d(64, 32, kernel_size=(3, 3), stride=(2, 2), padding=(1, 1), output_padding=(1, 1))\n",
      "    (5): ReLU(inplace=True)\n",
      "    (6): ConvTranspose2d(32, 1, kernel_size=(5, 5), stride=(3, 3), padding=(1, 1), output_padding=(1, 1))\n",
      "  )\n",
      ")\n",
      "Number of trainable parameters: 776449\n"
     ]
    }
   ],
   "source": [
    "autoencoder = ConvAutoencoder(in_channels=1, latent_dim=12)\n",
    "print(autoencoder)\n",
    "trainable_params = sum(p.numel() for p in autoencoder.parameters() if p.requires_grad)\n",
    "print(f\"Number of trainable parameters: {trainable_params}\")\n",
    "\n",
    "criterion = nn.MSELoss()\n",
    "optimizer = optim.AdamW(autoencoder.parameters(), lr=0.00001)"
   ]
  },
  {
   "cell_type": "markdown",
   "metadata": {},
   "source": [
    "### Train the autoencoder"
   ]
  },
  {
   "cell_type": "markdown",
   "metadata": {},
   "source": [
    "The autoencoder is trained by training the network on mini-batches of data.\n",
    "The training loop consists of the following steps:\n",
    "1. Forward pass: The input data is passed through the autoencoder to obtain the output.\n",
    "2. Compute the loss: The MSE loss is computed between the output and the input.\n",
    "3. Backward pass: The gradients of the loss with respect to the weights are computed.\n",
    "4. Update the weights: The optimizer updates the weights of the network using the gradients.\n",
    "5. Repeat steps 1-4 for a set number of *epochs*.\n",
    "\n",
    "The best model corresponds to the one with the lowest loss and is saved for future use."
   ]
  },
  {
   "cell_type": "code",
   "execution_count": null,
   "metadata": {},
   "outputs": [
    {
     "data": {
      "application/vnd.jupyter.widget-view+json": {
       "model_id": "9010941b1b42478281d456a0ed69ad1e",
       "version_major": 2,
       "version_minor": 0
      },
      "text/plain": [
       "Epoch 1:   0%|          | 0/72 [00:00<?, ?it/s]"
      ]
     },
     "metadata": {},
     "output_type": "display_data"
    },
    {
     "data": {
      "application/vnd.jupyter.widget-view+json": {
       "model_id": "6c69b59a267d43efb9e2451ddfcec22f",
       "version_major": 2,
       "version_minor": 0
      },
      "text/plain": [
       "Epoch 2:   0%|          | 0/72 [00:00<?, ?it/s]"
      ]
     },
     "metadata": {},
     "output_type": "display_data"
    },
    {
     "ename": "KeyboardInterrupt",
     "evalue": "",
     "output_type": "error",
     "traceback": [
      "\u001b[31m---------------------------------------------------------------------------\u001b[39m",
      "\u001b[31mKeyboardInterrupt\u001b[39m                         Traceback (most recent call last)",
      "\u001b[36mCell\u001b[39m\u001b[36m \u001b[39m\u001b[32mIn[9]\u001b[39m\u001b[32m, line 9\u001b[39m\n\u001b[32m      6\u001b[39m \u001b[38;5;28;01mfor\u001b[39;00m epoch \u001b[38;5;129;01min\u001b[39;00m \u001b[38;5;28mrange\u001b[39m(num_epochs):\n\u001b[32m      7\u001b[39m     pbar = tqdm(dataloader, desc=\u001b[33mf\u001b[39m\u001b[33m\"\u001b[39m\u001b[33mEpoch \u001b[39m\u001b[38;5;132;01m{\u001b[39;00mepoch\u001b[38;5;250m \u001b[39m+\u001b[38;5;250m \u001b[39m\u001b[32m1\u001b[39m\u001b[38;5;132;01m}\u001b[39;00m\u001b[33m\"\u001b[39m)\n\u001b[32m----> \u001b[39m\u001b[32m9\u001b[39m \u001b[43m    \u001b[49m\u001b[38;5;28;43;01mfor\u001b[39;49;00m\u001b[43m \u001b[49m\u001b[43mx\u001b[49m\u001b[43m,\u001b[49m\u001b[43m \u001b[49m\u001b[43m_\u001b[49m\u001b[43m \u001b[49m\u001b[38;5;129;43;01min\u001b[39;49;00m\u001b[43m \u001b[49m\u001b[43mpbar\u001b[49m\u001b[43m:\u001b[49m\n\u001b[32m     10\u001b[39m \u001b[43m        \u001b[49m\u001b[43mx_r\u001b[49m\u001b[43m,\u001b[49m\u001b[43m \u001b[49m\u001b[43mz\u001b[49m\u001b[43m \u001b[49m\u001b[43m=\u001b[49m\u001b[43m \u001b[49m\u001b[43mautoencoder\u001b[49m\u001b[43m(\u001b[49m\u001b[43mx\u001b[49m\u001b[43m)\u001b[49m\n\u001b[32m     11\u001b[39m \u001b[43m        \u001b[49m\u001b[43mloss\u001b[49m\u001b[43m \u001b[49m\u001b[43m=\u001b[49m\u001b[43m \u001b[49m\u001b[43mcriterion\u001b[49m\u001b[43m(\u001b[49m\u001b[43mx_r\u001b[49m\u001b[43m,\u001b[49m\u001b[43m \u001b[49m\u001b[43mx\u001b[49m\u001b[43m)\u001b[49m\n",
      "\u001b[36mFile \u001b[39m\u001b[32m~/miniforge3/envs/audioenv/lib/python3.12/site-packages/tqdm/notebook.py:250\u001b[39m, in \u001b[36mtqdm_notebook.__iter__\u001b[39m\u001b[34m(self)\u001b[39m\n\u001b[32m    248\u001b[39m \u001b[38;5;28;01mtry\u001b[39;00m:\n\u001b[32m    249\u001b[39m     it = \u001b[38;5;28msuper\u001b[39m().\u001b[34m__iter__\u001b[39m()\n\u001b[32m--> \u001b[39m\u001b[32m250\u001b[39m \u001b[43m    \u001b[49m\u001b[38;5;28;43;01mfor\u001b[39;49;00m\u001b[43m \u001b[49m\u001b[43mobj\u001b[49m\u001b[43m \u001b[49m\u001b[38;5;129;43;01min\u001b[39;49;00m\u001b[43m \u001b[49m\u001b[43mit\u001b[49m\u001b[43m:\u001b[49m\n\u001b[32m    251\u001b[39m \u001b[43m        \u001b[49m\u001b[38;5;66;43;03m# return super(tqdm...) will not catch exception\u001b[39;49;00m\n\u001b[32m    252\u001b[39m \u001b[43m        \u001b[49m\u001b[38;5;28;43;01myield\u001b[39;49;00m\u001b[43m \u001b[49m\u001b[43mobj\u001b[49m\n\u001b[32m    253\u001b[39m \u001b[38;5;66;03m# NB: except ... [ as ...] breaks IPython async KeyboardInterrupt\u001b[39;00m\n",
      "\u001b[36mFile \u001b[39m\u001b[32m~/miniforge3/envs/audioenv/lib/python3.12/site-packages/tqdm/std.py:1181\u001b[39m, in \u001b[36mtqdm.__iter__\u001b[39m\u001b[34m(self)\u001b[39m\n\u001b[32m   1178\u001b[39m time = \u001b[38;5;28mself\u001b[39m._time\n\u001b[32m   1180\u001b[39m \u001b[38;5;28;01mtry\u001b[39;00m:\n\u001b[32m-> \u001b[39m\u001b[32m1181\u001b[39m \u001b[43m    \u001b[49m\u001b[38;5;28;43;01mfor\u001b[39;49;00m\u001b[43m \u001b[49m\u001b[43mobj\u001b[49m\u001b[43m \u001b[49m\u001b[38;5;129;43;01min\u001b[39;49;00m\u001b[43m \u001b[49m\u001b[43miterable\u001b[49m\u001b[43m:\u001b[49m\n\u001b[32m   1182\u001b[39m \u001b[43m        \u001b[49m\u001b[38;5;28;43;01myield\u001b[39;49;00m\u001b[43m \u001b[49m\u001b[43mobj\u001b[49m\n\u001b[32m   1183\u001b[39m \u001b[43m        \u001b[49m\u001b[38;5;66;43;03m# Update and possibly print the progressbar.\u001b[39;49;00m\n\u001b[32m   1184\u001b[39m \u001b[43m        \u001b[49m\u001b[38;5;66;43;03m# Note: does not call self.update(1) for speed optimisation.\u001b[39;49;00m\n",
      "\u001b[36mFile \u001b[39m\u001b[32m~/miniforge3/envs/audioenv/lib/python3.12/site-packages/torch/utils/data/dataloader.py:708\u001b[39m, in \u001b[36m_BaseDataLoaderIter.__next__\u001b[39m\u001b[34m(self)\u001b[39m\n\u001b[32m    705\u001b[39m \u001b[38;5;28;01mif\u001b[39;00m \u001b[38;5;28mself\u001b[39m._sampler_iter \u001b[38;5;129;01mis\u001b[39;00m \u001b[38;5;28;01mNone\u001b[39;00m:\n\u001b[32m    706\u001b[39m     \u001b[38;5;66;03m# TODO(https://github.com/pytorch/pytorch/issues/76750)\u001b[39;00m\n\u001b[32m    707\u001b[39m     \u001b[38;5;28mself\u001b[39m._reset()  \u001b[38;5;66;03m# type: ignore[call-arg]\u001b[39;00m\n\u001b[32m--> \u001b[39m\u001b[32m708\u001b[39m data = \u001b[38;5;28;43mself\u001b[39;49m\u001b[43m.\u001b[49m\u001b[43m_next_data\u001b[49m\u001b[43m(\u001b[49m\u001b[43m)\u001b[49m\n\u001b[32m    709\u001b[39m \u001b[38;5;28mself\u001b[39m._num_yielded += \u001b[32m1\u001b[39m\n\u001b[32m    710\u001b[39m \u001b[38;5;28;01mif\u001b[39;00m (\n\u001b[32m    711\u001b[39m     \u001b[38;5;28mself\u001b[39m._dataset_kind == _DatasetKind.Iterable\n\u001b[32m    712\u001b[39m     \u001b[38;5;129;01mand\u001b[39;00m \u001b[38;5;28mself\u001b[39m._IterableDataset_len_called \u001b[38;5;129;01mis\u001b[39;00m \u001b[38;5;129;01mnot\u001b[39;00m \u001b[38;5;28;01mNone\u001b[39;00m\n\u001b[32m    713\u001b[39m     \u001b[38;5;129;01mand\u001b[39;00m \u001b[38;5;28mself\u001b[39m._num_yielded > \u001b[38;5;28mself\u001b[39m._IterableDataset_len_called\n\u001b[32m    714\u001b[39m ):\n",
      "\u001b[36mFile \u001b[39m\u001b[32m~/miniforge3/envs/audioenv/lib/python3.12/site-packages/torch/utils/data/dataloader.py:764\u001b[39m, in \u001b[36m_SingleProcessDataLoaderIter._next_data\u001b[39m\u001b[34m(self)\u001b[39m\n\u001b[32m    762\u001b[39m \u001b[38;5;28;01mdef\u001b[39;00m\u001b[38;5;250m \u001b[39m\u001b[34m_next_data\u001b[39m(\u001b[38;5;28mself\u001b[39m):\n\u001b[32m    763\u001b[39m     index = \u001b[38;5;28mself\u001b[39m._next_index()  \u001b[38;5;66;03m# may raise StopIteration\u001b[39;00m\n\u001b[32m--> \u001b[39m\u001b[32m764\u001b[39m     data = \u001b[38;5;28;43mself\u001b[39;49m\u001b[43m.\u001b[49m\u001b[43m_dataset_fetcher\u001b[49m\u001b[43m.\u001b[49m\u001b[43mfetch\u001b[49m\u001b[43m(\u001b[49m\u001b[43mindex\u001b[49m\u001b[43m)\u001b[49m  \u001b[38;5;66;03m# may raise StopIteration\u001b[39;00m\n\u001b[32m    765\u001b[39m     \u001b[38;5;28;01mif\u001b[39;00m \u001b[38;5;28mself\u001b[39m._pin_memory:\n\u001b[32m    766\u001b[39m         data = _utils.pin_memory.pin_memory(data, \u001b[38;5;28mself\u001b[39m._pin_memory_device)\n",
      "\u001b[36mFile \u001b[39m\u001b[32m~/miniforge3/envs/audioenv/lib/python3.12/site-packages/torch/utils/data/_utils/fetch.py:52\u001b[39m, in \u001b[36m_MapDatasetFetcher.fetch\u001b[39m\u001b[34m(self, possibly_batched_index)\u001b[39m\n\u001b[32m     50\u001b[39m         data = \u001b[38;5;28mself\u001b[39m.dataset.__getitems__(possibly_batched_index)\n\u001b[32m     51\u001b[39m     \u001b[38;5;28;01melse\u001b[39;00m:\n\u001b[32m---> \u001b[39m\u001b[32m52\u001b[39m         data = [\u001b[38;5;28;43mself\u001b[39;49m\u001b[43m.\u001b[49m\u001b[43mdataset\u001b[49m\u001b[43m[\u001b[49m\u001b[43midx\u001b[49m\u001b[43m]\u001b[49m \u001b[38;5;28;01mfor\u001b[39;00m idx \u001b[38;5;129;01min\u001b[39;00m possibly_batched_index]\n\u001b[32m     53\u001b[39m \u001b[38;5;28;01melse\u001b[39;00m:\n\u001b[32m     54\u001b[39m     data = \u001b[38;5;28mself\u001b[39m.dataset[possibly_batched_index]\n",
      "\u001b[36mCell\u001b[39m\u001b[36m \u001b[39m\u001b[32mIn[4]\u001b[39m\u001b[32m, line 19\u001b[39m, in \u001b[36mAudioDataset.__getitem__\u001b[39m\u001b[34m(self, idx)\u001b[39m\n\u001b[32m     16\u001b[39m \u001b[38;5;28;01mif\u001b[39;00m \u001b[38;5;28mself\u001b[39m.transform:\n\u001b[32m     17\u001b[39m     audio_data = \u001b[38;5;28mself\u001b[39m.transform(audio_data)\n\u001b[32m---> \u001b[39m\u001b[32m19\u001b[39m \u001b[38;5;28;01mreturn\u001b[39;00m \u001b[43maudio_data\u001b[49m\u001b[43m.\u001b[49m\u001b[43mto\u001b[49m\u001b[43m(\u001b[49m\u001b[38;5;28;43mself\u001b[39;49m\u001b[43m.\u001b[49m\u001b[43mdevice\u001b[49m\u001b[43m)\u001b[49m, sample_rate\n",
      "\u001b[31mKeyboardInterrupt\u001b[39m: "
     ]
    }
   ],
   "source": [
    "autoencoder = autoencoder.to(device)\n",
    "criterion = criterion.to(device)\n",
    "num_epochs = 50\n",
    "\n",
    "best_loss = torch.inf\n",
    "for epoch in range(num_epochs):\n",
    "    pbar = tqdm(dataloader, desc=f\"Epoch {epoch + 1}\")\n",
    "\n",
    "    for x, _ in pbar:\n",
    "        x_r, z = autoencoder(x)\n",
    "        loss = criterion(x_r, x)\n",
    "\n",
    "        optimizer.zero_grad()\n",
    "        loss.backward()\n",
    "        optimizer.step()\n",
    "\n",
    "        pbar.set_postfix({\"MSE\": loss.item()})\n",
    "\n",
    "    if loss.item() < best_loss:\n",
    "        best_loss = loss.item()\n",
    "        torch.save(autoencoder.state_dict(), dataset_path.parent / \"best_model.pth\")"
   ]
  },
  {
   "cell_type": "markdown",
   "metadata": {},
   "source": [
    "### Retrieve best autoencoder model\n",
    "\n",
    "With training complete, we can now load the best model and use it to encode the data.\n",
    "The model is placed in `eval` mode for inference (i.e., only the forward pass is performed)."
   ]
  },
  {
   "cell_type": "code",
   "execution_count": null,
   "metadata": {},
   "outputs": [],
   "source": [
    "autoencoder.load_state_dict(torch.load(dataset_path.parent / \"best_model.pth\"))\n",
    "autoencoder.eval()"
   ]
  },
  {
   "cell_type": "markdown",
   "metadata": {},
   "source": [
    "### Perform inference on the data\n",
    "\n",
    "The autoencoder is used to encode the data into a lower-dimensional representation.\n",
    "Here we use the `dataloader` to iterate through the mini-batches of data and encode them using the autoencoder."
   ]
  },
  {
   "cell_type": "markdown",
   "metadata": {},
   "source": [
    "### Visualize the original data and reconstructed data"
   ]
  },
  {
   "cell_type": "code",
   "execution_count": null,
   "metadata": {},
   "outputs": [],
   "source": [
    "with torch.no_grad():\n",
    "    x, _ = next(iter(dataloader))\n",
    "    x_r, z = autoencoder(x)\n",
    "\n",
    "fig, axs = plt.subplots(ncols=3, figsize=(12, 6), gridspec_kw={\"width_ratios\": [1, 0.1, 1]})\n",
    "ax = axs[0]\n",
    "ax.imshow(x[0].cpu().numpy().squeeze(), aspect=\"auto\", origin=\"lower\", cmap=\"plasma\")\n",
    "ax.set_xlabel(\"Time bins\")\n",
    "ax.set_ylabel(\"Frequency bins\")\n",
    "ax.set_title(\"Original Spectrogram\")\n",
    "\n",
    "ax = axs[1]\n",
    "ax.imshow(z[0].cpu().numpy()[..., np.newaxis], aspect=\"auto\", origin=\"lower\")\n",
    "ax.set_xticks([])\n",
    "ax.set_xticklabels([])\n",
    "ax.set_yticks([])\n",
    "ax.set_yticklabels([])\n",
    "ax.set_title(\"Latent Embeddings\")\n",
    "\n",
    "ax = axs[2]\n",
    "ax.imshow(x_r[0].cpu().numpy().squeeze(), aspect=\"auto\", origin=\"lower\", cmap=\"plasma\")\n",
    "ax.yaxis.tick_right()\n",
    "ax.yaxis.set_label_position(\"right\")\n",
    "ax.set_xlabel(\"Time bins\")\n",
    "ax.set_ylabel(\"Frequency bins\")\n",
    "ax.set_title(\"Reconstructed Spectrogram\")\n",
    "plt.tight_layout()\n",
    "plt.show()"
   ]
  },
  {
   "cell_type": "code",
   "execution_count": null,
   "metadata": {},
   "outputs": [],
   "source": []
  },
  {
   "cell_type": "code",
   "execution_count": null,
   "metadata": {},
   "outputs": [],
   "source": []
  }
 ],
 "metadata": {
  "kernelspec": {
   "display_name": "birdsong",
   "language": "python",
   "name": "python3"
  },
  "language_info": {
   "codemirror_mode": {
    "name": "ipython",
    "version": 3
   },
   "file_extension": ".py",
   "mimetype": "text/x-python",
   "name": "python",
   "nbconvert_exporter": "python",
   "pygments_lexer": "ipython3",
   "version": "3.12.9"
  }
 },
 "nbformat": 4,
 "nbformat_minor": 2
}
