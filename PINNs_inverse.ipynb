{
 "cells": [
  {
   "cell_type": "markdown",
   "metadata": {},
   "source": [
    " ### Estime the inital conditions using PINNs (inverse problem). \n",
    "The goal of the inverse problem is to estimate the inital pressure field $p_\\text{ini}(x,y) = p(x,y,0)$ that satisfies the wave equation,\n",
    "$$\\frac{\\partial^2 p}{\\partial x^2} + \\frac{\\partial^2 p}{\\partial y^2} - \\frac{1}{c^2} \\frac{\\partial^2 p}{\\partial t^2} = 0.$$\n",
    "\n",
    "The inference of $p_\\text{ini}(x,y)$ will be based on:\n",
    "- Observed data \n",
    "- Physics via the undelying PDE\n",
    "\n",
    "We will use physics-informed neural networks (PINNs) for the task of estimating $p_\\text{ini}(x,y)$. \n",
    "We start by importing the needed packages and defining a class for the neural network as well as a few auxiliary functions."
   ]
  },
  {
   "cell_type": "code",
   "execution_count": null,
   "metadata": {},
   "outputs": [],
   "source": [
    "import numpy as np\n",
    "import torch\n",
    "import torch.nn as nn\n",
    "from tqdm import tqdm\n",
    "from PINNs_util.PINNs_fdiff import solver\n",
    "from PINNs_util.PINNs_aux import FCN,\\\n",
    "                        xyt_tensor,\\\n",
    "                        pde_residual,\\\n",
    "                        update_lambda,\\\n",
    "                        absorbing_boundary,\\\n",
    "                        rand_colloc,\\\n",
    "                        rand_bound\n",
    "from PINNs_util.PINNs_plots import plot_train_log_bound,\\\n",
    "                        plot_train_log,\\\n",
    "                        plot_field,\\\n",
    "                        plot_data,\\\n",
    "                        plot_inital_estimation,\\\n",
    "                        plot_estimation\n",
    "\n",
    "device = 'cuda:0' if torch.cuda.is_available() else 'cpu'"
   ]
  },
  {
   "cell_type": "markdown",
   "metadata": {},
   "source": [
    "### Problem setup\n",
    "We define a 2+1D domain. The spatial domain is a square of side length $L=5$ km, and the time domain has a duration $T=1.5$ s. The speed of sound is fixed to a constant value, $c=3$ km/s. The source is modelled as a Gaussian pulse of width `gpulse_std`. The source is placed inside the domain, centered at `r_source`.\n",
    "\n",
    "It is important to scale the dimensions of the domain so that none of the terms in the PDE is very large or very small. For details on this see *section 3. Non-dimensionalization* in [Wang 2023] https://doi.org/10.48550/arXiv.2308.08468 and the book *Scaling of Differential Equations* by Langtangen and Pedersen. \n",
    "\n",
    "To simulate the wave propagation, we use a python implementation of the finite difference method based on Hans Petter Langtangen book \"Finite Difference Computing with PDEs\" https://hplgit.github.io/fdm-book/doc/pub/book/sphinx/index.html. We compute and plot the reference solution."
   ]
  },
  {
   "cell_type": "code",
   "execution_count": null,
   "metadata": {},
   "outputs": [],
   "source": [
    "# define domain\n",
    "L = 5\n",
    "T = 1.5\n",
    "c = 3\n",
    "\n",
    "# scaling\n",
    "T = T*c/L\n",
    "L = L/L\n",
    "c = 1\n",
    "\n",
    "# simulation\n",
    "Lx, Ly = L, L\n",
    "Nx, Ny = 30, 30\n",
    "dt = -1\n",
    "\n",
    "# initial condition\n",
    "def I(x, y):\n",
    "    gpulse_std_x = 5e-2\n",
    "    gpulse_std_y = 10e-2\n",
    "    r_source = np.array([0.3, 0.3])\n",
    "    I = np.exp(-0.5*( ((x-r_source[0])/gpulse_std_x)**2 +\\\n",
    "                      ((y-r_source[1])/gpulse_std_y)**2 ))\n",
    "    r_source = np.array([0.5, 0.6])\n",
    "    I = I + np.exp(-0.5*( ((x-r_source[0])/gpulse_std_y)**2 +\\\n",
    "                      ((y-r_source[1])/gpulse_std_x)**2 ))\n",
    "    return I\n",
    "\n",
    "# solve\n",
    "p_ref, x, y, t, dt = solver(I, 0, 0, c, Lx, Ly, Nx, Ny, dt, T)\n",
    "p_ref, x, y, t = p_ref.astype(np.float32), x.astype(np.float32), y.astype(np.float32), t.astype(np.float32)\n",
    "\n",
    "# we need tensors\n",
    "xx, yy = np.meshgrid(x, y)\n",
    "xy = np.column_stack((np.reshape(xx,(-1,1)), np.reshape(yy,(-1,1))))\n",
    "r_ref = xyt_tensor(xy, t, device)\n",
    "n_T = t.shape[0]\n",
    "n_L = x.shape[0]\n",
    "\n",
    "# plot reference field (it might take a few seconds)\n",
    "ani = plot_field(p_ref, L, 'reference pressure')\n",
    "ani"
   ]
  },
  {
   "cell_type": "markdown",
   "metadata": {},
   "source": [
    "### Generate data\n",
    "We now define the observed data used for estimating the field. Our data will the pressure field on a number of points alinged with the x-axis (black triangles in the left figure). The observed data, called `p_data`, is shown in the rigth figure.\n",
    "In addition, we assume that we know the position, propagation direction, and shape of the source. This is enconded in two early-time snapshots (see [Rasht-Behesht 2022] https://doi.org/10.1029/2021JB023120). We will call those two spnashots `p_ini`. With this information we are ready to train our PINN. "
   ]
  },
  {
   "cell_type": "code",
   "execution_count": null,
   "metadata": {},
   "outputs": [],
   "source": [
    "i_data = 20\n",
    "x_data = xx[i_data,:]\n",
    "y_data = yy[i_data,:]\n",
    "xy_data = np.column_stack((x_data, y_data))\n",
    "r_data = xyt_tensor(xy_data, t, device)\n",
    "p_data = torch.tensor(p_ref[i_data,:,:])\n",
    "\n",
    "# Plot data\n",
    "plot_data(p_ref, p_data, x_data, y_data, L, T)\n",
    "\n",
    "p_data = p_data.to(device)\n",
    "\n",
    "# Initial condition\n",
    "t_ini = t[0:2]\n",
    "r_ini = xyt_tensor(xy, t_ini, device)\n",
    "p_ini = p_ref[:,:,0:2].reshape(-1,2)\n",
    "p_ini = torch.tensor(p_ini, device=device)"
   ]
  }
 ],
 "metadata": {
  "kernelspec": {
   "display_name": "ao-pinns-env",
   "language": "python",
   "name": "python3"
  },
  "language_info": {
   "name": "python",
   "version": "3.12.7"
  }
 },
 "nbformat": 4,
 "nbformat_minor": 2
}
